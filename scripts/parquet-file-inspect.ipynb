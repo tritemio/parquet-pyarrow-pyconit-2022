{
 "cells": [
  {
   "cell_type": "code",
   "execution_count": 1,
   "id": "53c298d3",
   "metadata": {
    "lines_to_next_cell": 2
   },
   "outputs": [
    {
     "data": {
      "text/plain": [
       "PosixPath('tiny_ingested_dataset/year=2020/month=1/0c240110-2cde-44b9-80b3-2c02a190d843-0.parquet')"
      ]
     },
     "execution_count": 1,
     "metadata": {},
     "output_type": "execute_result"
    }
   ],
   "source": [
    "from pathlib import Path\n",
    "import pyarrow.dataset as ds    # type: ignore\n",
    "import pyarrow.parquet as pq    # type: ignore\n",
    "from rich import print as rprint\n",
    "from rich.pretty import pprint\n",
    "\n",
    "path = Path('tiny_raw_dataset')\n",
    "path = Path('tiny_ingested_dataset')\n",
    "# path = Path('tiny_raw_dataset')\n",
    "\n",
    "single_file = sorted(path.glob('**/*.parquet'))[0]\n",
    "single_file"
   ]
  },
  {
   "cell_type": "markdown",
   "id": "6814ba4b",
   "metadata": {},
   "source": [
    "# Dataset read\n",
    "\n",
    "This is only a pointer to the dataset:"
   ]
  },
  {
   "cell_type": "code",
   "execution_count": 2,
   "id": "c5a134b9",
   "metadata": {},
   "outputs": [
    {
     "data": {
      "text/html": [
       "<pre style=\"white-space:pre;overflow-x:auto;line-height:normal;font-family:Menlo,'DejaVu Sans Mono',consolas,'Courier New',monospace\">datetime: timestamp<span style=\"font-weight: bold\">[</span>ns<span style=\"font-weight: bold\">]</span>\n",
       "cat_col_00: dictionary<span style=\"font-weight: bold\">&lt;</span><span style=\"color: #808000; text-decoration-color: #808000; font-weight: bold\">values</span><span style=\"color: #000000; text-decoration-color: #000000\">=</span><span style=\"color: #800080; text-decoration-color: #800080\">string</span><span style=\"color: #000000; text-decoration-color: #000000\">, </span><span style=\"color: #808000; text-decoration-color: #808000\">indices</span><span style=\"color: #000000; text-decoration-color: #000000\">=</span><span style=\"color: #800080; text-decoration-color: #800080\">int32</span><span style=\"color: #000000; text-decoration-color: #000000\">, </span><span style=\"color: #808000; text-decoration-color: #808000\">ordered</span><span style=\"color: #000000; text-decoration-color: #000000\">=</span><span style=\"color: #008080; text-decoration-color: #008080; font-weight: bold\">0</span><span style=\"font-weight: bold\">&gt;</span>\n",
       "cat_col_01: dictionary<span style=\"font-weight: bold\">&lt;</span><span style=\"color: #808000; text-decoration-color: #808000; font-weight: bold\">values</span><span style=\"color: #000000; text-decoration-color: #000000\">=</span><span style=\"color: #800080; text-decoration-color: #800080\">string</span><span style=\"color: #000000; text-decoration-color: #000000\">, </span><span style=\"color: #808000; text-decoration-color: #808000\">indices</span><span style=\"color: #000000; text-decoration-color: #000000\">=</span><span style=\"color: #800080; text-decoration-color: #800080\">int32</span><span style=\"color: #000000; text-decoration-color: #000000\">, </span><span style=\"color: #808000; text-decoration-color: #808000\">ordered</span><span style=\"color: #000000; text-decoration-color: #000000\">=</span><span style=\"color: #008080; text-decoration-color: #008080; font-weight: bold\">0</span><span style=\"font-weight: bold\">&gt;</span>\n",
       "cat_col_02: dictionary<span style=\"font-weight: bold\">&lt;</span><span style=\"color: #808000; text-decoration-color: #808000; font-weight: bold\">values</span><span style=\"color: #000000; text-decoration-color: #000000\">=</span><span style=\"color: #800080; text-decoration-color: #800080\">string</span><span style=\"color: #000000; text-decoration-color: #000000\">, </span><span style=\"color: #808000; text-decoration-color: #808000\">indices</span><span style=\"color: #000000; text-decoration-color: #000000\">=</span><span style=\"color: #800080; text-decoration-color: #800080\">int32</span><span style=\"color: #000000; text-decoration-color: #000000\">, </span><span style=\"color: #808000; text-decoration-color: #808000\">ordered</span><span style=\"color: #000000; text-decoration-color: #000000\">=</span><span style=\"color: #008080; text-decoration-color: #008080; font-weight: bold\">0</span><span style=\"font-weight: bold\">&gt;</span>\n",
       "num_col_00: double\n",
       "num_col_01: double\n",
       "num_col_02: double\n",
       "num_col_03: double\n",
       "num_col_04: double\n",
       "num_col_05: double\n",
       "num_col_06: double\n",
       "num_col_07: double\n",
       "num_col_08: double\n",
       "num_col_09: double\n",
       "batch: int64\n",
       "day: int64\n",
       "year: int32\n",
       "month: int32\n",
       "</pre>\n"
      ],
      "text/plain": [
       "datetime: timestamp\u001b[1m[\u001b[0mns\u001b[1m]\u001b[0m\n",
       "cat_col_00: dictionary\u001b[1m<\u001b[0m\u001b[1;33mvalues\u001b[0m\u001b[39m=\u001b[0m\u001b[35mstring\u001b[0m\u001b[39m, \u001b[0m\u001b[33mindices\u001b[0m\u001b[39m=\u001b[0m\u001b[35mint32\u001b[0m\u001b[39m, \u001b[0m\u001b[33mordered\u001b[0m\u001b[39m=\u001b[0m\u001b[1;36m0\u001b[0m\u001b[1m>\u001b[0m\n",
       "cat_col_01: dictionary\u001b[1m<\u001b[0m\u001b[1;33mvalues\u001b[0m\u001b[39m=\u001b[0m\u001b[35mstring\u001b[0m\u001b[39m, \u001b[0m\u001b[33mindices\u001b[0m\u001b[39m=\u001b[0m\u001b[35mint32\u001b[0m\u001b[39m, \u001b[0m\u001b[33mordered\u001b[0m\u001b[39m=\u001b[0m\u001b[1;36m0\u001b[0m\u001b[1m>\u001b[0m\n",
       "cat_col_02: dictionary\u001b[1m<\u001b[0m\u001b[1;33mvalues\u001b[0m\u001b[39m=\u001b[0m\u001b[35mstring\u001b[0m\u001b[39m, \u001b[0m\u001b[33mindices\u001b[0m\u001b[39m=\u001b[0m\u001b[35mint32\u001b[0m\u001b[39m, \u001b[0m\u001b[33mordered\u001b[0m\u001b[39m=\u001b[0m\u001b[1;36m0\u001b[0m\u001b[1m>\u001b[0m\n",
       "num_col_00: double\n",
       "num_col_01: double\n",
       "num_col_02: double\n",
       "num_col_03: double\n",
       "num_col_04: double\n",
       "num_col_05: double\n",
       "num_col_06: double\n",
       "num_col_07: double\n",
       "num_col_08: double\n",
       "num_col_09: double\n",
       "batch: int64\n",
       "day: int64\n",
       "year: int32\n",
       "month: int32\n"
      ]
     },
     "metadata": {},
     "output_type": "display_data"
    }
   ],
   "source": [
    "dataset = ds.dataset(single_file, partitioning='hive')\n",
    "rprint(dataset.schema)"
   ]
  },
  {
   "cell_type": "markdown",
   "id": "0cad373f",
   "metadata": {},
   "source": [
    "By default, a **fragment** corresponds to a parquet file,\n",
    "but, for custom built datasets, it could map to file subset:"
   ]
  },
  {
   "cell_type": "code",
   "execution_count": 3,
   "id": "bd99109b",
   "metadata": {},
   "outputs": [
    {
     "data": {
      "text/html": [
       "<pre style=\"white-space:pre;overflow-x:auto;line-height:normal;font-family:Menlo,'DejaVu Sans Mono',consolas,'Courier New',monospace\">fragment.<span style=\"color: #808000; text-decoration-color: #808000\">metadata</span>=<span style=\"font-weight: bold\">&lt;</span><span style=\"color: #ff00ff; text-decoration-color: #ff00ff; font-weight: bold\">pyarrow._parquet.FileMetaData</span><span style=\"color: #000000; text-decoration-color: #000000\"> object at </span><span style=\"color: #008080; text-decoration-color: #008080; font-weight: bold\">0x107e8d300</span><span style=\"font-weight: bold\">&gt;</span>\n",
       "  created_by: parquet-cpp-arrow version <span style=\"color: #008080; text-decoration-color: #008080; font-weight: bold\">8.0</span>.<span style=\"color: #008080; text-decoration-color: #008080; font-weight: bold\">0</span>\n",
       "  num_columns: <span style=\"color: #008080; text-decoration-color: #008080; font-weight: bold\">16</span>\n",
       "  num_rows: <span style=\"color: #008080; text-decoration-color: #008080; font-weight: bold\">10</span>\n",
       "  num_row_groups: <span style=\"color: #008080; text-decoration-color: #008080; font-weight: bold\">1</span>\n",
       "  format_version: <span style=\"color: #008080; text-decoration-color: #008080; font-weight: bold\">2.6</span>\n",
       "  serialized_size: <span style=\"color: #008080; text-decoration-color: #008080; font-weight: bold\">3326</span>\n",
       "</pre>\n"
      ],
      "text/plain": [
       "fragment.\u001b[33mmetadata\u001b[0m=\u001b[1m<\u001b[0m\u001b[1;95mpyarrow._parquet.FileMetaData\u001b[0m\u001b[39m object at \u001b[0m\u001b[1;36m0x107e8d300\u001b[0m\u001b[1m>\u001b[0m\n",
       "  created_by: parquet-cpp-arrow version \u001b[1;36m8.0\u001b[0m.\u001b[1;36m0\u001b[0m\n",
       "  num_columns: \u001b[1;36m16\u001b[0m\n",
       "  num_rows: \u001b[1;36m10\u001b[0m\n",
       "  num_row_groups: \u001b[1;36m1\u001b[0m\n",
       "  format_version: \u001b[1;36m2.6\u001b[0m\n",
       "  serialized_size: \u001b[1;36m3326\u001b[0m\n"
      ]
     },
     "metadata": {},
     "output_type": "display_data"
    }
   ],
   "source": [
    "fragment = list(dataset.get_fragments())[0]\n",
    "file = dataset.files[0]\n",
    "assert fragment.path == file\n",
    "\n",
    "rprint(f'{fragment.metadata=}')"
   ]
  },
  {
   "cell_type": "markdown",
   "id": "3952c23a",
   "metadata": {},
   "source": [
    "Number of row groups in the current file:"
   ]
  },
  {
   "cell_type": "code",
   "execution_count": 4,
   "id": "0ae7a721",
   "metadata": {},
   "outputs": [
    {
     "data": {
      "text/plain": [
       "1"
      ]
     },
     "execution_count": 4,
     "metadata": {},
     "output_type": "execute_result"
    }
   ],
   "source": [
    "fragment.metadata.num_row_groups"
   ]
  },
  {
   "cell_type": "code",
   "execution_count": 5,
   "id": "368c799d",
   "metadata": {},
   "outputs": [
    {
     "data": {
      "text/html": [
       "<pre style=\"white-space:pre;overflow-x:auto;line-height:normal;font-family:Menlo,'DejaVu Sans Mono',consolas,'Courier New',monospace\">* Row group metadata:\n",
       "<span style=\"font-weight: bold\">&lt;</span><span style=\"color: #ff00ff; text-decoration-color: #ff00ff; font-weight: bold\">pyarrow._parquet.RowGroupMetaData</span><span style=\"color: #000000; text-decoration-color: #000000\"> object at </span><span style=\"color: #008080; text-decoration-color: #008080; font-weight: bold\">0x12ec00a90</span><span style=\"font-weight: bold\">&gt;</span>\n",
       "  num_columns: <span style=\"color: #008080; text-decoration-color: #008080; font-weight: bold\">16</span>\n",
       "  num_rows: <span style=\"color: #008080; text-decoration-color: #008080; font-weight: bold\">10</span>\n",
       "  total_byte_size: <span style=\"color: #008080; text-decoration-color: #008080; font-weight: bold\">2320</span>\n",
       "</pre>\n"
      ],
      "text/plain": [
       "* Row group metadata:\n",
       "\u001b[1m<\u001b[0m\u001b[1;95mpyarrow._parquet.RowGroupMetaData\u001b[0m\u001b[39m object at \u001b[0m\u001b[1;36m0x12ec00a90\u001b[0m\u001b[1m>\u001b[0m\n",
       "  num_columns: \u001b[1;36m16\u001b[0m\n",
       "  num_rows: \u001b[1;36m10\u001b[0m\n",
       "  total_byte_size: \u001b[1;36m2320\u001b[0m\n"
      ]
     },
     "metadata": {},
     "output_type": "display_data"
    },
    {
     "data": {
      "text/html": [
       "<pre style=\"white-space:pre;overflow-x:auto;line-height:normal;font-family:Menlo,'DejaVu Sans Mono',consolas,'Courier New',monospace\">* Row group statistics:\n",
       "</pre>\n"
      ],
      "text/plain": [
       "* Row group statistics:\n"
      ]
     },
     "metadata": {},
     "output_type": "display_data"
    },
    {
     "data": {
      "text/html": [
       "<pre style=\"white-space:pre;overflow-x:auto;line-height:normal;font-family:Menlo,'DejaVu Sans Mono',consolas,'Courier New',monospace\"><span style=\"font-weight: bold\">{</span>\n",
       "<span style=\"color: #7fbf7f; text-decoration-color: #7fbf7f\">│   </span><span style=\"color: #008000; text-decoration-color: #008000\">'datetime'</span>: <span style=\"font-weight: bold\">{</span>\n",
       "<span style=\"color: #7fbf7f; text-decoration-color: #7fbf7f\">│   │   </span><span style=\"color: #008000; text-decoration-color: #008000\">'min'</span>: <span style=\"color: #800080; text-decoration-color: #800080; font-weight: bold\">Timestamp</span><span style=\"font-weight: bold\">(</span><span style=\"color: #008000; text-decoration-color: #008000\">'2020-01-10 00:00:00'</span><span style=\"font-weight: bold\">)</span>,\n",
       "<span style=\"color: #7fbf7f; text-decoration-color: #7fbf7f\">│   │   </span><span style=\"color: #008000; text-decoration-color: #008000\">'max'</span>: <span style=\"color: #800080; text-decoration-color: #800080; font-weight: bold\">Timestamp</span><span style=\"font-weight: bold\">(</span><span style=\"color: #008000; text-decoration-color: #008000\">'2020-01-10 21:36:00'</span><span style=\"font-weight: bold\">)</span>\n",
       "<span style=\"color: #7fbf7f; text-decoration-color: #7fbf7f\">│   </span><span style=\"font-weight: bold\">}</span>,\n",
       "<span style=\"color: #7fbf7f; text-decoration-color: #7fbf7f\">│   </span><span style=\"color: #008000; text-decoration-color: #008000\">'cat_col_00'</span>: <span style=\"font-weight: bold\">{</span><span style=\"color: #008000; text-decoration-color: #008000\">'min'</span>: <span style=\"color: #008000; text-decoration-color: #008000\">'bar'</span>, <span style=\"color: #008000; text-decoration-color: #008000\">'max'</span>: <span style=\"color: #008000; text-decoration-color: #008000\">'foo'</span><span style=\"font-weight: bold\">}</span>,\n",
       "<span style=\"color: #7fbf7f; text-decoration-color: #7fbf7f\">│   </span><span style=\"color: #008000; text-decoration-color: #008000\">'cat_col_01'</span>: <span style=\"font-weight: bold\">{</span><span style=\"color: #008000; text-decoration-color: #008000\">'min'</span>: <span style=\"color: #008000; text-decoration-color: #008000\">'blue'</span>, <span style=\"color: #008000; text-decoration-color: #008000\">'max'</span>: <span style=\"color: #008000; text-decoration-color: #008000\">'red'</span><span style=\"font-weight: bold\">}</span>,\n",
       "<span style=\"color: #7fbf7f; text-decoration-color: #7fbf7f\">│   </span><span style=\"color: #008000; text-decoration-color: #008000\">'cat_col_02'</span>: <span style=\"font-weight: bold\">{</span><span style=\"color: #008000; text-decoration-color: #008000\">'min'</span>: <span style=\"color: #008000; text-decoration-color: #008000\">'buzz'</span>, <span style=\"color: #008000; text-decoration-color: #008000\">'max'</span>: <span style=\"color: #008000; text-decoration-color: #008000\">'fizz'</span><span style=\"font-weight: bold\">}</span>,\n",
       "<span style=\"color: #7fbf7f; text-decoration-color: #7fbf7f\">│   </span><span style=\"color: #008000; text-decoration-color: #008000\">'num_col_00'</span>: <span style=\"font-weight: bold\">{</span><span style=\"color: #008000; text-decoration-color: #008000\">'min'</span>: <span style=\"color: #008080; text-decoration-color: #008080; font-weight: bold\">-2.110056045471277</span>, <span style=\"color: #008000; text-decoration-color: #008000\">'max'</span>: <span style=\"color: #008080; text-decoration-color: #008080; font-weight: bold\">0.8939716512923349</span><span style=\"font-weight: bold\">}</span>,\n",
       "<span style=\"color: #7fbf7f; text-decoration-color: #7fbf7f\">│   </span><span style=\"color: #008000; text-decoration-color: #008000\">'num_col_01'</span>: <span style=\"font-weight: bold\">{</span><span style=\"color: #008000; text-decoration-color: #008000\">'min'</span>: <span style=\"color: #008080; text-decoration-color: #008080; font-weight: bold\">-1.568944174498173</span>, <span style=\"color: #008000; text-decoration-color: #008000\">'max'</span>: <span style=\"color: #008080; text-decoration-color: #008080; font-weight: bold\">1.879350389846965</span><span style=\"font-weight: bold\">}</span>,\n",
       "<span style=\"color: #7fbf7f; text-decoration-color: #7fbf7f\">│   </span><span style=\"color: #008000; text-decoration-color: #008000\">'num_col_02'</span>: <span style=\"font-weight: bold\">{</span><span style=\"color: #008000; text-decoration-color: #008000\">'min'</span>: <span style=\"color: #008080; text-decoration-color: #008080; font-weight: bold\">-1.410558100187072</span>, <span style=\"color: #008000; text-decoration-color: #008000\">'max'</span>: <span style=\"color: #008080; text-decoration-color: #008080; font-weight: bold\">1.5804565960208934</span><span style=\"font-weight: bold\">}</span>,\n",
       "<span style=\"color: #7fbf7f; text-decoration-color: #7fbf7f\">│   </span><span style=\"color: #008000; text-decoration-color: #008000\">'num_col_03'</span>: <span style=\"font-weight: bold\">{</span><span style=\"color: #008000; text-decoration-color: #008000\">'min'</span>: <span style=\"color: #008080; text-decoration-color: #008080; font-weight: bold\">-1.1369827893393376</span>, <span style=\"color: #008000; text-decoration-color: #008000\">'max'</span>: <span style=\"color: #008080; text-decoration-color: #008080; font-weight: bold\">1.7943357674660545</span><span style=\"font-weight: bold\">}</span>,\n",
       "<span style=\"color: #7fbf7f; text-decoration-color: #7fbf7f\">│   </span><span style=\"color: #008000; text-decoration-color: #008000\">'num_col_04'</span>: <span style=\"font-weight: bold\">{</span><span style=\"color: #008000; text-decoration-color: #008000\">'min'</span>: <span style=\"color: #008080; text-decoration-color: #008080; font-weight: bold\">-1.7157342148490498</span>, <span style=\"color: #008000; text-decoration-color: #008000\">'max'</span>: <span style=\"color: #008080; text-decoration-color: #008080; font-weight: bold\">0.7353560663789904</span><span style=\"font-weight: bold\">}</span>,\n",
       "<span style=\"color: #7fbf7f; text-decoration-color: #7fbf7f\">│   </span><span style=\"color: #008000; text-decoration-color: #008000\">'num_col_05'</span>: <span style=\"font-weight: bold\">{</span><span style=\"color: #008000; text-decoration-color: #008000\">'min'</span>: <span style=\"color: #008080; text-decoration-color: #008080; font-weight: bold\">-0.9077183000237283</span>, <span style=\"color: #008000; text-decoration-color: #008000\">'max'</span>: <span style=\"color: #008080; text-decoration-color: #008080; font-weight: bold\">1.516597270901757</span><span style=\"font-weight: bold\">}</span>,\n",
       "<span style=\"color: #7fbf7f; text-decoration-color: #7fbf7f\">│   </span><span style=\"color: #008000; text-decoration-color: #008000\">'num_col_06'</span>: <span style=\"font-weight: bold\">{</span><span style=\"color: #008000; text-decoration-color: #008000\">'min'</span>: <span style=\"color: #008080; text-decoration-color: #008080; font-weight: bold\">-0.7914458562996477</span>, <span style=\"color: #008000; text-decoration-color: #008000\">'max'</span>: <span style=\"color: #008080; text-decoration-color: #008080; font-weight: bold\">2.0548398612597034</span><span style=\"font-weight: bold\">}</span>,\n",
       "<span style=\"color: #7fbf7f; text-decoration-color: #7fbf7f\">│   </span><span style=\"color: #008000; text-decoration-color: #008000\">'num_col_07'</span>: <span style=\"font-weight: bold\">{</span><span style=\"color: #008000; text-decoration-color: #008000\">'min'</span>: <span style=\"color: #008080; text-decoration-color: #008080; font-weight: bold\">-0.6976183740910009</span>, <span style=\"color: #008000; text-decoration-color: #008000\">'max'</span>: <span style=\"color: #008080; text-decoration-color: #008080; font-weight: bold\">0.9037517913553875</span><span style=\"font-weight: bold\">}</span>,\n",
       "<span style=\"color: #7fbf7f; text-decoration-color: #7fbf7f\">│   </span><span style=\"color: #008000; text-decoration-color: #008000\">'num_col_08'</span>: <span style=\"font-weight: bold\">{</span><span style=\"color: #008000; text-decoration-color: #008000\">'min'</span>: <span style=\"color: #008080; text-decoration-color: #008080; font-weight: bold\">-1.6386302265529098</span>, <span style=\"color: #008000; text-decoration-color: #008000\">'max'</span>: <span style=\"color: #008080; text-decoration-color: #008080; font-weight: bold\">1.363856630019318</span><span style=\"font-weight: bold\">}</span>,\n",
       "<span style=\"color: #7fbf7f; text-decoration-color: #7fbf7f\">│   </span><span style=\"color: #008000; text-decoration-color: #008000\">'num_col_09'</span>: <span style=\"font-weight: bold\">{</span><span style=\"color: #008000; text-decoration-color: #008000\">'min'</span>: <span style=\"color: #008080; text-decoration-color: #008080; font-weight: bold\">-0.9742933822826597</span>, <span style=\"color: #008000; text-decoration-color: #008000\">'max'</span>: <span style=\"color: #008080; text-decoration-color: #008080; font-weight: bold\">1.7746551065417</span><span style=\"font-weight: bold\">}</span>,\n",
       "<span style=\"color: #7fbf7f; text-decoration-color: #7fbf7f\">│   </span><span style=\"color: #008000; text-decoration-color: #008000\">'batch'</span>: <span style=\"font-weight: bold\">{</span><span style=\"color: #008000; text-decoration-color: #008000\">'min'</span>: <span style=\"color: #008080; text-decoration-color: #008080; font-weight: bold\">9</span>, <span style=\"color: #008000; text-decoration-color: #008000\">'max'</span>: <span style=\"color: #008080; text-decoration-color: #008080; font-weight: bold\">9</span><span style=\"font-weight: bold\">}</span>,\n",
       "<span style=\"color: #7fbf7f; text-decoration-color: #7fbf7f\">│   </span><span style=\"color: #008000; text-decoration-color: #008000\">'day'</span>: <span style=\"font-weight: bold\">{</span><span style=\"color: #008000; text-decoration-color: #008000\">'min'</span>: <span style=\"color: #008080; text-decoration-color: #008080; font-weight: bold\">10</span>, <span style=\"color: #008000; text-decoration-color: #008000\">'max'</span>: <span style=\"color: #008080; text-decoration-color: #008080; font-weight: bold\">10</span><span style=\"font-weight: bold\">}</span>\n",
       "<span style=\"font-weight: bold\">}</span>\n",
       "</pre>\n"
      ],
      "text/plain": [
       "\u001b[1m{\u001b[0m\n",
       "\u001b[2;32m│   \u001b[0m\u001b[32m'datetime'\u001b[0m: \u001b[1m{\u001b[0m\n",
       "\u001b[2;32m│   │   \u001b[0m\u001b[32m'min'\u001b[0m: \u001b[1;35mTimestamp\u001b[0m\u001b[1m(\u001b[0m\u001b[32m'2020-01-10 00:00:00'\u001b[0m\u001b[1m)\u001b[0m,\n",
       "\u001b[2;32m│   │   \u001b[0m\u001b[32m'max'\u001b[0m: \u001b[1;35mTimestamp\u001b[0m\u001b[1m(\u001b[0m\u001b[32m'2020-01-10 21:36:00'\u001b[0m\u001b[1m)\u001b[0m\n",
       "\u001b[2;32m│   \u001b[0m\u001b[1m}\u001b[0m,\n",
       "\u001b[2;32m│   \u001b[0m\u001b[32m'cat_col_00'\u001b[0m: \u001b[1m{\u001b[0m\u001b[32m'min'\u001b[0m: \u001b[32m'bar'\u001b[0m, \u001b[32m'max'\u001b[0m: \u001b[32m'foo'\u001b[0m\u001b[1m}\u001b[0m,\n",
       "\u001b[2;32m│   \u001b[0m\u001b[32m'cat_col_01'\u001b[0m: \u001b[1m{\u001b[0m\u001b[32m'min'\u001b[0m: \u001b[32m'blue'\u001b[0m, \u001b[32m'max'\u001b[0m: \u001b[32m'red'\u001b[0m\u001b[1m}\u001b[0m,\n",
       "\u001b[2;32m│   \u001b[0m\u001b[32m'cat_col_02'\u001b[0m: \u001b[1m{\u001b[0m\u001b[32m'min'\u001b[0m: \u001b[32m'buzz'\u001b[0m, \u001b[32m'max'\u001b[0m: \u001b[32m'fizz'\u001b[0m\u001b[1m}\u001b[0m,\n",
       "\u001b[2;32m│   \u001b[0m\u001b[32m'num_col_00'\u001b[0m: \u001b[1m{\u001b[0m\u001b[32m'min'\u001b[0m: \u001b[1;36m-2.110056045471277\u001b[0m, \u001b[32m'max'\u001b[0m: \u001b[1;36m0.8939716512923349\u001b[0m\u001b[1m}\u001b[0m,\n",
       "\u001b[2;32m│   \u001b[0m\u001b[32m'num_col_01'\u001b[0m: \u001b[1m{\u001b[0m\u001b[32m'min'\u001b[0m: \u001b[1;36m-1.568944174498173\u001b[0m, \u001b[32m'max'\u001b[0m: \u001b[1;36m1.879350389846965\u001b[0m\u001b[1m}\u001b[0m,\n",
       "\u001b[2;32m│   \u001b[0m\u001b[32m'num_col_02'\u001b[0m: \u001b[1m{\u001b[0m\u001b[32m'min'\u001b[0m: \u001b[1;36m-1.410558100187072\u001b[0m, \u001b[32m'max'\u001b[0m: \u001b[1;36m1.5804565960208934\u001b[0m\u001b[1m}\u001b[0m,\n",
       "\u001b[2;32m│   \u001b[0m\u001b[32m'num_col_03'\u001b[0m: \u001b[1m{\u001b[0m\u001b[32m'min'\u001b[0m: \u001b[1;36m-1.1369827893393376\u001b[0m, \u001b[32m'max'\u001b[0m: \u001b[1;36m1.7943357674660545\u001b[0m\u001b[1m}\u001b[0m,\n",
       "\u001b[2;32m│   \u001b[0m\u001b[32m'num_col_04'\u001b[0m: \u001b[1m{\u001b[0m\u001b[32m'min'\u001b[0m: \u001b[1;36m-1.7157342148490498\u001b[0m, \u001b[32m'max'\u001b[0m: \u001b[1;36m0.7353560663789904\u001b[0m\u001b[1m}\u001b[0m,\n",
       "\u001b[2;32m│   \u001b[0m\u001b[32m'num_col_05'\u001b[0m: \u001b[1m{\u001b[0m\u001b[32m'min'\u001b[0m: \u001b[1;36m-0.9077183000237283\u001b[0m, \u001b[32m'max'\u001b[0m: \u001b[1;36m1.516597270901757\u001b[0m\u001b[1m}\u001b[0m,\n",
       "\u001b[2;32m│   \u001b[0m\u001b[32m'num_col_06'\u001b[0m: \u001b[1m{\u001b[0m\u001b[32m'min'\u001b[0m: \u001b[1;36m-0.7914458562996477\u001b[0m, \u001b[32m'max'\u001b[0m: \u001b[1;36m2.0548398612597034\u001b[0m\u001b[1m}\u001b[0m,\n",
       "\u001b[2;32m│   \u001b[0m\u001b[32m'num_col_07'\u001b[0m: \u001b[1m{\u001b[0m\u001b[32m'min'\u001b[0m: \u001b[1;36m-0.6976183740910009\u001b[0m, \u001b[32m'max'\u001b[0m: \u001b[1;36m0.9037517913553875\u001b[0m\u001b[1m}\u001b[0m,\n",
       "\u001b[2;32m│   \u001b[0m\u001b[32m'num_col_08'\u001b[0m: \u001b[1m{\u001b[0m\u001b[32m'min'\u001b[0m: \u001b[1;36m-1.6386302265529098\u001b[0m, \u001b[32m'max'\u001b[0m: \u001b[1;36m1.363856630019318\u001b[0m\u001b[1m}\u001b[0m,\n",
       "\u001b[2;32m│   \u001b[0m\u001b[32m'num_col_09'\u001b[0m: \u001b[1m{\u001b[0m\u001b[32m'min'\u001b[0m: \u001b[1;36m-0.9742933822826597\u001b[0m, \u001b[32m'max'\u001b[0m: \u001b[1;36m1.7746551065417\u001b[0m\u001b[1m}\u001b[0m,\n",
       "\u001b[2;32m│   \u001b[0m\u001b[32m'batch'\u001b[0m: \u001b[1m{\u001b[0m\u001b[32m'min'\u001b[0m: \u001b[1;36m9\u001b[0m, \u001b[32m'max'\u001b[0m: \u001b[1;36m9\u001b[0m\u001b[1m}\u001b[0m,\n",
       "\u001b[2;32m│   \u001b[0m\u001b[32m'day'\u001b[0m: \u001b[1m{\u001b[0m\u001b[32m'min'\u001b[0m: \u001b[1;36m10\u001b[0m, \u001b[32m'max'\u001b[0m: \u001b[1;36m10\u001b[0m\u001b[1m}\u001b[0m\n",
       "\u001b[1m}\u001b[0m\n"
      ]
     },
     "metadata": {},
     "output_type": "display_data"
    }
   ],
   "source": [
    "row_group = fragment.row_groups[0]\n",
    "\n",
    "rprint(f'* Row group metadata:\\n{row_group.metadata}')\n",
    "rprint('* Row group statistics:')\n",
    "pprint(row_group.statistics)"
   ]
  },
  {
   "cell_type": "markdown",
   "id": "33cdb773",
   "metadata": {},
   "source": [
    "# Pandas"
   ]
  },
  {
   "cell_type": "code",
   "execution_count": 6,
   "id": "1bde15ac",
   "metadata": {},
   "outputs": [],
   "source": [
    "import pandas as pd"
   ]
  },
  {
   "cell_type": "code",
   "execution_count": 7,
   "id": "a8ffa387",
   "metadata": {},
   "outputs": [],
   "source": [
    "pd.options.display.max_columns = 10"
   ]
  },
  {
   "cell_type": "code",
   "execution_count": 8,
   "id": "0b892af0",
   "metadata": {},
   "outputs": [
    {
     "data": {
      "text/html": [
       "<div>\n",
       "<style scoped>\n",
       "    .dataframe tbody tr th:only-of-type {\n",
       "        vertical-align: middle;\n",
       "    }\n",
       "\n",
       "    .dataframe tbody tr th {\n",
       "        vertical-align: top;\n",
       "    }\n",
       "\n",
       "    .dataframe thead th {\n",
       "        text-align: right;\n",
       "    }\n",
       "</style>\n",
       "<table border=\"1\" class=\"dataframe\">\n",
       "  <thead>\n",
       "    <tr style=\"text-align: right;\">\n",
       "      <th></th>\n",
       "      <th>datetime</th>\n",
       "      <th>cat_col_00</th>\n",
       "      <th>cat_col_01</th>\n",
       "      <th>cat_col_02</th>\n",
       "      <th>num_col_00</th>\n",
       "      <th>...</th>\n",
       "      <th>num_col_09</th>\n",
       "      <th>batch</th>\n",
       "      <th>day</th>\n",
       "      <th>year</th>\n",
       "      <th>month</th>\n",
       "    </tr>\n",
       "  </thead>\n",
       "  <tbody>\n",
       "    <tr>\n",
       "      <th>0</th>\n",
       "      <td>2020-01-10 00:00:00</td>\n",
       "      <td>baz</td>\n",
       "      <td>red</td>\n",
       "      <td>fizz</td>\n",
       "      <td>-1.236827</td>\n",
       "      <td>...</td>\n",
       "      <td>-0.165189</td>\n",
       "      <td>9</td>\n",
       "      <td>10</td>\n",
       "      <td>2020</td>\n",
       "      <td>1</td>\n",
       "    </tr>\n",
       "    <tr>\n",
       "      <th>1</th>\n",
       "      <td>2020-01-10 02:24:00</td>\n",
       "      <td>foo</td>\n",
       "      <td>green</td>\n",
       "      <td>fizz</td>\n",
       "      <td>-0.989829</td>\n",
       "      <td>...</td>\n",
       "      <td>-0.974293</td>\n",
       "      <td>9</td>\n",
       "      <td>10</td>\n",
       "      <td>2020</td>\n",
       "      <td>1</td>\n",
       "    </tr>\n",
       "    <tr>\n",
       "      <th>2</th>\n",
       "      <td>2020-01-10 04:48:00</td>\n",
       "      <td>bar</td>\n",
       "      <td>blue</td>\n",
       "      <td>fizz</td>\n",
       "      <td>-0.857038</td>\n",
       "      <td>...</td>\n",
       "      <td>0.651265</td>\n",
       "      <td>9</td>\n",
       "      <td>10</td>\n",
       "      <td>2020</td>\n",
       "      <td>1</td>\n",
       "    </tr>\n",
       "  </tbody>\n",
       "</table>\n",
       "<p>3 rows × 18 columns</p>\n",
       "</div>"
      ],
      "text/plain": [
       "             datetime cat_col_00 cat_col_01 cat_col_02  num_col_00  ...  \\\n",
       "0 2020-01-10 00:00:00        baz        red       fizz   -1.236827  ...   \n",
       "1 2020-01-10 02:24:00        foo      green       fizz   -0.989829  ...   \n",
       "2 2020-01-10 04:48:00        bar       blue       fizz   -0.857038  ...   \n",
       "\n",
       "   num_col_09  batch  day  year  month  \n",
       "0   -0.165189      9   10  2020      1  \n",
       "1   -0.974293      9   10  2020      1  \n",
       "2    0.651265      9   10  2020      1  \n",
       "\n",
       "[3 rows x 18 columns]"
      ]
     },
     "execution_count": 8,
     "metadata": {},
     "output_type": "execute_result"
    }
   ],
   "source": [
    "df = dataset.to_table().to_pandas()\n",
    "df.head(3)"
   ]
  },
  {
   "cell_type": "markdown",
   "id": "39e51b1a",
   "metadata": {},
   "source": [
    "\n",
    "A pointer to a single parquet file"
   ]
  },
  {
   "cell_type": "code",
   "execution_count": 10,
   "id": "864ed59c",
   "metadata": {
    "lines_to_next_cell": 0
   },
   "outputs": [
    {
     "data": {
      "text/html": [
       "<pre style=\"white-space:pre;overflow-x:auto;line-height:normal;font-family:Menlo,'DejaVu Sans Mono',consolas,'Courier New',monospace\">* Parquet File Schema:\n",
       "<span style=\"font-weight: bold\">&lt;</span><span style=\"color: #ff00ff; text-decoration-color: #ff00ff; font-weight: bold\">pyarrow._parquet.ParquetSchema</span><span style=\"color: #000000; text-decoration-color: #000000\"> object at </span><span style=\"color: #008080; text-decoration-color: #008080; font-weight: bold\">0x12fa01e40</span><span style=\"font-weight: bold\">&gt;</span>\n",
       "required group <span style=\"color: #808000; text-decoration-color: #808000\">field_id</span>=<span style=\"color: #008080; text-decoration-color: #008080; font-weight: bold\">-1</span> schema <span style=\"font-weight: bold\">{</span>\n",
       "  optional int64 <span style=\"color: #808000; text-decoration-color: #808000\">field_id</span>=<span style=\"color: #008080; text-decoration-color: #008080; font-weight: bold\">-1</span> datetime <span style=\"font-weight: bold\">(</span><span style=\"color: #800080; text-decoration-color: #800080; font-weight: bold\">Timestamp</span><span style=\"font-weight: bold\">(</span><span style=\"color: #808000; text-decoration-color: #808000\">isAdjustedToUTC</span>=<span style=\"color: #800080; text-decoration-color: #800080\">false</span>, <span style=\"color: #808000; text-decoration-color: #808000\">timeUnit</span>=<span style=\"color: #800080; text-decoration-color: #800080\">nanoseconds</span>,\n",
       "<span style=\"color: #808000; text-decoration-color: #808000\">is_from_converted_type</span>=<span style=\"color: #800080; text-decoration-color: #800080\">false</span>, <span style=\"color: #808000; text-decoration-color: #808000\">force_set_converted_type</span>=<span style=\"color: #800080; text-decoration-color: #800080\">false</span><span style=\"font-weight: bold\">))</span>;\n",
       "  optional binary <span style=\"color: #808000; text-decoration-color: #808000\">field_id</span>=<span style=\"color: #008080; text-decoration-color: #008080; font-weight: bold\">-1</span> cat_col_00 <span style=\"font-weight: bold\">(</span>String<span style=\"font-weight: bold\">)</span>;\n",
       "  optional binary <span style=\"color: #808000; text-decoration-color: #808000\">field_id</span>=<span style=\"color: #008080; text-decoration-color: #008080; font-weight: bold\">-1</span> cat_col_01 <span style=\"font-weight: bold\">(</span>String<span style=\"font-weight: bold\">)</span>;\n",
       "  optional binary <span style=\"color: #808000; text-decoration-color: #808000\">field_id</span>=<span style=\"color: #008080; text-decoration-color: #008080; font-weight: bold\">-1</span> cat_col_02 <span style=\"font-weight: bold\">(</span>String<span style=\"font-weight: bold\">)</span>;\n",
       "  optional double <span style=\"color: #808000; text-decoration-color: #808000\">field_id</span>=<span style=\"color: #008080; text-decoration-color: #008080; font-weight: bold\">-1</span> num_col_00;\n",
       "  optional double <span style=\"color: #808000; text-decoration-color: #808000\">field_id</span>=<span style=\"color: #008080; text-decoration-color: #008080; font-weight: bold\">-1</span> num_col_01;\n",
       "  optional double <span style=\"color: #808000; text-decoration-color: #808000\">field_id</span>=<span style=\"color: #008080; text-decoration-color: #008080; font-weight: bold\">-1</span> num_col_02;\n",
       "  optional double <span style=\"color: #808000; text-decoration-color: #808000\">field_id</span>=<span style=\"color: #008080; text-decoration-color: #008080; font-weight: bold\">-1</span> num_col_03;\n",
       "  optional double <span style=\"color: #808000; text-decoration-color: #808000\">field_id</span>=<span style=\"color: #008080; text-decoration-color: #008080; font-weight: bold\">-1</span> num_col_04;\n",
       "  optional double <span style=\"color: #808000; text-decoration-color: #808000\">field_id</span>=<span style=\"color: #008080; text-decoration-color: #008080; font-weight: bold\">-1</span> num_col_05;\n",
       "  optional double <span style=\"color: #808000; text-decoration-color: #808000\">field_id</span>=<span style=\"color: #008080; text-decoration-color: #008080; font-weight: bold\">-1</span> num_col_06;\n",
       "  optional double <span style=\"color: #808000; text-decoration-color: #808000\">field_id</span>=<span style=\"color: #008080; text-decoration-color: #008080; font-weight: bold\">-1</span> num_col_07;\n",
       "  optional double <span style=\"color: #808000; text-decoration-color: #808000\">field_id</span>=<span style=\"color: #008080; text-decoration-color: #008080; font-weight: bold\">-1</span> num_col_08;\n",
       "  optional double <span style=\"color: #808000; text-decoration-color: #808000\">field_id</span>=<span style=\"color: #008080; text-decoration-color: #008080; font-weight: bold\">-1</span> num_col_09;\n",
       "  optional int64 <span style=\"color: #808000; text-decoration-color: #808000\">field_id</span>=<span style=\"color: #008080; text-decoration-color: #008080; font-weight: bold\">-1</span> batch;\n",
       "  optional int64 <span style=\"color: #808000; text-decoration-color: #808000\">field_id</span>=<span style=\"color: #008080; text-decoration-color: #008080; font-weight: bold\">-1</span> day;\n",
       "<span style=\"font-weight: bold\">}</span>\n",
       "\n",
       "\n",
       "</pre>\n"
      ],
      "text/plain": [
       "* Parquet File Schema:\n",
       "\u001b[1m<\u001b[0m\u001b[1;95mpyarrow._parquet.ParquetSchema\u001b[0m\u001b[39m object at \u001b[0m\u001b[1;36m0x12fa01e40\u001b[0m\u001b[1m>\u001b[0m\n",
       "required group \u001b[33mfield_id\u001b[0m=\u001b[1;36m-1\u001b[0m schema \u001b[1m{\u001b[0m\n",
       "  optional int64 \u001b[33mfield_id\u001b[0m=\u001b[1;36m-1\u001b[0m datetime \u001b[1m(\u001b[0m\u001b[1;35mTimestamp\u001b[0m\u001b[1m(\u001b[0m\u001b[33misAdjustedToUTC\u001b[0m=\u001b[35mfalse\u001b[0m, \u001b[33mtimeUnit\u001b[0m=\u001b[35mnanoseconds\u001b[0m,\n",
       "\u001b[33mis_from_converted_type\u001b[0m=\u001b[35mfalse\u001b[0m, \u001b[33mforce_set_converted_type\u001b[0m=\u001b[35mfalse\u001b[0m\u001b[1m)\u001b[0m\u001b[1m)\u001b[0m;\n",
       "  optional binary \u001b[33mfield_id\u001b[0m=\u001b[1;36m-1\u001b[0m cat_col_00 \u001b[1m(\u001b[0mString\u001b[1m)\u001b[0m;\n",
       "  optional binary \u001b[33mfield_id\u001b[0m=\u001b[1;36m-1\u001b[0m cat_col_01 \u001b[1m(\u001b[0mString\u001b[1m)\u001b[0m;\n",
       "  optional binary \u001b[33mfield_id\u001b[0m=\u001b[1;36m-1\u001b[0m cat_col_02 \u001b[1m(\u001b[0mString\u001b[1m)\u001b[0m;\n",
       "  optional double \u001b[33mfield_id\u001b[0m=\u001b[1;36m-1\u001b[0m num_col_00;\n",
       "  optional double \u001b[33mfield_id\u001b[0m=\u001b[1;36m-1\u001b[0m num_col_01;\n",
       "  optional double \u001b[33mfield_id\u001b[0m=\u001b[1;36m-1\u001b[0m num_col_02;\n",
       "  optional double \u001b[33mfield_id\u001b[0m=\u001b[1;36m-1\u001b[0m num_col_03;\n",
       "  optional double \u001b[33mfield_id\u001b[0m=\u001b[1;36m-1\u001b[0m num_col_04;\n",
       "  optional double \u001b[33mfield_id\u001b[0m=\u001b[1;36m-1\u001b[0m num_col_05;\n",
       "  optional double \u001b[33mfield_id\u001b[0m=\u001b[1;36m-1\u001b[0m num_col_06;\n",
       "  optional double \u001b[33mfield_id\u001b[0m=\u001b[1;36m-1\u001b[0m num_col_07;\n",
       "  optional double \u001b[33mfield_id\u001b[0m=\u001b[1;36m-1\u001b[0m num_col_08;\n",
       "  optional double \u001b[33mfield_id\u001b[0m=\u001b[1;36m-1\u001b[0m num_col_09;\n",
       "  optional int64 \u001b[33mfield_id\u001b[0m=\u001b[1;36m-1\u001b[0m batch;\n",
       "  optional int64 \u001b[33mfield_id\u001b[0m=\u001b[1;36m-1\u001b[0m day;\n",
       "\u001b[1m}\u001b[0m\n",
       "\n",
       "\n"
      ]
     },
     "metadata": {},
     "output_type": "display_data"
    },
    {
     "data": {
      "text/html": [
       "<pre style=\"white-space:pre;overflow-x:auto;line-height:normal;font-family:Menlo,'DejaVu Sans Mono',consolas,'Courier New',monospace\">* Parquet File Metadata:\n",
       "<span style=\"font-weight: bold\">&lt;</span><span style=\"color: #ff00ff; text-decoration-color: #ff00ff; font-weight: bold\">pyarrow._parquet.FileMetaData</span><span style=\"color: #000000; text-decoration-color: #000000\"> object at </span><span style=\"color: #008080; text-decoration-color: #008080; font-weight: bold\">0x12ec30400</span><span style=\"font-weight: bold\">&gt;</span>\n",
       "  created_by: parquet-cpp-arrow version <span style=\"color: #008080; text-decoration-color: #008080; font-weight: bold\">8.0</span>.<span style=\"color: #008080; text-decoration-color: #008080; font-weight: bold\">0</span>\n",
       "  num_columns: <span style=\"color: #008080; text-decoration-color: #008080; font-weight: bold\">16</span>\n",
       "  num_rows: <span style=\"color: #008080; text-decoration-color: #008080; font-weight: bold\">10</span>\n",
       "  num_row_groups: <span style=\"color: #008080; text-decoration-color: #008080; font-weight: bold\">1</span>\n",
       "  format_version: <span style=\"color: #008080; text-decoration-color: #008080; font-weight: bold\">2.6</span>\n",
       "  serialized_size: <span style=\"color: #008080; text-decoration-color: #008080; font-weight: bold\">3326</span>\n",
       "\n",
       "</pre>\n"
      ],
      "text/plain": [
       "* Parquet File Metadata:\n",
       "\u001b[1m<\u001b[0m\u001b[1;95mpyarrow._parquet.FileMetaData\u001b[0m\u001b[39m object at \u001b[0m\u001b[1;36m0x12ec30400\u001b[0m\u001b[1m>\u001b[0m\n",
       "  created_by: parquet-cpp-arrow version \u001b[1;36m8.0\u001b[0m.\u001b[1;36m0\u001b[0m\n",
       "  num_columns: \u001b[1;36m16\u001b[0m\n",
       "  num_rows: \u001b[1;36m10\u001b[0m\n",
       "  num_row_groups: \u001b[1;36m1\u001b[0m\n",
       "  format_version: \u001b[1;36m2.6\u001b[0m\n",
       "  serialized_size: \u001b[1;36m3326\u001b[0m\n",
       "\n"
      ]
     },
     "metadata": {},
     "output_type": "display_data"
    }
   ],
   "source": [
    "parquet_file = pq.ParquetFile(single_file)\n",
    "rprint(f'* Parquet File Schema:\\n{parquet_file.schema}\\n')\n",
    "rprint(f'* Parquet File Metadata:\\n{parquet_file.metadata}\\n')"
   ]
  },
  {
   "cell_type": "code",
   "execution_count": null,
   "id": "e9a63aa1",
   "metadata": {},
   "outputs": [],
   "source": []
  },
  {
   "cell_type": "code",
   "execution_count": null,
   "id": "8fe01a8e",
   "metadata": {},
   "outputs": [],
   "source": []
  }
 ],
 "metadata": {
  "interpreter": {
   "hash": "5fd27200fc76fd1ac14b85cadd2a1e75230a9fa5a037d1ebc77cb53d0d127a04"
  },
  "jupytext": {
   "cell_metadata_filter": "-all",
   "main_language": "python",
   "notebook_metadata_filter": "-all"
  },
  "kernelspec": {
   "display_name": "Python 3 (ipykernel)",
   "language": "python",
   "name": "python3"
  },
  "language_info": {
   "codemirror_mode": {
    "name": "ipython",
    "version": 3
   },
   "file_extension": ".py",
   "mimetype": "text/x-python",
   "name": "python",
   "nbconvert_exporter": "python",
   "pygments_lexer": "ipython3",
   "version": "3.10.4"
  }
 },
 "nbformat": 4,
 "nbformat_minor": 5
}

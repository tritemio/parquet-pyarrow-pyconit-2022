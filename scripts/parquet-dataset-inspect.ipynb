{
 "cells": [
  {
   "cell_type": "code",
   "execution_count": 98,
   "id": "53c298d3",
   "metadata": {
    "lines_to_next_cell": 2
   },
   "outputs": [
    {
     "name": "stdout",
     "output_type": "stream",
     "text": [
      "tiny_compacted_dataset\r\n",
      "└── year=2020\r\n",
      "    ├── month=1\r\n",
      "    │   └── d4293db4-e00b-4a41-8c64-4c2a05af9f4a-0.parquet\r\n",
      "    ├── month=2\r\n",
      "    │   └── d4293db4-e00b-4a41-8c64-4c2a05af9f4a-0.parquet\r\n",
      "    ├── month=3\r\n",
      "    │   └── d4293db4-e00b-4a41-8c64-4c2a05af9f4a-0.parquet\r\n",
      "    └── month=4\r\n",
      "        └── d4293db4-e00b-4a41-8c64-4c2a05af9f4a-0.parquet\r\n",
      "\r\n",
      "5 directories, 4 files\r\n"
     ]
    }
   ],
   "source": [
    "from pathlib import Path\n",
    "import pyarrow as pa\n",
    "import pyarrow.compute as pc   \n",
    "import pyarrow.dataset as ds   \n",
    "import pyarrow.parquet as pq   \n",
    "from rich import print as rprint\n",
    "from rich.pretty import pprint\n",
    "\n",
    "# path = Path('large2_raw_dataset')\n",
    "path = Path('tiny_ingested_dataset')\n",
    "path = Path('tiny_compacted_dataset')\n",
    "\n",
    "!tree $path | head -n 100"
   ]
  },
  {
   "cell_type": "markdown",
   "id": "6814ba4b",
   "metadata": {},
   "source": [
    "# Dataset read\n",
    "\n",
    "This is only a pointer to the dataset:"
   ]
  },
  {
   "cell_type": "code",
   "execution_count": 80,
   "id": "c5a134b9",
   "metadata": {},
   "outputs": [
    {
     "data": {
      "text/html": [
       "<pre style=\"white-space:pre;overflow-x:auto;line-height:normal;font-family:Menlo,'DejaVu Sans Mono',consolas,'Courier New',monospace\">Dataset files: <span style=\"color: #008080; text-decoration-color: #008080; font-weight: bold\">3000</span>\n",
       "</pre>\n"
      ],
      "text/plain": [
       "Dataset files: \u001b[1;36m3000\u001b[0m\n"
      ]
     },
     "metadata": {},
     "output_type": "display_data"
    },
    {
     "data": {
      "text/html": [
       "<pre style=\"white-space:pre;overflow-x:auto;line-height:normal;font-family:Menlo,'DejaVu Sans Mono',consolas,'Courier New',monospace\">datetime: timestamp<span style=\"font-weight: bold\">[</span>ns<span style=\"font-weight: bold\">]</span>\n",
       "cat_col_00: dictionary<span style=\"font-weight: bold\">&lt;</span><span style=\"color: #808000; text-decoration-color: #808000; font-weight: bold\">values</span><span style=\"color: #000000; text-decoration-color: #000000\">=</span><span style=\"color: #800080; text-decoration-color: #800080\">string</span><span style=\"color: #000000; text-decoration-color: #000000\">, </span><span style=\"color: #808000; text-decoration-color: #808000\">indices</span><span style=\"color: #000000; text-decoration-color: #000000\">=</span><span style=\"color: #800080; text-decoration-color: #800080\">int32</span><span style=\"color: #000000; text-decoration-color: #000000\">, </span><span style=\"color: #808000; text-decoration-color: #808000\">ordered</span><span style=\"color: #000000; text-decoration-color: #000000\">=</span><span style=\"color: #008080; text-decoration-color: #008080; font-weight: bold\">0</span><span style=\"font-weight: bold\">&gt;</span>\n",
       "cat_col_01: dictionary<span style=\"font-weight: bold\">&lt;</span><span style=\"color: #808000; text-decoration-color: #808000; font-weight: bold\">values</span><span style=\"color: #000000; text-decoration-color: #000000\">=</span><span style=\"color: #800080; text-decoration-color: #800080\">string</span><span style=\"color: #000000; text-decoration-color: #000000\">, </span><span style=\"color: #808000; text-decoration-color: #808000\">indices</span><span style=\"color: #000000; text-decoration-color: #000000\">=</span><span style=\"color: #800080; text-decoration-color: #800080\">int32</span><span style=\"color: #000000; text-decoration-color: #000000\">, </span><span style=\"color: #808000; text-decoration-color: #808000\">ordered</span><span style=\"color: #000000; text-decoration-color: #000000\">=</span><span style=\"color: #008080; text-decoration-color: #008080; font-weight: bold\">0</span><span style=\"font-weight: bold\">&gt;</span>\n",
       "cat_col_02: dictionary<span style=\"font-weight: bold\">&lt;</span><span style=\"color: #808000; text-decoration-color: #808000; font-weight: bold\">values</span><span style=\"color: #000000; text-decoration-color: #000000\">=</span><span style=\"color: #800080; text-decoration-color: #800080\">string</span><span style=\"color: #000000; text-decoration-color: #000000\">, </span><span style=\"color: #808000; text-decoration-color: #808000\">indices</span><span style=\"color: #000000; text-decoration-color: #000000\">=</span><span style=\"color: #800080; text-decoration-color: #800080\">int32</span><span style=\"color: #000000; text-decoration-color: #000000\">, </span><span style=\"color: #808000; text-decoration-color: #808000\">ordered</span><span style=\"color: #000000; text-decoration-color: #000000\">=</span><span style=\"color: #008080; text-decoration-color: #008080; font-weight: bold\">0</span><span style=\"font-weight: bold\">&gt;</span>\n",
       "num_col_00: double\n",
       "num_col_01: double\n",
       "num_col_02: double\n",
       "num_col_03: double\n",
       "num_col_04: double\n",
       "num_col_05: double\n",
       "num_col_06: double\n",
       "num_col_07: double\n",
       "num_col_08: double\n",
       "num_col_09: double\n",
       "batch: int64\n",
       "day: int64\n",
       "year: int32\n",
       "month: int32\n",
       "</pre>\n"
      ],
      "text/plain": [
       "datetime: timestamp\u001b[1m[\u001b[0mns\u001b[1m]\u001b[0m\n",
       "cat_col_00: dictionary\u001b[1m<\u001b[0m\u001b[1;33mvalues\u001b[0m\u001b[39m=\u001b[0m\u001b[35mstring\u001b[0m\u001b[39m, \u001b[0m\u001b[33mindices\u001b[0m\u001b[39m=\u001b[0m\u001b[35mint32\u001b[0m\u001b[39m, \u001b[0m\u001b[33mordered\u001b[0m\u001b[39m=\u001b[0m\u001b[1;36m0\u001b[0m\u001b[1m>\u001b[0m\n",
       "cat_col_01: dictionary\u001b[1m<\u001b[0m\u001b[1;33mvalues\u001b[0m\u001b[39m=\u001b[0m\u001b[35mstring\u001b[0m\u001b[39m, \u001b[0m\u001b[33mindices\u001b[0m\u001b[39m=\u001b[0m\u001b[35mint32\u001b[0m\u001b[39m, \u001b[0m\u001b[33mordered\u001b[0m\u001b[39m=\u001b[0m\u001b[1;36m0\u001b[0m\u001b[1m>\u001b[0m\n",
       "cat_col_02: dictionary\u001b[1m<\u001b[0m\u001b[1;33mvalues\u001b[0m\u001b[39m=\u001b[0m\u001b[35mstring\u001b[0m\u001b[39m, \u001b[0m\u001b[33mindices\u001b[0m\u001b[39m=\u001b[0m\u001b[35mint32\u001b[0m\u001b[39m, \u001b[0m\u001b[33mordered\u001b[0m\u001b[39m=\u001b[0m\u001b[1;36m0\u001b[0m\u001b[1m>\u001b[0m\n",
       "num_col_00: double\n",
       "num_col_01: double\n",
       "num_col_02: double\n",
       "num_col_03: double\n",
       "num_col_04: double\n",
       "num_col_05: double\n",
       "num_col_06: double\n",
       "num_col_07: double\n",
       "num_col_08: double\n",
       "num_col_09: double\n",
       "batch: int64\n",
       "day: int64\n",
       "year: int32\n",
       "month: int32\n"
      ]
     },
     "metadata": {},
     "output_type": "display_data"
    }
   ],
   "source": [
    "dataset = ds.dataset(path, partitioning='hive')\n",
    "rprint('Dataset files:', len(dataset.files))\n",
    "rprint(dataset.schema)"
   ]
  },
  {
   "cell_type": "code",
   "execution_count": 81,
   "id": "a9ac0d59",
   "metadata": {},
   "outputs": [
    {
     "data": {
      "text/html": [
       "<pre style=\"white-space:pre;overflow-x:auto;line-height:normal;font-family:Menlo,'DejaVu Sans Mono',consolas,'Courier New',monospace\">\n",
       "large2_ingested_dataset/<span style=\"color: #808000; text-decoration-color: #808000\">year</span>=<span style=\"color: #008080; text-decoration-color: #008080; font-weight: bold\">2020</span>/<span style=\"color: #808000; text-decoration-color: #808000\">month</span>=<span style=\"color: #008080; text-decoration-color: #008080; font-weight: bold\">1</span>/<span style=\"color: #ffff00; text-decoration-color: #ffff00\">0195fc56-5869-4c03-a012-2c214b27f8c1</span>-<span style=\"color: #008080; text-decoration-color: #008080; font-weight: bold\">0.</span>parquet\n",
       "num_rows =   <span style=\"color: #008080; text-decoration-color: #008080; font-weight: bold\">100000</span>  <span style=\"color: #808000; text-decoration-color: #808000\">num_row_groups</span>=<span style=\"color: #008080; text-decoration-color: #008080; font-weight: bold\">1</span> <span style=\"color: #008080; text-decoration-color: #008080; font-weight: bold\">2020</span>-<span style=\"color: #008080; text-decoration-color: #008080; font-weight: bold\">01</span>-<span style=\"color: #008080; text-decoration-color: #008080; font-weight: bold\">01</span> <span style=\"color: #00ff00; text-decoration-color: #00ff00; font-weight: bold\">18:00:00</span> <span style=\"color: #008080; text-decoration-color: #008080; font-weight: bold\">2020</span>-<span style=\"color: #008080; text-decoration-color: #008080; font-weight: bold\">01</span>-<span style=\"color: #008080; text-decoration-color: #008080; font-weight: bold\">01</span> <span style=\"color: #00ff00; text-decoration-color: #00ff00; font-weight: bold\">23:59:59</span>.<span style=\"color: #008080; text-decoration-color: #008080; font-weight: bold\">784000</span>\n",
       "</pre>\n"
      ],
      "text/plain": [
       "\n",
       "large2_ingested_dataset/\u001b[33myear\u001b[0m=\u001b[1;36m2020\u001b[0m/\u001b[33mmonth\u001b[0m=\u001b[1;36m1\u001b[0m/\u001b[93m0195fc56-5869-4c03-a012-2c214b27f8c1\u001b[0m-\u001b[1;36m0.\u001b[0mparquet\n",
       "num_rows =   \u001b[1;36m100000\u001b[0m  \u001b[33mnum_row_groups\u001b[0m=\u001b[1;36m1\u001b[0m \u001b[1;36m2020\u001b[0m-\u001b[1;36m01\u001b[0m-\u001b[1;36m01\u001b[0m \u001b[1;92m18:00:00\u001b[0m \u001b[1;36m2020\u001b[0m-\u001b[1;36m01\u001b[0m-\u001b[1;36m01\u001b[0m \u001b[1;92m23:59:59\u001b[0m.\u001b[1;36m784000\u001b[0m\n"
      ]
     },
     "metadata": {},
     "output_type": "display_data"
    },
    {
     "data": {
      "text/html": [
       "<pre style=\"white-space:pre;overflow-x:auto;line-height:normal;font-family:Menlo,'DejaVu Sans Mono',consolas,'Courier New',monospace\">\n",
       "large2_ingested_dataset/<span style=\"color: #808000; text-decoration-color: #808000\">year</span>=<span style=\"color: #008080; text-decoration-color: #008080; font-weight: bold\">2020</span>/<span style=\"color: #808000; text-decoration-color: #808000\">month</span>=<span style=\"color: #008080; text-decoration-color: #008080; font-weight: bold\">1</span>/<span style=\"color: #ffff00; text-decoration-color: #ffff00\">050f1631-db4b-4902-a6b5-55625e78f2b0</span>-<span style=\"color: #008080; text-decoration-color: #008080; font-weight: bold\">0.</span>parquet\n",
       "num_rows =   <span style=\"color: #008080; text-decoration-color: #008080; font-weight: bold\">100000</span>  <span style=\"color: #808000; text-decoration-color: #808000\">num_row_groups</span>=<span style=\"color: #008080; text-decoration-color: #008080; font-weight: bold\">1</span> <span style=\"color: #008080; text-decoration-color: #008080; font-weight: bold\">2020</span>-<span style=\"color: #008080; text-decoration-color: #008080; font-weight: bold\">01</span>-<span style=\"color: #008080; text-decoration-color: #008080; font-weight: bold\">18</span> <span style=\"color: #00ff00; text-decoration-color: #00ff00; font-weight: bold\">00:00:00</span> <span style=\"color: #008080; text-decoration-color: #008080; font-weight: bold\">2020</span>-<span style=\"color: #008080; text-decoration-color: #008080; font-weight: bold\">01</span>-<span style=\"color: #008080; text-decoration-color: #008080; font-weight: bold\">18</span> <span style=\"color: #00ff00; text-decoration-color: #00ff00; font-weight: bold\">05:59:59</span>.<span style=\"color: #008080; text-decoration-color: #008080; font-weight: bold\">784000</span>\n",
       "</pre>\n"
      ],
      "text/plain": [
       "\n",
       "large2_ingested_dataset/\u001b[33myear\u001b[0m=\u001b[1;36m2020\u001b[0m/\u001b[33mmonth\u001b[0m=\u001b[1;36m1\u001b[0m/\u001b[93m050f1631-db4b-4902-a6b5-55625e78f2b0\u001b[0m-\u001b[1;36m0.\u001b[0mparquet\n",
       "num_rows =   \u001b[1;36m100000\u001b[0m  \u001b[33mnum_row_groups\u001b[0m=\u001b[1;36m1\u001b[0m \u001b[1;36m2020\u001b[0m-\u001b[1;36m01\u001b[0m-\u001b[1;36m18\u001b[0m \u001b[1;92m00:00:00\u001b[0m \u001b[1;36m2020\u001b[0m-\u001b[1;36m01\u001b[0m-\u001b[1;36m18\u001b[0m \u001b[1;92m05:59:59\u001b[0m.\u001b[1;36m784000\u001b[0m\n"
      ]
     },
     "metadata": {},
     "output_type": "display_data"
    },
    {
     "data": {
      "text/html": [
       "<pre style=\"white-space:pre;overflow-x:auto;line-height:normal;font-family:Menlo,'DejaVu Sans Mono',consolas,'Courier New',monospace\">\n",
       "large2_ingested_dataset/<span style=\"color: #808000; text-decoration-color: #808000\">year</span>=<span style=\"color: #008080; text-decoration-color: #008080; font-weight: bold\">2020</span>/<span style=\"color: #808000; text-decoration-color: #808000\">month</span>=<span style=\"color: #008080; text-decoration-color: #008080; font-weight: bold\">1</span>/<span style=\"color: #ffff00; text-decoration-color: #ffff00\">05bad383-dc03-43f2-bb6f-f5141a450a7d</span>-<span style=\"color: #008080; text-decoration-color: #008080; font-weight: bold\">0.</span>parquet\n",
       "num_rows =   <span style=\"color: #008080; text-decoration-color: #008080; font-weight: bold\">100000</span>  <span style=\"color: #808000; text-decoration-color: #808000\">num_row_groups</span>=<span style=\"color: #008080; text-decoration-color: #008080; font-weight: bold\">1</span> <span style=\"color: #008080; text-decoration-color: #008080; font-weight: bold\">2020</span>-<span style=\"color: #008080; text-decoration-color: #008080; font-weight: bold\">01</span>-<span style=\"color: #008080; text-decoration-color: #008080; font-weight: bold\">06</span> <span style=\"color: #00ff00; text-decoration-color: #00ff00; font-weight: bold\">00:00:00</span> <span style=\"color: #008080; text-decoration-color: #008080; font-weight: bold\">2020</span>-<span style=\"color: #008080; text-decoration-color: #008080; font-weight: bold\">01</span>-<span style=\"color: #008080; text-decoration-color: #008080; font-weight: bold\">06</span> <span style=\"color: #00ff00; text-decoration-color: #00ff00; font-weight: bold\">05:59:59</span>.<span style=\"color: #008080; text-decoration-color: #008080; font-weight: bold\">784000</span>\n",
       "</pre>\n"
      ],
      "text/plain": [
       "\n",
       "large2_ingested_dataset/\u001b[33myear\u001b[0m=\u001b[1;36m2020\u001b[0m/\u001b[33mmonth\u001b[0m=\u001b[1;36m1\u001b[0m/\u001b[93m05bad383-dc03-43f2-bb6f-f5141a450a7d\u001b[0m-\u001b[1;36m0.\u001b[0mparquet\n",
       "num_rows =   \u001b[1;36m100000\u001b[0m  \u001b[33mnum_row_groups\u001b[0m=\u001b[1;36m1\u001b[0m \u001b[1;36m2020\u001b[0m-\u001b[1;36m01\u001b[0m-\u001b[1;36m06\u001b[0m \u001b[1;92m00:00:00\u001b[0m \u001b[1;36m2020\u001b[0m-\u001b[1;36m01\u001b[0m-\u001b[1;36m06\u001b[0m \u001b[1;92m05:59:59\u001b[0m.\u001b[1;36m784000\u001b[0m\n"
      ]
     },
     "metadata": {},
     "output_type": "display_data"
    },
    {
     "data": {
      "text/html": [
       "<pre style=\"white-space:pre;overflow-x:auto;line-height:normal;font-family:Menlo,'DejaVu Sans Mono',consolas,'Courier New',monospace\">\n",
       "large2_ingested_dataset/<span style=\"color: #808000; text-decoration-color: #808000\">year</span>=<span style=\"color: #008080; text-decoration-color: #008080; font-weight: bold\">2020</span>/<span style=\"color: #808000; text-decoration-color: #808000\">month</span>=<span style=\"color: #008080; text-decoration-color: #008080; font-weight: bold\">1</span>/<span style=\"color: #ffff00; text-decoration-color: #ffff00\">0c92a151-8259-4b81-9518-18171acef770</span>-<span style=\"color: #008080; text-decoration-color: #008080; font-weight: bold\">0.</span>parquet\n",
       "num_rows =   <span style=\"color: #008080; text-decoration-color: #008080; font-weight: bold\">100000</span>  <span style=\"color: #808000; text-decoration-color: #808000\">num_row_groups</span>=<span style=\"color: #008080; text-decoration-color: #008080; font-weight: bold\">1</span> <span style=\"color: #008080; text-decoration-color: #008080; font-weight: bold\">2020</span>-<span style=\"color: #008080; text-decoration-color: #008080; font-weight: bold\">01</span>-<span style=\"color: #008080; text-decoration-color: #008080; font-weight: bold\">26</span> <span style=\"color: #00ff00; text-decoration-color: #00ff00; font-weight: bold\">12:00:00</span> <span style=\"color: #008080; text-decoration-color: #008080; font-weight: bold\">2020</span>-<span style=\"color: #008080; text-decoration-color: #008080; font-weight: bold\">01</span>-<span style=\"color: #008080; text-decoration-color: #008080; font-weight: bold\">26</span> <span style=\"color: #00ff00; text-decoration-color: #00ff00; font-weight: bold\">17:59:59</span>.<span style=\"color: #008080; text-decoration-color: #008080; font-weight: bold\">784000</span>\n",
       "</pre>\n"
      ],
      "text/plain": [
       "\n",
       "large2_ingested_dataset/\u001b[33myear\u001b[0m=\u001b[1;36m2020\u001b[0m/\u001b[33mmonth\u001b[0m=\u001b[1;36m1\u001b[0m/\u001b[93m0c92a151-8259-4b81-9518-18171acef770\u001b[0m-\u001b[1;36m0.\u001b[0mparquet\n",
       "num_rows =   \u001b[1;36m100000\u001b[0m  \u001b[33mnum_row_groups\u001b[0m=\u001b[1;36m1\u001b[0m \u001b[1;36m2020\u001b[0m-\u001b[1;36m01\u001b[0m-\u001b[1;36m26\u001b[0m \u001b[1;92m12:00:00\u001b[0m \u001b[1;36m2020\u001b[0m-\u001b[1;36m01\u001b[0m-\u001b[1;36m26\u001b[0m \u001b[1;92m17:59:59\u001b[0m.\u001b[1;36m784000\u001b[0m\n"
      ]
     },
     "metadata": {},
     "output_type": "display_data"
    },
    {
     "data": {
      "text/html": [
       "<pre style=\"white-space:pre;overflow-x:auto;line-height:normal;font-family:Menlo,'DejaVu Sans Mono',consolas,'Courier New',monospace\">\n",
       "large2_ingested_dataset/<span style=\"color: #808000; text-decoration-color: #808000\">year</span>=<span style=\"color: #008080; text-decoration-color: #008080; font-weight: bold\">2020</span>/<span style=\"color: #808000; text-decoration-color: #808000\">month</span>=<span style=\"color: #008080; text-decoration-color: #008080; font-weight: bold\">1</span>/<span style=\"color: #ffff00; text-decoration-color: #ffff00\">0dd21819-bb6e-4f04-936e-9fdb2e8988af</span>-<span style=\"color: #008080; text-decoration-color: #008080; font-weight: bold\">0.</span>parquet\n",
       "num_rows =   <span style=\"color: #008080; text-decoration-color: #008080; font-weight: bold\">100000</span>  <span style=\"color: #808000; text-decoration-color: #808000\">num_row_groups</span>=<span style=\"color: #008080; text-decoration-color: #008080; font-weight: bold\">1</span> <span style=\"color: #008080; text-decoration-color: #008080; font-weight: bold\">2020</span>-<span style=\"color: #008080; text-decoration-color: #008080; font-weight: bold\">01</span>-<span style=\"color: #008080; text-decoration-color: #008080; font-weight: bold\">28</span> <span style=\"color: #00ff00; text-decoration-color: #00ff00; font-weight: bold\">18:00:00</span> <span style=\"color: #008080; text-decoration-color: #008080; font-weight: bold\">2020</span>-<span style=\"color: #008080; text-decoration-color: #008080; font-weight: bold\">01</span>-<span style=\"color: #008080; text-decoration-color: #008080; font-weight: bold\">28</span> <span style=\"color: #00ff00; text-decoration-color: #00ff00; font-weight: bold\">23:59:59</span>.<span style=\"color: #008080; text-decoration-color: #008080; font-weight: bold\">784000</span>\n",
       "</pre>\n"
      ],
      "text/plain": [
       "\n",
       "large2_ingested_dataset/\u001b[33myear\u001b[0m=\u001b[1;36m2020\u001b[0m/\u001b[33mmonth\u001b[0m=\u001b[1;36m1\u001b[0m/\u001b[93m0dd21819-bb6e-4f04-936e-9fdb2e8988af\u001b[0m-\u001b[1;36m0.\u001b[0mparquet\n",
       "num_rows =   \u001b[1;36m100000\u001b[0m  \u001b[33mnum_row_groups\u001b[0m=\u001b[1;36m1\u001b[0m \u001b[1;36m2020\u001b[0m-\u001b[1;36m01\u001b[0m-\u001b[1;36m28\u001b[0m \u001b[1;92m18:00:00\u001b[0m \u001b[1;36m2020\u001b[0m-\u001b[1;36m01\u001b[0m-\u001b[1;36m28\u001b[0m \u001b[1;92m23:59:59\u001b[0m.\u001b[1;36m784000\u001b[0m\n"
      ]
     },
     "metadata": {},
     "output_type": "display_data"
    },
    {
     "data": {
      "text/html": [
       "<pre style=\"white-space:pre;overflow-x:auto;line-height:normal;font-family:Menlo,'DejaVu Sans Mono',consolas,'Courier New',monospace\">\n",
       "large2_ingested_dataset/<span style=\"color: #808000; text-decoration-color: #808000\">year</span>=<span style=\"color: #008080; text-decoration-color: #008080; font-weight: bold\">2020</span>/<span style=\"color: #808000; text-decoration-color: #808000\">month</span>=<span style=\"color: #008080; text-decoration-color: #008080; font-weight: bold\">1</span>/<span style=\"color: #ffff00; text-decoration-color: #ffff00\">11c28f49-ee96-495b-aa01-d7f28db7a7bb</span>-<span style=\"color: #008080; text-decoration-color: #008080; font-weight: bold\">0.</span>parquet\n",
       "num_rows =   <span style=\"color: #008080; text-decoration-color: #008080; font-weight: bold\">100000</span>  <span style=\"color: #808000; text-decoration-color: #808000\">num_row_groups</span>=<span style=\"color: #008080; text-decoration-color: #008080; font-weight: bold\">1</span> <span style=\"color: #008080; text-decoration-color: #008080; font-weight: bold\">2020</span>-<span style=\"color: #008080; text-decoration-color: #008080; font-weight: bold\">01</span>-<span style=\"color: #008080; text-decoration-color: #008080; font-weight: bold\">15</span> <span style=\"color: #00ff00; text-decoration-color: #00ff00; font-weight: bold\">12:00:00</span> <span style=\"color: #008080; text-decoration-color: #008080; font-weight: bold\">2020</span>-<span style=\"color: #008080; text-decoration-color: #008080; font-weight: bold\">01</span>-<span style=\"color: #008080; text-decoration-color: #008080; font-weight: bold\">15</span> <span style=\"color: #00ff00; text-decoration-color: #00ff00; font-weight: bold\">17:59:59</span>.<span style=\"color: #008080; text-decoration-color: #008080; font-weight: bold\">784000</span>\n",
       "</pre>\n"
      ],
      "text/plain": [
       "\n",
       "large2_ingested_dataset/\u001b[33myear\u001b[0m=\u001b[1;36m2020\u001b[0m/\u001b[33mmonth\u001b[0m=\u001b[1;36m1\u001b[0m/\u001b[93m11c28f49-ee96-495b-aa01-d7f28db7a7bb\u001b[0m-\u001b[1;36m0.\u001b[0mparquet\n",
       "num_rows =   \u001b[1;36m100000\u001b[0m  \u001b[33mnum_row_groups\u001b[0m=\u001b[1;36m1\u001b[0m \u001b[1;36m2020\u001b[0m-\u001b[1;36m01\u001b[0m-\u001b[1;36m15\u001b[0m \u001b[1;92m12:00:00\u001b[0m \u001b[1;36m2020\u001b[0m-\u001b[1;36m01\u001b[0m-\u001b[1;36m15\u001b[0m \u001b[1;92m17:59:59\u001b[0m.\u001b[1;36m784000\u001b[0m\n"
      ]
     },
     "metadata": {},
     "output_type": "display_data"
    },
    {
     "data": {
      "text/html": [
       "<pre style=\"white-space:pre;overflow-x:auto;line-height:normal;font-family:Menlo,'DejaVu Sans Mono',consolas,'Courier New',monospace\">\n",
       "large2_ingested_dataset/<span style=\"color: #808000; text-decoration-color: #808000\">year</span>=<span style=\"color: #008080; text-decoration-color: #008080; font-weight: bold\">2020</span>/<span style=\"color: #808000; text-decoration-color: #808000\">month</span>=<span style=\"color: #008080; text-decoration-color: #008080; font-weight: bold\">1</span>/<span style=\"color: #ffff00; text-decoration-color: #ffff00\">14688a3d-d27e-4ec8-bd7e-4874ecc00a6f</span>-<span style=\"color: #008080; text-decoration-color: #008080; font-weight: bold\">0.</span>parquet\n",
       "num_rows =   <span style=\"color: #008080; text-decoration-color: #008080; font-weight: bold\">100000</span>  <span style=\"color: #808000; text-decoration-color: #808000\">num_row_groups</span>=<span style=\"color: #008080; text-decoration-color: #008080; font-weight: bold\">1</span> <span style=\"color: #008080; text-decoration-color: #008080; font-weight: bold\">2020</span>-<span style=\"color: #008080; text-decoration-color: #008080; font-weight: bold\">01</span>-<span style=\"color: #008080; text-decoration-color: #008080; font-weight: bold\">11</span> <span style=\"color: #00ff00; text-decoration-color: #00ff00; font-weight: bold\">18:00:00</span> <span style=\"color: #008080; text-decoration-color: #008080; font-weight: bold\">2020</span>-<span style=\"color: #008080; text-decoration-color: #008080; font-weight: bold\">01</span>-<span style=\"color: #008080; text-decoration-color: #008080; font-weight: bold\">11</span> <span style=\"color: #00ff00; text-decoration-color: #00ff00; font-weight: bold\">23:59:59</span>.<span style=\"color: #008080; text-decoration-color: #008080; font-weight: bold\">784000</span>\n",
       "</pre>\n"
      ],
      "text/plain": [
       "\n",
       "large2_ingested_dataset/\u001b[33myear\u001b[0m=\u001b[1;36m2020\u001b[0m/\u001b[33mmonth\u001b[0m=\u001b[1;36m1\u001b[0m/\u001b[93m14688a3d-d27e-4ec8-bd7e-4874ecc00a6f\u001b[0m-\u001b[1;36m0.\u001b[0mparquet\n",
       "num_rows =   \u001b[1;36m100000\u001b[0m  \u001b[33mnum_row_groups\u001b[0m=\u001b[1;36m1\u001b[0m \u001b[1;36m2020\u001b[0m-\u001b[1;36m01\u001b[0m-\u001b[1;36m11\u001b[0m \u001b[1;92m18:00:00\u001b[0m \u001b[1;36m2020\u001b[0m-\u001b[1;36m01\u001b[0m-\u001b[1;36m11\u001b[0m \u001b[1;92m23:59:59\u001b[0m.\u001b[1;36m784000\u001b[0m\n"
      ]
     },
     "metadata": {},
     "output_type": "display_data"
    },
    {
     "data": {
      "text/html": [
       "<pre style=\"white-space:pre;overflow-x:auto;line-height:normal;font-family:Menlo,'DejaVu Sans Mono',consolas,'Courier New',monospace\">\n",
       "large2_ingested_dataset/<span style=\"color: #808000; text-decoration-color: #808000\">year</span>=<span style=\"color: #008080; text-decoration-color: #008080; font-weight: bold\">2020</span>/<span style=\"color: #808000; text-decoration-color: #808000\">month</span>=<span style=\"color: #008080; text-decoration-color: #008080; font-weight: bold\">1</span>/<span style=\"color: #ffff00; text-decoration-color: #ffff00\">15f0704e-f4ef-45fd-94a8-e081ef6d854b</span>-<span style=\"color: #008080; text-decoration-color: #008080; font-weight: bold\">0.</span>parquet\n",
       "num_rows =   <span style=\"color: #008080; text-decoration-color: #008080; font-weight: bold\">100000</span>  <span style=\"color: #808000; text-decoration-color: #808000\">num_row_groups</span>=<span style=\"color: #008080; text-decoration-color: #008080; font-weight: bold\">1</span> <span style=\"color: #008080; text-decoration-color: #008080; font-weight: bold\">2020</span>-<span style=\"color: #008080; text-decoration-color: #008080; font-weight: bold\">01</span>-<span style=\"color: #008080; text-decoration-color: #008080; font-weight: bold\">10</span> <span style=\"color: #00ff00; text-decoration-color: #00ff00; font-weight: bold\">12:00:00</span> <span style=\"color: #008080; text-decoration-color: #008080; font-weight: bold\">2020</span>-<span style=\"color: #008080; text-decoration-color: #008080; font-weight: bold\">01</span>-<span style=\"color: #008080; text-decoration-color: #008080; font-weight: bold\">10</span> <span style=\"color: #00ff00; text-decoration-color: #00ff00; font-weight: bold\">17:59:59</span>.<span style=\"color: #008080; text-decoration-color: #008080; font-weight: bold\">784000</span>\n",
       "</pre>\n"
      ],
      "text/plain": [
       "\n",
       "large2_ingested_dataset/\u001b[33myear\u001b[0m=\u001b[1;36m2020\u001b[0m/\u001b[33mmonth\u001b[0m=\u001b[1;36m1\u001b[0m/\u001b[93m15f0704e-f4ef-45fd-94a8-e081ef6d854b\u001b[0m-\u001b[1;36m0.\u001b[0mparquet\n",
       "num_rows =   \u001b[1;36m100000\u001b[0m  \u001b[33mnum_row_groups\u001b[0m=\u001b[1;36m1\u001b[0m \u001b[1;36m2020\u001b[0m-\u001b[1;36m01\u001b[0m-\u001b[1;36m10\u001b[0m \u001b[1;92m12:00:00\u001b[0m \u001b[1;36m2020\u001b[0m-\u001b[1;36m01\u001b[0m-\u001b[1;36m10\u001b[0m \u001b[1;92m17:59:59\u001b[0m.\u001b[1;36m784000\u001b[0m\n"
      ]
     },
     "metadata": {},
     "output_type": "display_data"
    },
    {
     "data": {
      "text/html": [
       "<pre style=\"white-space:pre;overflow-x:auto;line-height:normal;font-family:Menlo,'DejaVu Sans Mono',consolas,'Courier New',monospace\">\n",
       "large2_ingested_dataset/<span style=\"color: #808000; text-decoration-color: #808000\">year</span>=<span style=\"color: #008080; text-decoration-color: #008080; font-weight: bold\">2020</span>/<span style=\"color: #808000; text-decoration-color: #808000\">month</span>=<span style=\"color: #008080; text-decoration-color: #008080; font-weight: bold\">1</span>/<span style=\"color: #ffff00; text-decoration-color: #ffff00\">16e3bb07-7ed8-41dd-9d5f-9c456c215d90</span>-<span style=\"color: #008080; text-decoration-color: #008080; font-weight: bold\">0.</span>parquet\n",
       "num_rows =   <span style=\"color: #008080; text-decoration-color: #008080; font-weight: bold\">100000</span>  <span style=\"color: #808000; text-decoration-color: #808000\">num_row_groups</span>=<span style=\"color: #008080; text-decoration-color: #008080; font-weight: bold\">1</span> <span style=\"color: #008080; text-decoration-color: #008080; font-weight: bold\">2020</span>-<span style=\"color: #008080; text-decoration-color: #008080; font-weight: bold\">01</span>-<span style=\"color: #008080; text-decoration-color: #008080; font-weight: bold\">28</span> <span style=\"color: #00ff00; text-decoration-color: #00ff00; font-weight: bold\">06:00:00</span> <span style=\"color: #008080; text-decoration-color: #008080; font-weight: bold\">2020</span>-<span style=\"color: #008080; text-decoration-color: #008080; font-weight: bold\">01</span>-<span style=\"color: #008080; text-decoration-color: #008080; font-weight: bold\">28</span> <span style=\"color: #00ff00; text-decoration-color: #00ff00; font-weight: bold\">11:59:59</span>.<span style=\"color: #008080; text-decoration-color: #008080; font-weight: bold\">784000</span>\n",
       "</pre>\n"
      ],
      "text/plain": [
       "\n",
       "large2_ingested_dataset/\u001b[33myear\u001b[0m=\u001b[1;36m2020\u001b[0m/\u001b[33mmonth\u001b[0m=\u001b[1;36m1\u001b[0m/\u001b[93m16e3bb07-7ed8-41dd-9d5f-9c456c215d90\u001b[0m-\u001b[1;36m0.\u001b[0mparquet\n",
       "num_rows =   \u001b[1;36m100000\u001b[0m  \u001b[33mnum_row_groups\u001b[0m=\u001b[1;36m1\u001b[0m \u001b[1;36m2020\u001b[0m-\u001b[1;36m01\u001b[0m-\u001b[1;36m28\u001b[0m \u001b[1;92m06:00:00\u001b[0m \u001b[1;36m2020\u001b[0m-\u001b[1;36m01\u001b[0m-\u001b[1;36m28\u001b[0m \u001b[1;92m11:59:59\u001b[0m.\u001b[1;36m784000\u001b[0m\n"
      ]
     },
     "metadata": {},
     "output_type": "display_data"
    },
    {
     "data": {
      "text/html": [
       "<pre style=\"white-space:pre;overflow-x:auto;line-height:normal;font-family:Menlo,'DejaVu Sans Mono',consolas,'Courier New',monospace\">\n",
       "large2_ingested_dataset/<span style=\"color: #808000; text-decoration-color: #808000\">year</span>=<span style=\"color: #008080; text-decoration-color: #008080; font-weight: bold\">2020</span>/<span style=\"color: #808000; text-decoration-color: #808000\">month</span>=<span style=\"color: #008080; text-decoration-color: #008080; font-weight: bold\">1</span>/<span style=\"color: #ffff00; text-decoration-color: #ffff00\">20ee14b3-1f70-4f5b-af8b-ea0f7099a20f</span>-<span style=\"color: #008080; text-decoration-color: #008080; font-weight: bold\">0.</span>parquet\n",
       "num_rows =   <span style=\"color: #008080; text-decoration-color: #008080; font-weight: bold\">100000</span>  <span style=\"color: #808000; text-decoration-color: #808000\">num_row_groups</span>=<span style=\"color: #008080; text-decoration-color: #008080; font-weight: bold\">1</span> <span style=\"color: #008080; text-decoration-color: #008080; font-weight: bold\">2020</span>-<span style=\"color: #008080; text-decoration-color: #008080; font-weight: bold\">01</span>-<span style=\"color: #008080; text-decoration-color: #008080; font-weight: bold\">26</span> <span style=\"color: #00ff00; text-decoration-color: #00ff00; font-weight: bold\">00:00:00</span> <span style=\"color: #008080; text-decoration-color: #008080; font-weight: bold\">2020</span>-<span style=\"color: #008080; text-decoration-color: #008080; font-weight: bold\">01</span>-<span style=\"color: #008080; text-decoration-color: #008080; font-weight: bold\">26</span> <span style=\"color: #00ff00; text-decoration-color: #00ff00; font-weight: bold\">05:59:59</span>.<span style=\"color: #008080; text-decoration-color: #008080; font-weight: bold\">784000</span>\n",
       "</pre>\n"
      ],
      "text/plain": [
       "\n",
       "large2_ingested_dataset/\u001b[33myear\u001b[0m=\u001b[1;36m2020\u001b[0m/\u001b[33mmonth\u001b[0m=\u001b[1;36m1\u001b[0m/\u001b[93m20ee14b3-1f70-4f5b-af8b-ea0f7099a20f\u001b[0m-\u001b[1;36m0.\u001b[0mparquet\n",
       "num_rows =   \u001b[1;36m100000\u001b[0m  \u001b[33mnum_row_groups\u001b[0m=\u001b[1;36m1\u001b[0m \u001b[1;36m2020\u001b[0m-\u001b[1;36m01\u001b[0m-\u001b[1;36m26\u001b[0m \u001b[1;92m00:00:00\u001b[0m \u001b[1;36m2020\u001b[0m-\u001b[1;36m01\u001b[0m-\u001b[1;36m26\u001b[0m \u001b[1;92m05:59:59\u001b[0m.\u001b[1;36m784000\u001b[0m\n"
      ]
     },
     "metadata": {},
     "output_type": "display_data"
    },
    {
     "data": {
      "text/html": [
       "<pre style=\"white-space:pre;overflow-x:auto;line-height:normal;font-family:Menlo,'DejaVu Sans Mono',consolas,'Courier New',monospace\">\n",
       "large2_ingested_dataset/<span style=\"color: #808000; text-decoration-color: #808000\">year</span>=<span style=\"color: #008080; text-decoration-color: #008080; font-weight: bold\">2020</span>/<span style=\"color: #808000; text-decoration-color: #808000\">month</span>=<span style=\"color: #008080; text-decoration-color: #008080; font-weight: bold\">1</span>/<span style=\"color: #ffff00; text-decoration-color: #ffff00\">21ce7083-cc30-4a78-b9c0-70ed5f769416</span>-<span style=\"color: #008080; text-decoration-color: #008080; font-weight: bold\">0.</span>parquet\n",
       "num_rows =   <span style=\"color: #008080; text-decoration-color: #008080; font-weight: bold\">100000</span>  <span style=\"color: #808000; text-decoration-color: #808000\">num_row_groups</span>=<span style=\"color: #008080; text-decoration-color: #008080; font-weight: bold\">1</span> <span style=\"color: #008080; text-decoration-color: #008080; font-weight: bold\">2020</span>-<span style=\"color: #008080; text-decoration-color: #008080; font-weight: bold\">01</span>-<span style=\"color: #008080; text-decoration-color: #008080; font-weight: bold\">21</span> <span style=\"color: #00ff00; text-decoration-color: #00ff00; font-weight: bold\">00:00:00</span> <span style=\"color: #008080; text-decoration-color: #008080; font-weight: bold\">2020</span>-<span style=\"color: #008080; text-decoration-color: #008080; font-weight: bold\">01</span>-<span style=\"color: #008080; text-decoration-color: #008080; font-weight: bold\">21</span> <span style=\"color: #00ff00; text-decoration-color: #00ff00; font-weight: bold\">05:59:59</span>.<span style=\"color: #008080; text-decoration-color: #008080; font-weight: bold\">784000</span>\n",
       "</pre>\n"
      ],
      "text/plain": [
       "\n",
       "large2_ingested_dataset/\u001b[33myear\u001b[0m=\u001b[1;36m2020\u001b[0m/\u001b[33mmonth\u001b[0m=\u001b[1;36m1\u001b[0m/\u001b[93m21ce7083-cc30-4a78-b9c0-70ed5f769416\u001b[0m-\u001b[1;36m0.\u001b[0mparquet\n",
       "num_rows =   \u001b[1;36m100000\u001b[0m  \u001b[33mnum_row_groups\u001b[0m=\u001b[1;36m1\u001b[0m \u001b[1;36m2020\u001b[0m-\u001b[1;36m01\u001b[0m-\u001b[1;36m21\u001b[0m \u001b[1;92m00:00:00\u001b[0m \u001b[1;36m2020\u001b[0m-\u001b[1;36m01\u001b[0m-\u001b[1;36m21\u001b[0m \u001b[1;92m05:59:59\u001b[0m.\u001b[1;36m784000\u001b[0m\n"
      ]
     },
     "metadata": {},
     "output_type": "display_data"
    },
    {
     "data": {
      "text/html": [
       "<pre style=\"white-space:pre;overflow-x:auto;line-height:normal;font-family:Menlo,'DejaVu Sans Mono',consolas,'Courier New',monospace\">\n",
       "large2_ingested_dataset/<span style=\"color: #808000; text-decoration-color: #808000\">year</span>=<span style=\"color: #008080; text-decoration-color: #008080; font-weight: bold\">2020</span>/<span style=\"color: #808000; text-decoration-color: #808000\">month</span>=<span style=\"color: #008080; text-decoration-color: #008080; font-weight: bold\">1</span>/<span style=\"color: #ffff00; text-decoration-color: #ffff00\">24e89b88-09df-40ed-aeec-92c7db51db02</span>-<span style=\"color: #008080; text-decoration-color: #008080; font-weight: bold\">0.</span>parquet\n",
       "num_rows =   <span style=\"color: #008080; text-decoration-color: #008080; font-weight: bold\">100000</span>  <span style=\"color: #808000; text-decoration-color: #808000\">num_row_groups</span>=<span style=\"color: #008080; text-decoration-color: #008080; font-weight: bold\">1</span> <span style=\"color: #008080; text-decoration-color: #008080; font-weight: bold\">2020</span>-<span style=\"color: #008080; text-decoration-color: #008080; font-weight: bold\">01</span>-<span style=\"color: #008080; text-decoration-color: #008080; font-weight: bold\">30</span> <span style=\"color: #00ff00; text-decoration-color: #00ff00; font-weight: bold\">06:00:00</span> <span style=\"color: #008080; text-decoration-color: #008080; font-weight: bold\">2020</span>-<span style=\"color: #008080; text-decoration-color: #008080; font-weight: bold\">01</span>-<span style=\"color: #008080; text-decoration-color: #008080; font-weight: bold\">30</span> <span style=\"color: #00ff00; text-decoration-color: #00ff00; font-weight: bold\">11:59:59</span>.<span style=\"color: #008080; text-decoration-color: #008080; font-weight: bold\">784000</span>\n",
       "</pre>\n"
      ],
      "text/plain": [
       "\n",
       "large2_ingested_dataset/\u001b[33myear\u001b[0m=\u001b[1;36m2020\u001b[0m/\u001b[33mmonth\u001b[0m=\u001b[1;36m1\u001b[0m/\u001b[93m24e89b88-09df-40ed-aeec-92c7db51db02\u001b[0m-\u001b[1;36m0.\u001b[0mparquet\n",
       "num_rows =   \u001b[1;36m100000\u001b[0m  \u001b[33mnum_row_groups\u001b[0m=\u001b[1;36m1\u001b[0m \u001b[1;36m2020\u001b[0m-\u001b[1;36m01\u001b[0m-\u001b[1;36m30\u001b[0m \u001b[1;92m06:00:00\u001b[0m \u001b[1;36m2020\u001b[0m-\u001b[1;36m01\u001b[0m-\u001b[1;36m30\u001b[0m \u001b[1;92m11:59:59\u001b[0m.\u001b[1;36m784000\u001b[0m\n"
      ]
     },
     "metadata": {},
     "output_type": "display_data"
    },
    {
     "data": {
      "text/html": [
       "<pre style=\"white-space:pre;overflow-x:auto;line-height:normal;font-family:Menlo,'DejaVu Sans Mono',consolas,'Courier New',monospace\">\n",
       "large2_ingested_dataset/<span style=\"color: #808000; text-decoration-color: #808000\">year</span>=<span style=\"color: #008080; text-decoration-color: #008080; font-weight: bold\">2020</span>/<span style=\"color: #808000; text-decoration-color: #808000\">month</span>=<span style=\"color: #008080; text-decoration-color: #008080; font-weight: bold\">1</span>/<span style=\"color: #ffff00; text-decoration-color: #ffff00\">27ca8d8c-a94a-4894-bec8-4c90d2fde090</span>-<span style=\"color: #008080; text-decoration-color: #008080; font-weight: bold\">0.</span>parquet\n",
       "num_rows =   <span style=\"color: #008080; text-decoration-color: #008080; font-weight: bold\">100000</span>  <span style=\"color: #808000; text-decoration-color: #808000\">num_row_groups</span>=<span style=\"color: #008080; text-decoration-color: #008080; font-weight: bold\">1</span> <span style=\"color: #008080; text-decoration-color: #008080; font-weight: bold\">2020</span>-<span style=\"color: #008080; text-decoration-color: #008080; font-weight: bold\">01</span>-<span style=\"color: #008080; text-decoration-color: #008080; font-weight: bold\">13</span> <span style=\"color: #00ff00; text-decoration-color: #00ff00; font-weight: bold\">06:00:00</span> <span style=\"color: #008080; text-decoration-color: #008080; font-weight: bold\">2020</span>-<span style=\"color: #008080; text-decoration-color: #008080; font-weight: bold\">01</span>-<span style=\"color: #008080; text-decoration-color: #008080; font-weight: bold\">13</span> <span style=\"color: #00ff00; text-decoration-color: #00ff00; font-weight: bold\">11:59:59</span>.<span style=\"color: #008080; text-decoration-color: #008080; font-weight: bold\">784000</span>\n",
       "</pre>\n"
      ],
      "text/plain": [
       "\n",
       "large2_ingested_dataset/\u001b[33myear\u001b[0m=\u001b[1;36m2020\u001b[0m/\u001b[33mmonth\u001b[0m=\u001b[1;36m1\u001b[0m/\u001b[93m27ca8d8c-a94a-4894-bec8-4c90d2fde090\u001b[0m-\u001b[1;36m0.\u001b[0mparquet\n",
       "num_rows =   \u001b[1;36m100000\u001b[0m  \u001b[33mnum_row_groups\u001b[0m=\u001b[1;36m1\u001b[0m \u001b[1;36m2020\u001b[0m-\u001b[1;36m01\u001b[0m-\u001b[1;36m13\u001b[0m \u001b[1;92m06:00:00\u001b[0m \u001b[1;36m2020\u001b[0m-\u001b[1;36m01\u001b[0m-\u001b[1;36m13\u001b[0m \u001b[1;92m11:59:59\u001b[0m.\u001b[1;36m784000\u001b[0m\n"
      ]
     },
     "metadata": {},
     "output_type": "display_data"
    },
    {
     "data": {
      "text/html": [
       "<pre style=\"white-space:pre;overflow-x:auto;line-height:normal;font-family:Menlo,'DejaVu Sans Mono',consolas,'Courier New',monospace\">\n",
       "large2_ingested_dataset/<span style=\"color: #808000; text-decoration-color: #808000\">year</span>=<span style=\"color: #008080; text-decoration-color: #008080; font-weight: bold\">2020</span>/<span style=\"color: #808000; text-decoration-color: #808000\">month</span>=<span style=\"color: #008080; text-decoration-color: #008080; font-weight: bold\">1</span>/<span style=\"color: #ffff00; text-decoration-color: #ffff00\">2a1df980-b4df-4131-b2f2-700b955367a6</span>-<span style=\"color: #008080; text-decoration-color: #008080; font-weight: bold\">0.</span>parquet\n",
       "num_rows =   <span style=\"color: #008080; text-decoration-color: #008080; font-weight: bold\">100000</span>  <span style=\"color: #808000; text-decoration-color: #808000\">num_row_groups</span>=<span style=\"color: #008080; text-decoration-color: #008080; font-weight: bold\">1</span> <span style=\"color: #008080; text-decoration-color: #008080; font-weight: bold\">2020</span>-<span style=\"color: #008080; text-decoration-color: #008080; font-weight: bold\">01</span>-<span style=\"color: #008080; text-decoration-color: #008080; font-weight: bold\">01</span> <span style=\"color: #00ff00; text-decoration-color: #00ff00; font-weight: bold\">00:00:00</span> <span style=\"color: #008080; text-decoration-color: #008080; font-weight: bold\">2020</span>-<span style=\"color: #008080; text-decoration-color: #008080; font-weight: bold\">01</span>-<span style=\"color: #008080; text-decoration-color: #008080; font-weight: bold\">01</span> <span style=\"color: #00ff00; text-decoration-color: #00ff00; font-weight: bold\">05:59:59</span>.<span style=\"color: #008080; text-decoration-color: #008080; font-weight: bold\">784000</span>\n",
       "</pre>\n"
      ],
      "text/plain": [
       "\n",
       "large2_ingested_dataset/\u001b[33myear\u001b[0m=\u001b[1;36m2020\u001b[0m/\u001b[33mmonth\u001b[0m=\u001b[1;36m1\u001b[0m/\u001b[93m2a1df980-b4df-4131-b2f2-700b955367a6\u001b[0m-\u001b[1;36m0.\u001b[0mparquet\n",
       "num_rows =   \u001b[1;36m100000\u001b[0m  \u001b[33mnum_row_groups\u001b[0m=\u001b[1;36m1\u001b[0m \u001b[1;36m2020\u001b[0m-\u001b[1;36m01\u001b[0m-\u001b[1;36m01\u001b[0m \u001b[1;92m00:00:00\u001b[0m \u001b[1;36m2020\u001b[0m-\u001b[1;36m01\u001b[0m-\u001b[1;36m01\u001b[0m \u001b[1;92m05:59:59\u001b[0m.\u001b[1;36m784000\u001b[0m\n"
      ]
     },
     "metadata": {},
     "output_type": "display_data"
    },
    {
     "data": {
      "text/html": [
       "<pre style=\"white-space:pre;overflow-x:auto;line-height:normal;font-family:Menlo,'DejaVu Sans Mono',consolas,'Courier New',monospace\">\n",
       "large2_ingested_dataset/<span style=\"color: #808000; text-decoration-color: #808000\">year</span>=<span style=\"color: #008080; text-decoration-color: #008080; font-weight: bold\">2020</span>/<span style=\"color: #808000; text-decoration-color: #808000\">month</span>=<span style=\"color: #008080; text-decoration-color: #008080; font-weight: bold\">1</span>/<span style=\"color: #ffff00; text-decoration-color: #ffff00\">2a40f928-c0a1-49ff-9cbc-40914b84dd1b</span>-<span style=\"color: #008080; text-decoration-color: #008080; font-weight: bold\">0.</span>parquet\n",
       "num_rows =   <span style=\"color: #008080; text-decoration-color: #008080; font-weight: bold\">100000</span>  <span style=\"color: #808000; text-decoration-color: #808000\">num_row_groups</span>=<span style=\"color: #008080; text-decoration-color: #008080; font-weight: bold\">1</span> <span style=\"color: #008080; text-decoration-color: #008080; font-weight: bold\">2020</span>-<span style=\"color: #008080; text-decoration-color: #008080; font-weight: bold\">01</span>-<span style=\"color: #008080; text-decoration-color: #008080; font-weight: bold\">23</span> <span style=\"color: #00ff00; text-decoration-color: #00ff00; font-weight: bold\">18:00:00</span> <span style=\"color: #008080; text-decoration-color: #008080; font-weight: bold\">2020</span>-<span style=\"color: #008080; text-decoration-color: #008080; font-weight: bold\">01</span>-<span style=\"color: #008080; text-decoration-color: #008080; font-weight: bold\">23</span> <span style=\"color: #00ff00; text-decoration-color: #00ff00; font-weight: bold\">23:59:59</span>.<span style=\"color: #008080; text-decoration-color: #008080; font-weight: bold\">784000</span>\n",
       "</pre>\n"
      ],
      "text/plain": [
       "\n",
       "large2_ingested_dataset/\u001b[33myear\u001b[0m=\u001b[1;36m2020\u001b[0m/\u001b[33mmonth\u001b[0m=\u001b[1;36m1\u001b[0m/\u001b[93m2a40f928-c0a1-49ff-9cbc-40914b84dd1b\u001b[0m-\u001b[1;36m0.\u001b[0mparquet\n",
       "num_rows =   \u001b[1;36m100000\u001b[0m  \u001b[33mnum_row_groups\u001b[0m=\u001b[1;36m1\u001b[0m \u001b[1;36m2020\u001b[0m-\u001b[1;36m01\u001b[0m-\u001b[1;36m23\u001b[0m \u001b[1;92m18:00:00\u001b[0m \u001b[1;36m2020\u001b[0m-\u001b[1;36m01\u001b[0m-\u001b[1;36m23\u001b[0m \u001b[1;92m23:59:59\u001b[0m.\u001b[1;36m784000\u001b[0m\n"
      ]
     },
     "metadata": {},
     "output_type": "display_data"
    },
    {
     "data": {
      "text/html": [
       "<pre style=\"white-space:pre;overflow-x:auto;line-height:normal;font-family:Menlo,'DejaVu Sans Mono',consolas,'Courier New',monospace\">\n",
       "large2_ingested_dataset/<span style=\"color: #808000; text-decoration-color: #808000\">year</span>=<span style=\"color: #008080; text-decoration-color: #008080; font-weight: bold\">2020</span>/<span style=\"color: #808000; text-decoration-color: #808000\">month</span>=<span style=\"color: #008080; text-decoration-color: #008080; font-weight: bold\">1</span>/<span style=\"color: #ffff00; text-decoration-color: #ffff00\">2ab75bff-f84d-402f-8c2c-45534fceb7fe</span>-<span style=\"color: #008080; text-decoration-color: #008080; font-weight: bold\">0.</span>parquet\n",
       "num_rows =   <span style=\"color: #008080; text-decoration-color: #008080; font-weight: bold\">100000</span>  <span style=\"color: #808000; text-decoration-color: #808000\">num_row_groups</span>=<span style=\"color: #008080; text-decoration-color: #008080; font-weight: bold\">1</span> <span style=\"color: #008080; text-decoration-color: #008080; font-weight: bold\">2020</span>-<span style=\"color: #008080; text-decoration-color: #008080; font-weight: bold\">01</span>-<span style=\"color: #008080; text-decoration-color: #008080; font-weight: bold\">11</span> <span style=\"color: #00ff00; text-decoration-color: #00ff00; font-weight: bold\">12:00:00</span> <span style=\"color: #008080; text-decoration-color: #008080; font-weight: bold\">2020</span>-<span style=\"color: #008080; text-decoration-color: #008080; font-weight: bold\">01</span>-<span style=\"color: #008080; text-decoration-color: #008080; font-weight: bold\">11</span> <span style=\"color: #00ff00; text-decoration-color: #00ff00; font-weight: bold\">17:59:59</span>.<span style=\"color: #008080; text-decoration-color: #008080; font-weight: bold\">784000</span>\n",
       "</pre>\n"
      ],
      "text/plain": [
       "\n",
       "large2_ingested_dataset/\u001b[33myear\u001b[0m=\u001b[1;36m2020\u001b[0m/\u001b[33mmonth\u001b[0m=\u001b[1;36m1\u001b[0m/\u001b[93m2ab75bff-f84d-402f-8c2c-45534fceb7fe\u001b[0m-\u001b[1;36m0.\u001b[0mparquet\n",
       "num_rows =   \u001b[1;36m100000\u001b[0m  \u001b[33mnum_row_groups\u001b[0m=\u001b[1;36m1\u001b[0m \u001b[1;36m2020\u001b[0m-\u001b[1;36m01\u001b[0m-\u001b[1;36m11\u001b[0m \u001b[1;92m12:00:00\u001b[0m \u001b[1;36m2020\u001b[0m-\u001b[1;36m01\u001b[0m-\u001b[1;36m11\u001b[0m \u001b[1;92m17:59:59\u001b[0m.\u001b[1;36m784000\u001b[0m\n"
      ]
     },
     "metadata": {},
     "output_type": "display_data"
    },
    {
     "data": {
      "text/html": [
       "<pre style=\"white-space:pre;overflow-x:auto;line-height:normal;font-family:Menlo,'DejaVu Sans Mono',consolas,'Courier New',monospace\">\n",
       "large2_ingested_dataset/<span style=\"color: #808000; text-decoration-color: #808000\">year</span>=<span style=\"color: #008080; text-decoration-color: #008080; font-weight: bold\">2020</span>/<span style=\"color: #808000; text-decoration-color: #808000\">month</span>=<span style=\"color: #008080; text-decoration-color: #008080; font-weight: bold\">1</span>/<span style=\"color: #ffff00; text-decoration-color: #ffff00\">2b8dfdaf-089b-4b0b-9421-d9ceaab021d1</span>-<span style=\"color: #008080; text-decoration-color: #008080; font-weight: bold\">0.</span>parquet\n",
       "num_rows =   <span style=\"color: #008080; text-decoration-color: #008080; font-weight: bold\">100000</span>  <span style=\"color: #808000; text-decoration-color: #808000\">num_row_groups</span>=<span style=\"color: #008080; text-decoration-color: #008080; font-weight: bold\">1</span> <span style=\"color: #008080; text-decoration-color: #008080; font-weight: bold\">2020</span>-<span style=\"color: #008080; text-decoration-color: #008080; font-weight: bold\">01</span>-<span style=\"color: #008080; text-decoration-color: #008080; font-weight: bold\">15</span> <span style=\"color: #00ff00; text-decoration-color: #00ff00; font-weight: bold\">06:00:00</span> <span style=\"color: #008080; text-decoration-color: #008080; font-weight: bold\">2020</span>-<span style=\"color: #008080; text-decoration-color: #008080; font-weight: bold\">01</span>-<span style=\"color: #008080; text-decoration-color: #008080; font-weight: bold\">15</span> <span style=\"color: #00ff00; text-decoration-color: #00ff00; font-weight: bold\">11:59:59</span>.<span style=\"color: #008080; text-decoration-color: #008080; font-weight: bold\">784000</span>\n",
       "</pre>\n"
      ],
      "text/plain": [
       "\n",
       "large2_ingested_dataset/\u001b[33myear\u001b[0m=\u001b[1;36m2020\u001b[0m/\u001b[33mmonth\u001b[0m=\u001b[1;36m1\u001b[0m/\u001b[93m2b8dfdaf-089b-4b0b-9421-d9ceaab021d1\u001b[0m-\u001b[1;36m0.\u001b[0mparquet\n",
       "num_rows =   \u001b[1;36m100000\u001b[0m  \u001b[33mnum_row_groups\u001b[0m=\u001b[1;36m1\u001b[0m \u001b[1;36m2020\u001b[0m-\u001b[1;36m01\u001b[0m-\u001b[1;36m15\u001b[0m \u001b[1;92m06:00:00\u001b[0m \u001b[1;36m2020\u001b[0m-\u001b[1;36m01\u001b[0m-\u001b[1;36m15\u001b[0m \u001b[1;92m11:59:59\u001b[0m.\u001b[1;36m784000\u001b[0m\n"
      ]
     },
     "metadata": {},
     "output_type": "display_data"
    },
    {
     "data": {
      "text/html": [
       "<pre style=\"white-space:pre;overflow-x:auto;line-height:normal;font-family:Menlo,'DejaVu Sans Mono',consolas,'Courier New',monospace\">\n",
       "large2_ingested_dataset/<span style=\"color: #808000; text-decoration-color: #808000\">year</span>=<span style=\"color: #008080; text-decoration-color: #008080; font-weight: bold\">2020</span>/<span style=\"color: #808000; text-decoration-color: #808000\">month</span>=<span style=\"color: #008080; text-decoration-color: #008080; font-weight: bold\">1</span>/<span style=\"color: #ffff00; text-decoration-color: #ffff00\">2c75835f-1fe1-4749-ab78-ea204b7d0b42</span>-<span style=\"color: #008080; text-decoration-color: #008080; font-weight: bold\">0.</span>parquet\n",
       "num_rows =   <span style=\"color: #008080; text-decoration-color: #008080; font-weight: bold\">100000</span>  <span style=\"color: #808000; text-decoration-color: #808000\">num_row_groups</span>=<span style=\"color: #008080; text-decoration-color: #008080; font-weight: bold\">1</span> <span style=\"color: #008080; text-decoration-color: #008080; font-weight: bold\">2020</span>-<span style=\"color: #008080; text-decoration-color: #008080; font-weight: bold\">01</span>-<span style=\"color: #008080; text-decoration-color: #008080; font-weight: bold\">08</span> <span style=\"color: #00ff00; text-decoration-color: #00ff00; font-weight: bold\">06:00:00</span> <span style=\"color: #008080; text-decoration-color: #008080; font-weight: bold\">2020</span>-<span style=\"color: #008080; text-decoration-color: #008080; font-weight: bold\">01</span>-<span style=\"color: #008080; text-decoration-color: #008080; font-weight: bold\">08</span> <span style=\"color: #00ff00; text-decoration-color: #00ff00; font-weight: bold\">11:59:59</span>.<span style=\"color: #008080; text-decoration-color: #008080; font-weight: bold\">784000</span>\n",
       "</pre>\n"
      ],
      "text/plain": [
       "\n",
       "large2_ingested_dataset/\u001b[33myear\u001b[0m=\u001b[1;36m2020\u001b[0m/\u001b[33mmonth\u001b[0m=\u001b[1;36m1\u001b[0m/\u001b[93m2c75835f-1fe1-4749-ab78-ea204b7d0b42\u001b[0m-\u001b[1;36m0.\u001b[0mparquet\n",
       "num_rows =   \u001b[1;36m100000\u001b[0m  \u001b[33mnum_row_groups\u001b[0m=\u001b[1;36m1\u001b[0m \u001b[1;36m2020\u001b[0m-\u001b[1;36m01\u001b[0m-\u001b[1;36m08\u001b[0m \u001b[1;92m06:00:00\u001b[0m \u001b[1;36m2020\u001b[0m-\u001b[1;36m01\u001b[0m-\u001b[1;36m08\u001b[0m \u001b[1;92m11:59:59\u001b[0m.\u001b[1;36m784000\u001b[0m\n"
      ]
     },
     "metadata": {},
     "output_type": "display_data"
    },
    {
     "data": {
      "text/html": [
       "<pre style=\"white-space:pre;overflow-x:auto;line-height:normal;font-family:Menlo,'DejaVu Sans Mono',consolas,'Courier New',monospace\">\n",
       "large2_ingested_dataset/<span style=\"color: #808000; text-decoration-color: #808000\">year</span>=<span style=\"color: #008080; text-decoration-color: #008080; font-weight: bold\">2020</span>/<span style=\"color: #808000; text-decoration-color: #808000\">month</span>=<span style=\"color: #008080; text-decoration-color: #008080; font-weight: bold\">1</span>/<span style=\"color: #ffff00; text-decoration-color: #ffff00\">2cdb523d-8096-4d90-ac2c-701484c5056d</span>-<span style=\"color: #008080; text-decoration-color: #008080; font-weight: bold\">0.</span>parquet\n",
       "num_rows =   <span style=\"color: #008080; text-decoration-color: #008080; font-weight: bold\">100000</span>  <span style=\"color: #808000; text-decoration-color: #808000\">num_row_groups</span>=<span style=\"color: #008080; text-decoration-color: #008080; font-weight: bold\">1</span> <span style=\"color: #008080; text-decoration-color: #008080; font-weight: bold\">2020</span>-<span style=\"color: #008080; text-decoration-color: #008080; font-weight: bold\">01</span>-<span style=\"color: #008080; text-decoration-color: #008080; font-weight: bold\">10</span> <span style=\"color: #00ff00; text-decoration-color: #00ff00; font-weight: bold\">18:00:00</span> <span style=\"color: #008080; text-decoration-color: #008080; font-weight: bold\">2020</span>-<span style=\"color: #008080; text-decoration-color: #008080; font-weight: bold\">01</span>-<span style=\"color: #008080; text-decoration-color: #008080; font-weight: bold\">10</span> <span style=\"color: #00ff00; text-decoration-color: #00ff00; font-weight: bold\">23:59:59</span>.<span style=\"color: #008080; text-decoration-color: #008080; font-weight: bold\">784000</span>\n",
       "</pre>\n"
      ],
      "text/plain": [
       "\n",
       "large2_ingested_dataset/\u001b[33myear\u001b[0m=\u001b[1;36m2020\u001b[0m/\u001b[33mmonth\u001b[0m=\u001b[1;36m1\u001b[0m/\u001b[93m2cdb523d-8096-4d90-ac2c-701484c5056d\u001b[0m-\u001b[1;36m0.\u001b[0mparquet\n",
       "num_rows =   \u001b[1;36m100000\u001b[0m  \u001b[33mnum_row_groups\u001b[0m=\u001b[1;36m1\u001b[0m \u001b[1;36m2020\u001b[0m-\u001b[1;36m01\u001b[0m-\u001b[1;36m10\u001b[0m \u001b[1;92m18:00:00\u001b[0m \u001b[1;36m2020\u001b[0m-\u001b[1;36m01\u001b[0m-\u001b[1;36m10\u001b[0m \u001b[1;92m23:59:59\u001b[0m.\u001b[1;36m784000\u001b[0m\n"
      ]
     },
     "metadata": {},
     "output_type": "display_data"
    },
    {
     "data": {
      "text/html": [
       "<pre style=\"white-space:pre;overflow-x:auto;line-height:normal;font-family:Menlo,'DejaVu Sans Mono',consolas,'Courier New',monospace\">\n",
       "large2_ingested_dataset/<span style=\"color: #808000; text-decoration-color: #808000\">year</span>=<span style=\"color: #008080; text-decoration-color: #008080; font-weight: bold\">2020</span>/<span style=\"color: #808000; text-decoration-color: #808000\">month</span>=<span style=\"color: #008080; text-decoration-color: #008080; font-weight: bold\">1</span>/<span style=\"color: #ffff00; text-decoration-color: #ffff00\">2ce48169-87a8-4bc0-bda2-68cf70f4702f</span>-<span style=\"color: #008080; text-decoration-color: #008080; font-weight: bold\">0.</span>parquet\n",
       "num_rows =   <span style=\"color: #008080; text-decoration-color: #008080; font-weight: bold\">100000</span>  <span style=\"color: #808000; text-decoration-color: #808000\">num_row_groups</span>=<span style=\"color: #008080; text-decoration-color: #008080; font-weight: bold\">1</span> <span style=\"color: #008080; text-decoration-color: #008080; font-weight: bold\">2020</span>-<span style=\"color: #008080; text-decoration-color: #008080; font-weight: bold\">01</span>-<span style=\"color: #008080; text-decoration-color: #008080; font-weight: bold\">08</span> <span style=\"color: #00ff00; text-decoration-color: #00ff00; font-weight: bold\">00:00:00</span> <span style=\"color: #008080; text-decoration-color: #008080; font-weight: bold\">2020</span>-<span style=\"color: #008080; text-decoration-color: #008080; font-weight: bold\">01</span>-<span style=\"color: #008080; text-decoration-color: #008080; font-weight: bold\">08</span> <span style=\"color: #00ff00; text-decoration-color: #00ff00; font-weight: bold\">05:59:59</span>.<span style=\"color: #008080; text-decoration-color: #008080; font-weight: bold\">784000</span>\n",
       "</pre>\n"
      ],
      "text/plain": [
       "\n",
       "large2_ingested_dataset/\u001b[33myear\u001b[0m=\u001b[1;36m2020\u001b[0m/\u001b[33mmonth\u001b[0m=\u001b[1;36m1\u001b[0m/\u001b[93m2ce48169-87a8-4bc0-bda2-68cf70f4702f\u001b[0m-\u001b[1;36m0.\u001b[0mparquet\n",
       "num_rows =   \u001b[1;36m100000\u001b[0m  \u001b[33mnum_row_groups\u001b[0m=\u001b[1;36m1\u001b[0m \u001b[1;36m2020\u001b[0m-\u001b[1;36m01\u001b[0m-\u001b[1;36m08\u001b[0m \u001b[1;92m00:00:00\u001b[0m \u001b[1;36m2020\u001b[0m-\u001b[1;36m01\u001b[0m-\u001b[1;36m08\u001b[0m \u001b[1;92m05:59:59\u001b[0m.\u001b[1;36m784000\u001b[0m\n"
      ]
     },
     "metadata": {},
     "output_type": "display_data"
    },
    {
     "data": {
      "text/html": [
       "<pre style=\"white-space:pre;overflow-x:auto;line-height:normal;font-family:Menlo,'DejaVu Sans Mono',consolas,'Courier New',monospace\">\n",
       "large2_ingested_dataset/<span style=\"color: #808000; text-decoration-color: #808000\">year</span>=<span style=\"color: #008080; text-decoration-color: #008080; font-weight: bold\">2020</span>/<span style=\"color: #808000; text-decoration-color: #808000\">month</span>=<span style=\"color: #008080; text-decoration-color: #008080; font-weight: bold\">1</span>/<span style=\"color: #ffff00; text-decoration-color: #ffff00\">31c19ee1-9a0b-411c-aca0-398a19602483</span>-<span style=\"color: #008080; text-decoration-color: #008080; font-weight: bold\">0.</span>parquet\n",
       "num_rows =   <span style=\"color: #008080; text-decoration-color: #008080; font-weight: bold\">100000</span>  <span style=\"color: #808000; text-decoration-color: #808000\">num_row_groups</span>=<span style=\"color: #008080; text-decoration-color: #008080; font-weight: bold\">1</span> <span style=\"color: #008080; text-decoration-color: #008080; font-weight: bold\">2020</span>-<span style=\"color: #008080; text-decoration-color: #008080; font-weight: bold\">01</span>-<span style=\"color: #008080; text-decoration-color: #008080; font-weight: bold\">25</span> <span style=\"color: #00ff00; text-decoration-color: #00ff00; font-weight: bold\">00:00:00</span> <span style=\"color: #008080; text-decoration-color: #008080; font-weight: bold\">2020</span>-<span style=\"color: #008080; text-decoration-color: #008080; font-weight: bold\">01</span>-<span style=\"color: #008080; text-decoration-color: #008080; font-weight: bold\">25</span> <span style=\"color: #00ff00; text-decoration-color: #00ff00; font-weight: bold\">05:59:59</span>.<span style=\"color: #008080; text-decoration-color: #008080; font-weight: bold\">784000</span>\n",
       "</pre>\n"
      ],
      "text/plain": [
       "\n",
       "large2_ingested_dataset/\u001b[33myear\u001b[0m=\u001b[1;36m2020\u001b[0m/\u001b[33mmonth\u001b[0m=\u001b[1;36m1\u001b[0m/\u001b[93m31c19ee1-9a0b-411c-aca0-398a19602483\u001b[0m-\u001b[1;36m0.\u001b[0mparquet\n",
       "num_rows =   \u001b[1;36m100000\u001b[0m  \u001b[33mnum_row_groups\u001b[0m=\u001b[1;36m1\u001b[0m \u001b[1;36m2020\u001b[0m-\u001b[1;36m01\u001b[0m-\u001b[1;36m25\u001b[0m \u001b[1;92m00:00:00\u001b[0m \u001b[1;36m2020\u001b[0m-\u001b[1;36m01\u001b[0m-\u001b[1;36m25\u001b[0m \u001b[1;92m05:59:59\u001b[0m.\u001b[1;36m784000\u001b[0m\n"
      ]
     },
     "metadata": {},
     "output_type": "display_data"
    },
    {
     "data": {
      "text/html": [
       "<pre style=\"white-space:pre;overflow-x:auto;line-height:normal;font-family:Menlo,'DejaVu Sans Mono',consolas,'Courier New',monospace\">\n",
       "large2_ingested_dataset/<span style=\"color: #808000; text-decoration-color: #808000\">year</span>=<span style=\"color: #008080; text-decoration-color: #008080; font-weight: bold\">2020</span>/<span style=\"color: #808000; text-decoration-color: #808000\">month</span>=<span style=\"color: #008080; text-decoration-color: #008080; font-weight: bold\">1</span>/<span style=\"color: #ffff00; text-decoration-color: #ffff00\">326c9ae2-44ee-40d5-a696-799f73c19cd8</span>-<span style=\"color: #008080; text-decoration-color: #008080; font-weight: bold\">0.</span>parquet\n",
       "num_rows =   <span style=\"color: #008080; text-decoration-color: #008080; font-weight: bold\">100000</span>  <span style=\"color: #808000; text-decoration-color: #808000\">num_row_groups</span>=<span style=\"color: #008080; text-decoration-color: #008080; font-weight: bold\">1</span> <span style=\"color: #008080; text-decoration-color: #008080; font-weight: bold\">2020</span>-<span style=\"color: #008080; text-decoration-color: #008080; font-weight: bold\">01</span>-<span style=\"color: #008080; text-decoration-color: #008080; font-weight: bold\">21</span> <span style=\"color: #00ff00; text-decoration-color: #00ff00; font-weight: bold\">18:00:00</span> <span style=\"color: #008080; text-decoration-color: #008080; font-weight: bold\">2020</span>-<span style=\"color: #008080; text-decoration-color: #008080; font-weight: bold\">01</span>-<span style=\"color: #008080; text-decoration-color: #008080; font-weight: bold\">21</span> <span style=\"color: #00ff00; text-decoration-color: #00ff00; font-weight: bold\">23:59:59</span>.<span style=\"color: #008080; text-decoration-color: #008080; font-weight: bold\">784000</span>\n",
       "</pre>\n"
      ],
      "text/plain": [
       "\n",
       "large2_ingested_dataset/\u001b[33myear\u001b[0m=\u001b[1;36m2020\u001b[0m/\u001b[33mmonth\u001b[0m=\u001b[1;36m1\u001b[0m/\u001b[93m326c9ae2-44ee-40d5-a696-799f73c19cd8\u001b[0m-\u001b[1;36m0.\u001b[0mparquet\n",
       "num_rows =   \u001b[1;36m100000\u001b[0m  \u001b[33mnum_row_groups\u001b[0m=\u001b[1;36m1\u001b[0m \u001b[1;36m2020\u001b[0m-\u001b[1;36m01\u001b[0m-\u001b[1;36m21\u001b[0m \u001b[1;92m18:00:00\u001b[0m \u001b[1;36m2020\u001b[0m-\u001b[1;36m01\u001b[0m-\u001b[1;36m21\u001b[0m \u001b[1;92m23:59:59\u001b[0m.\u001b[1;36m784000\u001b[0m\n"
      ]
     },
     "metadata": {},
     "output_type": "display_data"
    }
   ],
   "source": [
    "for i, fragment in enumerate(dataset.get_fragments()):\n",
    "    datetime = fragment.to_table().column('datetime')\n",
    "    rprint(f'\\n{fragment.path}\\nnum_rows = {fragment.count_rows():8d}  num_row_groups={fragment.num_row_groups}', \n",
    "           pc.min(datetime).as_py(), pc.max(datetime).as_py())\n",
    "    if i > 20: break"
   ]
  },
  {
   "cell_type": "code",
   "execution_count": 83,
   "id": "bd4e616d",
   "metadata": {
    "scrolled": false
   },
   "outputs": [
    {
     "data": {
      "text/plain": [
       "(3000,\n",
       " 300000000,\n",
       " [100000,\n",
       "  100000,\n",
       "  100000,\n",
       "  100000,\n",
       "  100000,\n",
       "  100000,\n",
       "  100000,\n",
       "  100000,\n",
       "  100000,\n",
       "  100000,\n",
       "  100000,\n",
       "  100000,\n",
       "  100000,\n",
       "  100000,\n",
       "  100000,\n",
       "  100000,\n",
       "  100000,\n",
       "  100000,\n",
       "  100000,\n",
       "  100000])"
      ]
     },
     "execution_count": 83,
     "metadata": {},
     "output_type": "execute_result"
    }
   ],
   "source": [
    "batch_rows = [batch.num_rows for batch in dataset.to_batches()]  # carefull, this scans the entire dataset!\n",
    "len(batch_rows), sum(batch_rows), batch_rows[:20]"
   ]
  },
  {
   "cell_type": "markdown",
   "id": "e22f4912",
   "metadata": {},
   "source": [
    "# Query\n"
   ]
  },
  {
   "cell_type": "code",
   "execution_count": 84,
   "id": "debd8818",
   "metadata": {},
   "outputs": [
    {
     "data": {
      "text/plain": [
       "PosixPath('large2_ingested_dataset')"
      ]
     },
     "execution_count": 84,
     "metadata": {},
     "output_type": "execute_result"
    }
   ],
   "source": [
    "path"
   ]
  },
  {
   "cell_type": "code",
   "execution_count": 85,
   "id": "040fe001",
   "metadata": {},
   "outputs": [],
   "source": [
    "columns = ['datetime', 'cat_col_01', 'num_col_01']\n",
    "filters = pq._filters_to_expression([\n",
    "    ('month', '<', 4),\n",
    "    ('day', '<', 5),\n",
    "    ('cat_col_00', '=', 'foo')\n",
    "])\n",
    "\n",
    "table = dataset.to_table(columns=columns, filter=filters)"
   ]
  },
  {
   "cell_type": "code",
   "execution_count": 87,
   "id": "85121456",
   "metadata": {},
   "outputs": [
    {
     "data": {
      "text/html": [
       "<div>\n",
       "<style scoped>\n",
       "    .dataframe tbody tr th:only-of-type {\n",
       "        vertical-align: middle;\n",
       "    }\n",
       "\n",
       "    .dataframe tbody tr th {\n",
       "        vertical-align: top;\n",
       "    }\n",
       "\n",
       "    .dataframe thead th {\n",
       "        text-align: right;\n",
       "    }\n",
       "</style>\n",
       "<table border=\"1\" class=\"dataframe\">\n",
       "  <thead>\n",
       "    <tr style=\"text-align: right;\">\n",
       "      <th></th>\n",
       "      <th>datetime</th>\n",
       "      <th>cat_col_01</th>\n",
       "      <th>num_col_01</th>\n",
       "    </tr>\n",
       "  </thead>\n",
       "  <tbody>\n",
       "    <tr>\n",
       "      <th>0</th>\n",
       "      <td>2020-01-01 18:00:00.216</td>\n",
       "      <td>red</td>\n",
       "      <td>-0.362310</td>\n",
       "    </tr>\n",
       "    <tr>\n",
       "      <th>1</th>\n",
       "      <td>2020-01-01 18:00:02.160</td>\n",
       "      <td>green</td>\n",
       "      <td>1.620285</td>\n",
       "    </tr>\n",
       "    <tr>\n",
       "      <th>2</th>\n",
       "      <td>2020-01-01 18:00:04.752</td>\n",
       "      <td>red</td>\n",
       "      <td>-0.753150</td>\n",
       "    </tr>\n",
       "    <tr>\n",
       "      <th>3</th>\n",
       "      <td>2020-01-01 18:00:05.400</td>\n",
       "      <td>red</td>\n",
       "      <td>-0.701831</td>\n",
       "    </tr>\n",
       "    <tr>\n",
       "      <th>4</th>\n",
       "      <td>2020-01-01 18:00:06.048</td>\n",
       "      <td>green</td>\n",
       "      <td>1.125831</td>\n",
       "    </tr>\n",
       "    <tr>\n",
       "      <th>...</th>\n",
       "      <td>...</td>\n",
       "      <td>...</td>\n",
       "      <td>...</td>\n",
       "    </tr>\n",
       "    <tr>\n",
       "      <th>3733115</th>\n",
       "      <td>2022-01-04 17:59:56.112</td>\n",
       "      <td>blue</td>\n",
       "      <td>-0.845091</td>\n",
       "    </tr>\n",
       "    <tr>\n",
       "      <th>3733116</th>\n",
       "      <td>2022-01-04 17:59:57.408</td>\n",
       "      <td>blue</td>\n",
       "      <td>-0.561497</td>\n",
       "    </tr>\n",
       "    <tr>\n",
       "      <th>3733117</th>\n",
       "      <td>2022-01-04 17:59:58.272</td>\n",
       "      <td>red</td>\n",
       "      <td>-1.398892</td>\n",
       "    </tr>\n",
       "    <tr>\n",
       "      <th>3733118</th>\n",
       "      <td>2022-01-04 17:59:58.704</td>\n",
       "      <td>green</td>\n",
       "      <td>0.921700</td>\n",
       "    </tr>\n",
       "    <tr>\n",
       "      <th>3733119</th>\n",
       "      <td>2022-01-04 17:59:58.920</td>\n",
       "      <td>red</td>\n",
       "      <td>-0.080966</td>\n",
       "    </tr>\n",
       "  </tbody>\n",
       "</table>\n",
       "<p>3733120 rows × 3 columns</p>\n",
       "</div>"
      ],
      "text/plain": [
       "                       datetime cat_col_01  num_col_01\n",
       "0       2020-01-01 18:00:00.216        red   -0.362310\n",
       "1       2020-01-01 18:00:02.160      green    1.620285\n",
       "2       2020-01-01 18:00:04.752        red   -0.753150\n",
       "3       2020-01-01 18:00:05.400        red   -0.701831\n",
       "4       2020-01-01 18:00:06.048      green    1.125831\n",
       "...                         ...        ...         ...\n",
       "3733115 2022-01-04 17:59:56.112       blue   -0.845091\n",
       "3733116 2022-01-04 17:59:57.408       blue   -0.561497\n",
       "3733117 2022-01-04 17:59:58.272        red   -1.398892\n",
       "3733118 2022-01-04 17:59:58.704      green    0.921700\n",
       "3733119 2022-01-04 17:59:58.920        red   -0.080966\n",
       "\n",
       "[3733120 rows x 3 columns]"
      ]
     },
     "execution_count": 87,
     "metadata": {},
     "output_type": "execute_result"
    }
   ],
   "source": [
    "table.to_pandas()"
   ]
  }
 ],
 "metadata": {
  "interpreter": {
   "hash": "5fd27200fc76fd1ac14b85cadd2a1e75230a9fa5a037d1ebc77cb53d0d127a04"
  },
  "jupytext": {
   "cell_metadata_filter": "-all",
   "main_language": "python",
   "notebook_metadata_filter": "-all"
  },
  "kernelspec": {
   "display_name": "Python 3 (ipykernel)",
   "language": "python",
   "name": "python3"
  },
  "language_info": {
   "codemirror_mode": {
    "name": "ipython",
    "version": 3
   },
   "file_extension": ".py",
   "mimetype": "text/x-python",
   "name": "python",
   "nbconvert_exporter": "python",
   "pygments_lexer": "ipython3",
   "version": "3.10.4"
  }
 },
 "nbformat": 4,
 "nbformat_minor": 5
}

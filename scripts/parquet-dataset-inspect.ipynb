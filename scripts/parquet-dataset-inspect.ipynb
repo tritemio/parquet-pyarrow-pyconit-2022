{
 "cells": [
  {
   "cell_type": "code",
   "execution_count": 4,
   "id": "53c298d3",
   "metadata": {
    "lines_to_next_cell": 2
   },
   "outputs": [
    {
     "name": "stdout",
     "output_type": "stream",
     "text": [
      "medium_raw_dataset\r\n",
      "├── 0031777d-7e2f-4ac4-9230-500a40909a71-0.parquet\r\n",
      "├── 003b238b-849e-48f4-9271-46da2b4f0d75-0.parquet\r\n",
      "├── 00824f0e-0725-4089-985b-93e2929ddf71-0.parquet\r\n",
      "├── 008bed53-2fe3-4fd3-823b-e063094b95ac-0.parquet\r\n",
      "├── 009495e9-4551-4475-a14a-4895998e9114-0.parquet\r\n",
      "├── 00b4537e-9b21-4bae-a6f2-dfe655924ab7-0.parquet\r\n",
      "├── 00c3a858-1141-4815-978f-4fa3bd3c0465-0.parquet\r\n",
      "├── 00cecd1c-4e50-4133-b150-ca2a4f21b11e-0.parquet\r\n",
      "├── 00e4eb81-a8ce-47c4-830e-459c47797b40-0.parquet\r\n",
      "├── 00e58aaf-7460-4a80-996a-8c9cbcbe09c8-0.parquet\r\n",
      "├── 00e74613-fd14-4570-b12d-955d5db6bed5-0.parquet\r\n",
      "├── 01022a03-9bef-4558-b942-cb30a9fc3b7f-0.parquet\r\n",
      "├── 010907d0-f4dc-46be-b3fd-e8a73c10b2e4-0.parquet\r\n",
      "├── 010a44e6-a566-4849-bcbc-c49c749800b8-0.parquet\r\n",
      "├── 011fce0b-7af6-4a73-8ca9-477d0f5b7f79-0.parquet\r\n",
      "├── 01605047-daaf-4a79-a8db-fa62a22146ca-0.parquet\r\n",
      "├── 01696c66-dfad-48ea-9a28-ed48de4dba8b-0.parquet\r\n",
      "├── 01710347-b4d0-4a4b-859c-428d3b4a9704-0.parquet\r\n",
      "├── 017b0666-e51f-4853-8ae6-a4bb7fe88f44-0.parquet\r\n",
      "├── 018510a0-8fdf-4a4d-bca0-34de021913a5-0.parquet\r\n",
      "├── 01993c0a-eecf-4649-8d5a-6f9af83c3414-0.parquet\r\n",
      "├── 01bb7ff4-d412-4bc3-84cb-544eb38ae5ca-0.parquet\r\n",
      "├── 01ea5322-5f12-4490-8ca4-3818e0bb8acc-0.parquet\r\n",
      "├── 02038c7e-1465-4f97-a302-d7b244e59fad-0.parquet\r\n",
      "├── 0212f04b-d0fa-43f8-bd98-14fcab830148-0.parquet\r\n",
      "├── 0229983f-cd95-43ba-a0a0-dfe88811abb3-0.parquet\r\n",
      "├── 02422c72-7f5d-4dee-a98a-6f591870d19c-0.parquet\r\n",
      "├── 02cb4285-52aa-4b52-9bd3-688b41f689c0-0.parquet\r\n",
      "├── 02dab55a-6824-44ad-b4ea-06807edf7a69-0.parquet\r\n",
      "├── 03104230-2d20-478e-903e-5b3c099b175f-0.parquet\r\n",
      "├── 03120c55-6b19-4bd4-a310-c72a8b3eefbc-0.parquet\r\n",
      "├── 031535eb-4412-4e6c-97cd-f6ff3ab99230-0.parquet\r\n",
      "├── 031ea7ee-3362-44e6-a5b9-df52344bc1e3-0.parquet\r\n",
      "├── 031fad5c-ca00-4ee8-89f5-7cf8c255e577-0.parquet\r\n",
      "├── 0335ad9f-50cc-42cf-9ac5-9927f34165b3-0.parquet\r\n",
      "├── 0342ee2e-77ec-4c64-9dde-afdeccf61c6d-0.parquet\r\n",
      "├── 034e9521-429a-4e31-8869-4cabdfb2cbae-0.parquet\r\n",
      "├── 0351892a-050d-4e79-84dc-eaf9fcbcb2a7-0.parquet\r\n",
      "├── 03571fb9-bdbe-4bc9-aa53-3764786ed724-0.parquet\r\n",
      "├── 03753695-faad-4611-bf1c-79ee548f5392-0.parquet\r\n",
      "├── 0389f8c1-eae6-4c44-ad90-b5e1873982cf-0.parquet\r\n",
      "├── 03acfc8e-34e6-4d41-92e6-42a83a2a1796-0.parquet\r\n",
      "├── 03afe147-f9a2-41d0-9134-5fe2f9344cf2-0.parquet\r\n",
      "├── 03c0f4db-44ac-4c56-9136-d389eb1bbe02-0.parquet\r\n",
      "├── 03ca7a5b-de36-48d7-ac62-ae4290df779d-0.parquet\r\n",
      "├── 03f1b1ae-762d-41e4-a00b-874b2e88d855-0.parquet\r\n",
      "├── 04311f1c-a53e-4de6-8744-da0059414f7b-0.parquet\r\n",
      "├── 044a3ff0-e4ba-4403-b61a-262382838edb-0.parquet\r\n",
      "├── 046f4f2c-fcdd-435c-9ef8-2522b6b7abd2-0.parquet\r\n",
      "├── 047c857f-234e-47a7-9736-3210f2ee4390-0.parquet\r\n",
      "├── 04a2f5b8-57f0-4092-a84a-cc39fa94e556-0.parquet\r\n",
      "├── 04b8f459-c88f-4561-9bc7-0fd0442826cd-0.parquet\r\n",
      "├── 04bec8cc-888d-44d1-ae49-1ad0eaf5530f-0.parquet\r\n",
      "├── 04ce63f8-9f11-4925-a944-f42d56cddce9-0.parquet\r\n",
      "├── 050a79f8-b619-4a5a-84ce-d43fca8fa649-0.parquet\r\n",
      "├── 05276d56-9753-4dd2-aad7-123467a112bd-0.parquet\r\n",
      "├── 0536756d-e7ce-4bf5-b5bd-117f821bc1e1-0.parquet\r\n",
      "├── 0582b93e-fd0c-4265-b967-75789b29cdf0-0.parquet\r\n",
      "├── 05997b61-ef03-435b-a5cf-66cebbc0788a-0.parquet\r\n",
      "├── 0599c25c-46c7-4bbc-abb5-03578d9ab10e-0.parquet\r\n",
      "├── 05a0b639-8f21-4896-8255-2c71191b048c-0.parquet\r\n",
      "├── 05a53fc2-fa6a-4aa1-8f85-47b45c71b91b-0.parquet\r\n",
      "├── 05a74f48-ebf0-45d9-b44b-d3f59adba2a2-0.parquet\r\n",
      "├── 05bc1559-aba5-434b-9365-5846d6f6b586-0.parquet\r\n",
      "├── 05e6283b-4755-4886-8972-0c1c4ff9c391-0.parquet\r\n",
      "├── 05edb4f7-8720-4412-b35e-633f4aa1549f-0.parquet\r\n",
      "├── 05efdd63-c145-4c08-99d9-45373afc5d12-0.parquet\r\n",
      "├── 0609f7e6-50a7-490e-b1a8-82cc07ceb6c7-0.parquet\r\n",
      "├── 060e99b8-a7dd-4acc-9505-6518d31cf9f1-0.parquet\r\n",
      "├── 06544538-58de-4cc6-ba06-8ab39d72bcfc-0.parquet\r\n",
      "├── 065bb96d-779c-433a-b79e-60033736ec75-0.parquet\r\n",
      "├── 065fc4c1-a2c4-4e1c-a5f4-1b30043b8050-0.parquet\r\n",
      "├── 0669b77b-aece-4ecf-a670-488f5bad47d5-0.parquet\r\n",
      "├── 068e09f5-af37-41a2-9721-a114fd870881-0.parquet\r\n",
      "├── 06986377-4c10-4973-b3a5-34fc03d90918-0.parquet\r\n",
      "├── 06a09238-2a1b-4f84-97d1-90be9ca01a66-0.parquet\r\n",
      "├── 06afa214-a19d-4204-b0e2-c8adae3a1688-0.parquet\r\n",
      "├── 06cd2d49-4aa1-41cd-976f-835923aed517-0.parquet\r\n",
      "├── 06eca1de-51fc-41d1-9b58-a16c7e01a203-0.parquet\r\n",
      "├── 06ff2d5b-d203-4688-a8ad-14c9c21c9014-0.parquet\r\n",
      "├── 07255d3c-c8d3-4ebc-a74f-f0b62ee252f3-0.parquet\r\n",
      "├── 0759e183-b939-4318-9c34-a56eeed17b4a-0.parquet\r\n",
      "├── 0771e5ff-0c6d-4b6a-9ec1-51a53164c84c-0.parquet\r\n",
      "├── 078b6fe3-22bb-4be8-b6e6-885b36f2b5c0-0.parquet\r\n",
      "├── 079fdaf5-227a-4cbb-b8b8-ba35a8d43e6a-0.parquet\r\n",
      "├── 07aa0983-4dc5-4b01-9df1-ec6a2fc853f3-0.parquet\r\n",
      "├── 07bcedcd-b322-4434-ba88-3ab2eba276e9-0.parquet\r\n",
      "├── 07dd1081-fdb6-4022-8ff0-4e12baf257aa-0.parquet\r\n",
      "├── 07dee139-23e2-4711-908b-a7b0c7e1d475-0.parquet\r\n",
      "├── 07f04e2f-ec38-4d78-b4e0-c87f4b8ca1f8-0.parquet\r\n",
      "├── 07fbf1b1-ad47-4771-83b1-103ad50a97ed-0.parquet\r\n",
      "├── 07fd95e8-b846-4047-ac54-3f9326effae0-0.parquet\r\n",
      "├── 0852ed04-a681-4365-8311-089a674bffd9-0.parquet\r\n",
      "├── 0871e565-6702-450b-8ec7-f64a219e8c43-0.parquet\r\n",
      "├── 08d3b887-b1af-4119-8519-bc65ce68d4af-0.parquet\r\n",
      "├── 08edb293-ebf7-4040-827c-3475600e8f70-0.parquet\r\n",
      "├── 0909a7b4-9b2e-4c87-a180-619ae07b1a15-0.parquet\r\n",
      "├── 092103f1-0ac6-43c6-95d3-39b85435d2e2-0.parquet\r\n",
      "├── 093f66b4-5f8e-446a-8ce9-7918f787461c-0.parquet\r\n"
     ]
    }
   ],
   "source": [
    "from pathlib import Path\n",
    "import pyarrow.compute as pc   \n",
    "import pyarrow.dataset as ds   \n",
    "import pyarrow.parquet as pq   \n",
    "from rich import print as rprint\n",
    "from rich.pretty import pprint\n",
    "\n",
    "path = Path('medium_raw_dataset')\n",
    "# path = Path('tiny_ingested_dataset')\n",
    "# path = Path('tiny_compacted_dataset')\n",
    "\n",
    "!tree $path | head -n 100"
   ]
  },
  {
   "cell_type": "markdown",
   "id": "6814ba4b",
   "metadata": {},
   "source": [
    "# Dataset read\n",
    "\n",
    "This is only a pointer to the dataset:"
   ]
  },
  {
   "cell_type": "code",
   "execution_count": 5,
   "id": "c5a134b9",
   "metadata": {},
   "outputs": [
    {
     "data": {
      "text/html": [
       "<pre style=\"white-space:pre;overflow-x:auto;line-height:normal;font-family:Menlo,'DejaVu Sans Mono',consolas,'Courier New',monospace\">Dataset files: <span style=\"color: #008080; text-decoration-color: #008080; font-weight: bold\">3000</span>\n",
       "</pre>\n"
      ],
      "text/plain": [
       "Dataset files: \u001b[1;36m3000\u001b[0m\n"
      ]
     },
     "metadata": {},
     "output_type": "display_data"
    },
    {
     "data": {
      "text/html": [
       "<pre style=\"white-space:pre;overflow-x:auto;line-height:normal;font-family:Menlo,'DejaVu Sans Mono',consolas,'Courier New',monospace\">datetime: timestamp<span style=\"font-weight: bold\">[</span>ns<span style=\"font-weight: bold\">]</span>\n",
       "cat_col_00: dictionary<span style=\"font-weight: bold\">&lt;</span><span style=\"color: #808000; text-decoration-color: #808000; font-weight: bold\">values</span><span style=\"color: #000000; text-decoration-color: #000000\">=</span><span style=\"color: #800080; text-decoration-color: #800080\">string</span><span style=\"color: #000000; text-decoration-color: #000000\">, </span><span style=\"color: #808000; text-decoration-color: #808000\">indices</span><span style=\"color: #000000; text-decoration-color: #000000\">=</span><span style=\"color: #800080; text-decoration-color: #800080\">int32</span><span style=\"color: #000000; text-decoration-color: #000000\">, </span><span style=\"color: #808000; text-decoration-color: #808000\">ordered</span><span style=\"color: #000000; text-decoration-color: #000000\">=</span><span style=\"color: #008080; text-decoration-color: #008080; font-weight: bold\">0</span><span style=\"font-weight: bold\">&gt;</span>\n",
       "cat_col_01: dictionary<span style=\"font-weight: bold\">&lt;</span><span style=\"color: #808000; text-decoration-color: #808000; font-weight: bold\">values</span><span style=\"color: #000000; text-decoration-color: #000000\">=</span><span style=\"color: #800080; text-decoration-color: #800080\">string</span><span style=\"color: #000000; text-decoration-color: #000000\">, </span><span style=\"color: #808000; text-decoration-color: #808000\">indices</span><span style=\"color: #000000; text-decoration-color: #000000\">=</span><span style=\"color: #800080; text-decoration-color: #800080\">int32</span><span style=\"color: #000000; text-decoration-color: #000000\">, </span><span style=\"color: #808000; text-decoration-color: #808000\">ordered</span><span style=\"color: #000000; text-decoration-color: #000000\">=</span><span style=\"color: #008080; text-decoration-color: #008080; font-weight: bold\">0</span><span style=\"font-weight: bold\">&gt;</span>\n",
       "cat_col_02: dictionary<span style=\"font-weight: bold\">&lt;</span><span style=\"color: #808000; text-decoration-color: #808000; font-weight: bold\">values</span><span style=\"color: #000000; text-decoration-color: #000000\">=</span><span style=\"color: #800080; text-decoration-color: #800080\">string</span><span style=\"color: #000000; text-decoration-color: #000000\">, </span><span style=\"color: #808000; text-decoration-color: #808000\">indices</span><span style=\"color: #000000; text-decoration-color: #000000\">=</span><span style=\"color: #800080; text-decoration-color: #800080\">int32</span><span style=\"color: #000000; text-decoration-color: #000000\">, </span><span style=\"color: #808000; text-decoration-color: #808000\">ordered</span><span style=\"color: #000000; text-decoration-color: #000000\">=</span><span style=\"color: #008080; text-decoration-color: #008080; font-weight: bold\">0</span><span style=\"font-weight: bold\">&gt;</span>\n",
       "num_col_00: double\n",
       "num_col_01: double\n",
       "num_col_02: double\n",
       "num_col_03: double\n",
       "num_col_04: double\n",
       "num_col_05: double\n",
       "num_col_06: double\n",
       "num_col_07: double\n",
       "num_col_08: double\n",
       "num_col_09: double\n",
       "batch: int64\n",
       "</pre>\n"
      ],
      "text/plain": [
       "datetime: timestamp\u001b[1m[\u001b[0mns\u001b[1m]\u001b[0m\n",
       "cat_col_00: dictionary\u001b[1m<\u001b[0m\u001b[1;33mvalues\u001b[0m\u001b[39m=\u001b[0m\u001b[35mstring\u001b[0m\u001b[39m, \u001b[0m\u001b[33mindices\u001b[0m\u001b[39m=\u001b[0m\u001b[35mint32\u001b[0m\u001b[39m, \u001b[0m\u001b[33mordered\u001b[0m\u001b[39m=\u001b[0m\u001b[1;36m0\u001b[0m\u001b[1m>\u001b[0m\n",
       "cat_col_01: dictionary\u001b[1m<\u001b[0m\u001b[1;33mvalues\u001b[0m\u001b[39m=\u001b[0m\u001b[35mstring\u001b[0m\u001b[39m, \u001b[0m\u001b[33mindices\u001b[0m\u001b[39m=\u001b[0m\u001b[35mint32\u001b[0m\u001b[39m, \u001b[0m\u001b[33mordered\u001b[0m\u001b[39m=\u001b[0m\u001b[1;36m0\u001b[0m\u001b[1m>\u001b[0m\n",
       "cat_col_02: dictionary\u001b[1m<\u001b[0m\u001b[1;33mvalues\u001b[0m\u001b[39m=\u001b[0m\u001b[35mstring\u001b[0m\u001b[39m, \u001b[0m\u001b[33mindices\u001b[0m\u001b[39m=\u001b[0m\u001b[35mint32\u001b[0m\u001b[39m, \u001b[0m\u001b[33mordered\u001b[0m\u001b[39m=\u001b[0m\u001b[1;36m0\u001b[0m\u001b[1m>\u001b[0m\n",
       "num_col_00: double\n",
       "num_col_01: double\n",
       "num_col_02: double\n",
       "num_col_03: double\n",
       "num_col_04: double\n",
       "num_col_05: double\n",
       "num_col_06: double\n",
       "num_col_07: double\n",
       "num_col_08: double\n",
       "num_col_09: double\n",
       "batch: int64\n"
      ]
     },
     "metadata": {},
     "output_type": "display_data"
    }
   ],
   "source": [
    "dataset = ds.dataset(path, partitioning='hive')\n",
    "rprint('Dataset files:', len(dataset.files))\n",
    "rprint(dataset.schema)"
   ]
  },
  {
   "cell_type": "code",
   "execution_count": 6,
   "id": "a9ac0d59",
   "metadata": {},
   "outputs": [
    {
     "data": {
      "text/html": [
       "<pre style=\"white-space:pre;overflow-x:auto;line-height:normal;font-family:Menlo,'DejaVu Sans Mono',consolas,'Courier New',monospace\">\n",
       "medium_raw_dataset/<span style=\"color: #ffff00; text-decoration-color: #ffff00\">0031777d-7e2f-4ac4-9230-500a40909a71</span>-<span style=\"color: #008080; text-decoration-color: #008080; font-weight: bold\">0.</span>parquet\n",
       "num_rows =    <span style=\"color: #008080; text-decoration-color: #008080; font-weight: bold\">10000</span>   <span style=\"color: #008080; text-decoration-color: #008080; font-weight: bold\">2020</span>-<span style=\"color: #008080; text-decoration-color: #008080; font-weight: bold\">01</span>-<span style=\"color: #008080; text-decoration-color: #008080; font-weight: bold\">07</span> <span style=\"color: #00ff00; text-decoration-color: #00ff00; font-weight: bold\">12:00:00</span> <span style=\"color: #008080; text-decoration-color: #008080; font-weight: bold\">2020</span>-<span style=\"color: #008080; text-decoration-color: #008080; font-weight: bold\">01</span>-<span style=\"color: #008080; text-decoration-color: #008080; font-weight: bold\">07</span> <span style=\"color: #00ff00; text-decoration-color: #00ff00; font-weight: bold\">13:59:59</span>.<span style=\"color: #008080; text-decoration-color: #008080; font-weight: bold\">280000</span>\n",
       "</pre>\n"
      ],
      "text/plain": [
       "\n",
       "medium_raw_dataset/\u001b[93m0031777d-7e2f-4ac4-9230-500a40909a71\u001b[0m-\u001b[1;36m0.\u001b[0mparquet\n",
       "num_rows =    \u001b[1;36m10000\u001b[0m   \u001b[1;36m2020\u001b[0m-\u001b[1;36m01\u001b[0m-\u001b[1;36m07\u001b[0m \u001b[1;92m12:00:00\u001b[0m \u001b[1;36m2020\u001b[0m-\u001b[1;36m01\u001b[0m-\u001b[1;36m07\u001b[0m \u001b[1;92m13:59:59\u001b[0m.\u001b[1;36m280000\u001b[0m\n"
      ]
     },
     "metadata": {},
     "output_type": "display_data"
    },
    {
     "data": {
      "text/html": [
       "<pre style=\"white-space:pre;overflow-x:auto;line-height:normal;font-family:Menlo,'DejaVu Sans Mono',consolas,'Courier New',monospace\">\n",
       "medium_raw_dataset/<span style=\"color: #ffff00; text-decoration-color: #ffff00\">003b238b-849e-48f4-9271-46da2b4f0d75</span>-<span style=\"color: #008080; text-decoration-color: #008080; font-weight: bold\">0.</span>parquet\n",
       "num_rows =    <span style=\"color: #008080; text-decoration-color: #008080; font-weight: bold\">10000</span>   <span style=\"color: #008080; text-decoration-color: #008080; font-weight: bold\">2020</span>-<span style=\"color: #008080; text-decoration-color: #008080; font-weight: bold\">05</span>-<span style=\"color: #008080; text-decoration-color: #008080; font-weight: bold\">10</span> <span style=\"color: #00ff00; text-decoration-color: #00ff00; font-weight: bold\">20:00:00</span> <span style=\"color: #008080; text-decoration-color: #008080; font-weight: bold\">2020</span>-<span style=\"color: #008080; text-decoration-color: #008080; font-weight: bold\">05</span>-<span style=\"color: #008080; text-decoration-color: #008080; font-weight: bold\">10</span> <span style=\"color: #00ff00; text-decoration-color: #00ff00; font-weight: bold\">21:59:59</span>.<span style=\"color: #008080; text-decoration-color: #008080; font-weight: bold\">280000</span>\n",
       "</pre>\n"
      ],
      "text/plain": [
       "\n",
       "medium_raw_dataset/\u001b[93m003b238b-849e-48f4-9271-46da2b4f0d75\u001b[0m-\u001b[1;36m0.\u001b[0mparquet\n",
       "num_rows =    \u001b[1;36m10000\u001b[0m   \u001b[1;36m2020\u001b[0m-\u001b[1;36m05\u001b[0m-\u001b[1;36m10\u001b[0m \u001b[1;92m20:00:00\u001b[0m \u001b[1;36m2020\u001b[0m-\u001b[1;36m05\u001b[0m-\u001b[1;36m10\u001b[0m \u001b[1;92m21:59:59\u001b[0m.\u001b[1;36m280000\u001b[0m\n"
      ]
     },
     "metadata": {},
     "output_type": "display_data"
    },
    {
     "data": {
      "text/html": [
       "<pre style=\"white-space:pre;overflow-x:auto;line-height:normal;font-family:Menlo,'DejaVu Sans Mono',consolas,'Courier New',monospace\">\n",
       "medium_raw_dataset/<span style=\"color: #ffff00; text-decoration-color: #ffff00\">00824f0e-0725-4089-985b-93e2929ddf71</span>-<span style=\"color: #008080; text-decoration-color: #008080; font-weight: bold\">0.</span>parquet\n",
       "num_rows =    <span style=\"color: #008080; text-decoration-color: #008080; font-weight: bold\">10000</span>   <span style=\"color: #008080; text-decoration-color: #008080; font-weight: bold\">2020</span>-<span style=\"color: #008080; text-decoration-color: #008080; font-weight: bold\">02</span>-<span style=\"color: #008080; text-decoration-color: #008080; font-weight: bold\">17</span> <span style=\"color: #00ff00; text-decoration-color: #00ff00; font-weight: bold\">08:00:00</span> <span style=\"color: #008080; text-decoration-color: #008080; font-weight: bold\">2020</span>-<span style=\"color: #008080; text-decoration-color: #008080; font-weight: bold\">02</span>-<span style=\"color: #008080; text-decoration-color: #008080; font-weight: bold\">17</span> <span style=\"color: #00ff00; text-decoration-color: #00ff00; font-weight: bold\">09:59:59</span>.<span style=\"color: #008080; text-decoration-color: #008080; font-weight: bold\">280000</span>\n",
       "</pre>\n"
      ],
      "text/plain": [
       "\n",
       "medium_raw_dataset/\u001b[93m00824f0e-0725-4089-985b-93e2929ddf71\u001b[0m-\u001b[1;36m0.\u001b[0mparquet\n",
       "num_rows =    \u001b[1;36m10000\u001b[0m   \u001b[1;36m2020\u001b[0m-\u001b[1;36m02\u001b[0m-\u001b[1;36m17\u001b[0m \u001b[1;92m08:00:00\u001b[0m \u001b[1;36m2020\u001b[0m-\u001b[1;36m02\u001b[0m-\u001b[1;36m17\u001b[0m \u001b[1;92m09:59:59\u001b[0m.\u001b[1;36m280000\u001b[0m\n"
      ]
     },
     "metadata": {},
     "output_type": "display_data"
    },
    {
     "data": {
      "text/html": [
       "<pre style=\"white-space:pre;overflow-x:auto;line-height:normal;font-family:Menlo,'DejaVu Sans Mono',consolas,'Courier New',monospace\">\n",
       "medium_raw_dataset/<span style=\"color: #ffff00; text-decoration-color: #ffff00\">008bed53-2fe3-4fd3-823b-e063094b95ac</span>-<span style=\"color: #008080; text-decoration-color: #008080; font-weight: bold\">0.</span>parquet\n",
       "num_rows =    <span style=\"color: #008080; text-decoration-color: #008080; font-weight: bold\">10000</span>   <span style=\"color: #008080; text-decoration-color: #008080; font-weight: bold\">2020</span>-<span style=\"color: #008080; text-decoration-color: #008080; font-weight: bold\">07</span>-<span style=\"color: #008080; text-decoration-color: #008080; font-weight: bold\">30</span> <span style=\"color: #00ff00; text-decoration-color: #00ff00; font-weight: bold\">14:00:00</span> <span style=\"color: #008080; text-decoration-color: #008080; font-weight: bold\">2020</span>-<span style=\"color: #008080; text-decoration-color: #008080; font-weight: bold\">07</span>-<span style=\"color: #008080; text-decoration-color: #008080; font-weight: bold\">30</span> <span style=\"color: #00ff00; text-decoration-color: #00ff00; font-weight: bold\">15:59:59</span>.<span style=\"color: #008080; text-decoration-color: #008080; font-weight: bold\">280000</span>\n",
       "</pre>\n"
      ],
      "text/plain": [
       "\n",
       "medium_raw_dataset/\u001b[93m008bed53-2fe3-4fd3-823b-e063094b95ac\u001b[0m-\u001b[1;36m0.\u001b[0mparquet\n",
       "num_rows =    \u001b[1;36m10000\u001b[0m   \u001b[1;36m2020\u001b[0m-\u001b[1;36m07\u001b[0m-\u001b[1;36m30\u001b[0m \u001b[1;92m14:00:00\u001b[0m \u001b[1;36m2020\u001b[0m-\u001b[1;36m07\u001b[0m-\u001b[1;36m30\u001b[0m \u001b[1;92m15:59:59\u001b[0m.\u001b[1;36m280000\u001b[0m\n"
      ]
     },
     "metadata": {},
     "output_type": "display_data"
    },
    {
     "data": {
      "text/html": [
       "<pre style=\"white-space:pre;overflow-x:auto;line-height:normal;font-family:Menlo,'DejaVu Sans Mono',consolas,'Courier New',monospace\">\n",
       "medium_raw_dataset/<span style=\"color: #ffff00; text-decoration-color: #ffff00\">009495e9-4551-4475-a14a-4895998e9114</span>-<span style=\"color: #008080; text-decoration-color: #008080; font-weight: bold\">0.</span>parquet\n",
       "num_rows =    <span style=\"color: #008080; text-decoration-color: #008080; font-weight: bold\">10000</span>   <span style=\"color: #008080; text-decoration-color: #008080; font-weight: bold\">2020</span>-<span style=\"color: #008080; text-decoration-color: #008080; font-weight: bold\">01</span>-<span style=\"color: #008080; text-decoration-color: #008080; font-weight: bold\">04</span> <span style=\"color: #00ff00; text-decoration-color: #00ff00; font-weight: bold\">10:00:00</span> <span style=\"color: #008080; text-decoration-color: #008080; font-weight: bold\">2020</span>-<span style=\"color: #008080; text-decoration-color: #008080; font-weight: bold\">01</span>-<span style=\"color: #008080; text-decoration-color: #008080; font-weight: bold\">04</span> <span style=\"color: #00ff00; text-decoration-color: #00ff00; font-weight: bold\">11:59:59</span>.<span style=\"color: #008080; text-decoration-color: #008080; font-weight: bold\">280000</span>\n",
       "</pre>\n"
      ],
      "text/plain": [
       "\n",
       "medium_raw_dataset/\u001b[93m009495e9-4551-4475-a14a-4895998e9114\u001b[0m-\u001b[1;36m0.\u001b[0mparquet\n",
       "num_rows =    \u001b[1;36m10000\u001b[0m   \u001b[1;36m2020\u001b[0m-\u001b[1;36m01\u001b[0m-\u001b[1;36m04\u001b[0m \u001b[1;92m10:00:00\u001b[0m \u001b[1;36m2020\u001b[0m-\u001b[1;36m01\u001b[0m-\u001b[1;36m04\u001b[0m \u001b[1;92m11:59:59\u001b[0m.\u001b[1;36m280000\u001b[0m\n"
      ]
     },
     "metadata": {},
     "output_type": "display_data"
    },
    {
     "data": {
      "text/html": [
       "<pre style=\"white-space:pre;overflow-x:auto;line-height:normal;font-family:Menlo,'DejaVu Sans Mono',consolas,'Courier New',monospace\">\n",
       "medium_raw_dataset/<span style=\"color: #ffff00; text-decoration-color: #ffff00\">00b4537e-9b21-4bae-a6f2-dfe655924ab7</span>-<span style=\"color: #008080; text-decoration-color: #008080; font-weight: bold\">0.</span>parquet\n",
       "num_rows =    <span style=\"color: #008080; text-decoration-color: #008080; font-weight: bold\">10000</span>   <span style=\"color: #008080; text-decoration-color: #008080; font-weight: bold\">2020</span>-<span style=\"color: #008080; text-decoration-color: #008080; font-weight: bold\">04</span>-<span style=\"color: #008080; text-decoration-color: #008080; font-weight: bold\">07</span> <span style=\"color: #00ff00; text-decoration-color: #00ff00; font-weight: bold\">00:00:00</span> <span style=\"color: #008080; text-decoration-color: #008080; font-weight: bold\">2020</span>-<span style=\"color: #008080; text-decoration-color: #008080; font-weight: bold\">04</span>-<span style=\"color: #008080; text-decoration-color: #008080; font-weight: bold\">07</span> <span style=\"color: #00ff00; text-decoration-color: #00ff00; font-weight: bold\">01:59:59</span>.<span style=\"color: #008080; text-decoration-color: #008080; font-weight: bold\">280000</span>\n",
       "</pre>\n"
      ],
      "text/plain": [
       "\n",
       "medium_raw_dataset/\u001b[93m00b4537e-9b21-4bae-a6f2-dfe655924ab7\u001b[0m-\u001b[1;36m0.\u001b[0mparquet\n",
       "num_rows =    \u001b[1;36m10000\u001b[0m   \u001b[1;36m2020\u001b[0m-\u001b[1;36m04\u001b[0m-\u001b[1;36m07\u001b[0m \u001b[1;92m00:00:00\u001b[0m \u001b[1;36m2020\u001b[0m-\u001b[1;36m04\u001b[0m-\u001b[1;36m07\u001b[0m \u001b[1;92m01:59:59\u001b[0m.\u001b[1;36m280000\u001b[0m\n"
      ]
     },
     "metadata": {},
     "output_type": "display_data"
    },
    {
     "data": {
      "text/html": [
       "<pre style=\"white-space:pre;overflow-x:auto;line-height:normal;font-family:Menlo,'DejaVu Sans Mono',consolas,'Courier New',monospace\">\n",
       "medium_raw_dataset/<span style=\"color: #ffff00; text-decoration-color: #ffff00\">00c3a858-1141-4815-978f-4fa3bd3c0465</span>-<span style=\"color: #008080; text-decoration-color: #008080; font-weight: bold\">0.</span>parquet\n",
       "num_rows =    <span style=\"color: #008080; text-decoration-color: #008080; font-weight: bold\">10000</span>   <span style=\"color: #008080; text-decoration-color: #008080; font-weight: bold\">2020</span>-<span style=\"color: #008080; text-decoration-color: #008080; font-weight: bold\">07</span>-<span style=\"color: #008080; text-decoration-color: #008080; font-weight: bold\">06</span> <span style=\"color: #00ff00; text-decoration-color: #00ff00; font-weight: bold\">08:00:00</span> <span style=\"color: #008080; text-decoration-color: #008080; font-weight: bold\">2020</span>-<span style=\"color: #008080; text-decoration-color: #008080; font-weight: bold\">07</span>-<span style=\"color: #008080; text-decoration-color: #008080; font-weight: bold\">06</span> <span style=\"color: #00ff00; text-decoration-color: #00ff00; font-weight: bold\">09:59:59</span>.<span style=\"color: #008080; text-decoration-color: #008080; font-weight: bold\">280000</span>\n",
       "</pre>\n"
      ],
      "text/plain": [
       "\n",
       "medium_raw_dataset/\u001b[93m00c3a858-1141-4815-978f-4fa3bd3c0465\u001b[0m-\u001b[1;36m0.\u001b[0mparquet\n",
       "num_rows =    \u001b[1;36m10000\u001b[0m   \u001b[1;36m2020\u001b[0m-\u001b[1;36m07\u001b[0m-\u001b[1;36m06\u001b[0m \u001b[1;92m08:00:00\u001b[0m \u001b[1;36m2020\u001b[0m-\u001b[1;36m07\u001b[0m-\u001b[1;36m06\u001b[0m \u001b[1;92m09:59:59\u001b[0m.\u001b[1;36m280000\u001b[0m\n"
      ]
     },
     "metadata": {},
     "output_type": "display_data"
    },
    {
     "data": {
      "text/html": [
       "<pre style=\"white-space:pre;overflow-x:auto;line-height:normal;font-family:Menlo,'DejaVu Sans Mono',consolas,'Courier New',monospace\">\n",
       "medium_raw_dataset/<span style=\"color: #ffff00; text-decoration-color: #ffff00\">00cecd1c-4e50-4133-b150-ca2a4f21b11e</span>-<span style=\"color: #008080; text-decoration-color: #008080; font-weight: bold\">0.</span>parquet\n",
       "num_rows =    <span style=\"color: #008080; text-decoration-color: #008080; font-weight: bold\">10000</span>   <span style=\"color: #008080; text-decoration-color: #008080; font-weight: bold\">2020</span>-<span style=\"color: #008080; text-decoration-color: #008080; font-weight: bold\">01</span>-<span style=\"color: #008080; text-decoration-color: #008080; font-weight: bold\">24</span> <span style=\"color: #00ff00; text-decoration-color: #00ff00; font-weight: bold\">12:00:00</span> <span style=\"color: #008080; text-decoration-color: #008080; font-weight: bold\">2020</span>-<span style=\"color: #008080; text-decoration-color: #008080; font-weight: bold\">01</span>-<span style=\"color: #008080; text-decoration-color: #008080; font-weight: bold\">24</span> <span style=\"color: #00ff00; text-decoration-color: #00ff00; font-weight: bold\">13:59:59</span>.<span style=\"color: #008080; text-decoration-color: #008080; font-weight: bold\">280000</span>\n",
       "</pre>\n"
      ],
      "text/plain": [
       "\n",
       "medium_raw_dataset/\u001b[93m00cecd1c-4e50-4133-b150-ca2a4f21b11e\u001b[0m-\u001b[1;36m0.\u001b[0mparquet\n",
       "num_rows =    \u001b[1;36m10000\u001b[0m   \u001b[1;36m2020\u001b[0m-\u001b[1;36m01\u001b[0m-\u001b[1;36m24\u001b[0m \u001b[1;92m12:00:00\u001b[0m \u001b[1;36m2020\u001b[0m-\u001b[1;36m01\u001b[0m-\u001b[1;36m24\u001b[0m \u001b[1;92m13:59:59\u001b[0m.\u001b[1;36m280000\u001b[0m\n"
      ]
     },
     "metadata": {},
     "output_type": "display_data"
    },
    {
     "data": {
      "text/html": [
       "<pre style=\"white-space:pre;overflow-x:auto;line-height:normal;font-family:Menlo,'DejaVu Sans Mono',consolas,'Courier New',monospace\">\n",
       "medium_raw_dataset/<span style=\"color: #ffff00; text-decoration-color: #ffff00\">00e4eb81-a8ce-47c4-830e-459c47797b40</span>-<span style=\"color: #008080; text-decoration-color: #008080; font-weight: bold\">0.</span>parquet\n",
       "num_rows =    <span style=\"color: #008080; text-decoration-color: #008080; font-weight: bold\">10000</span>   <span style=\"color: #008080; text-decoration-color: #008080; font-weight: bold\">2020</span>-<span style=\"color: #008080; text-decoration-color: #008080; font-weight: bold\">02</span>-<span style=\"color: #008080; text-decoration-color: #008080; font-weight: bold\">26</span> <span style=\"color: #00ff00; text-decoration-color: #00ff00; font-weight: bold\">00:00:00</span> <span style=\"color: #008080; text-decoration-color: #008080; font-weight: bold\">2020</span>-<span style=\"color: #008080; text-decoration-color: #008080; font-weight: bold\">02</span>-<span style=\"color: #008080; text-decoration-color: #008080; font-weight: bold\">26</span> <span style=\"color: #00ff00; text-decoration-color: #00ff00; font-weight: bold\">01:59:59</span>.<span style=\"color: #008080; text-decoration-color: #008080; font-weight: bold\">280000</span>\n",
       "</pre>\n"
      ],
      "text/plain": [
       "\n",
       "medium_raw_dataset/\u001b[93m00e4eb81-a8ce-47c4-830e-459c47797b40\u001b[0m-\u001b[1;36m0.\u001b[0mparquet\n",
       "num_rows =    \u001b[1;36m10000\u001b[0m   \u001b[1;36m2020\u001b[0m-\u001b[1;36m02\u001b[0m-\u001b[1;36m26\u001b[0m \u001b[1;92m00:00:00\u001b[0m \u001b[1;36m2020\u001b[0m-\u001b[1;36m02\u001b[0m-\u001b[1;36m26\u001b[0m \u001b[1;92m01:59:59\u001b[0m.\u001b[1;36m280000\u001b[0m\n"
      ]
     },
     "metadata": {},
     "output_type": "display_data"
    },
    {
     "data": {
      "text/html": [
       "<pre style=\"white-space:pre;overflow-x:auto;line-height:normal;font-family:Menlo,'DejaVu Sans Mono',consolas,'Courier New',monospace\">\n",
       "medium_raw_dataset/<span style=\"color: #ffff00; text-decoration-color: #ffff00\">00e58aaf-7460-4a80-996a-8c9cbcbe09c8</span>-<span style=\"color: #008080; text-decoration-color: #008080; font-weight: bold\">0.</span>parquet\n",
       "num_rows =    <span style=\"color: #008080; text-decoration-color: #008080; font-weight: bold\">10000</span>   <span style=\"color: #008080; text-decoration-color: #008080; font-weight: bold\">2020</span>-<span style=\"color: #008080; text-decoration-color: #008080; font-weight: bold\">06</span>-<span style=\"color: #008080; text-decoration-color: #008080; font-weight: bold\">04</span> <span style=\"color: #00ff00; text-decoration-color: #00ff00; font-weight: bold\">18:00:00</span> <span style=\"color: #008080; text-decoration-color: #008080; font-weight: bold\">2020</span>-<span style=\"color: #008080; text-decoration-color: #008080; font-weight: bold\">06</span>-<span style=\"color: #008080; text-decoration-color: #008080; font-weight: bold\">04</span> <span style=\"color: #00ff00; text-decoration-color: #00ff00; font-weight: bold\">19:59:59</span>.<span style=\"color: #008080; text-decoration-color: #008080; font-weight: bold\">280000</span>\n",
       "</pre>\n"
      ],
      "text/plain": [
       "\n",
       "medium_raw_dataset/\u001b[93m00e58aaf-7460-4a80-996a-8c9cbcbe09c8\u001b[0m-\u001b[1;36m0.\u001b[0mparquet\n",
       "num_rows =    \u001b[1;36m10000\u001b[0m   \u001b[1;36m2020\u001b[0m-\u001b[1;36m06\u001b[0m-\u001b[1;36m04\u001b[0m \u001b[1;92m18:00:00\u001b[0m \u001b[1;36m2020\u001b[0m-\u001b[1;36m06\u001b[0m-\u001b[1;36m04\u001b[0m \u001b[1;92m19:59:59\u001b[0m.\u001b[1;36m280000\u001b[0m\n"
      ]
     },
     "metadata": {},
     "output_type": "display_data"
    },
    {
     "data": {
      "text/html": [
       "<pre style=\"white-space:pre;overflow-x:auto;line-height:normal;font-family:Menlo,'DejaVu Sans Mono',consolas,'Courier New',monospace\">\n",
       "medium_raw_dataset/<span style=\"color: #ffff00; text-decoration-color: #ffff00\">00e74613-fd14-4570-b12d-955d5db6bed5</span>-<span style=\"color: #008080; text-decoration-color: #008080; font-weight: bold\">0.</span>parquet\n",
       "num_rows =    <span style=\"color: #008080; text-decoration-color: #008080; font-weight: bold\">10000</span>   <span style=\"color: #008080; text-decoration-color: #008080; font-weight: bold\">2020</span>-<span style=\"color: #008080; text-decoration-color: #008080; font-weight: bold\">07</span>-<span style=\"color: #008080; text-decoration-color: #008080; font-weight: bold\">04</span> <span style=\"color: #00ff00; text-decoration-color: #00ff00; font-weight: bold\">06:00:00</span> <span style=\"color: #008080; text-decoration-color: #008080; font-weight: bold\">2020</span>-<span style=\"color: #008080; text-decoration-color: #008080; font-weight: bold\">07</span>-<span style=\"color: #008080; text-decoration-color: #008080; font-weight: bold\">04</span> <span style=\"color: #00ff00; text-decoration-color: #00ff00; font-weight: bold\">07:59:59</span>.<span style=\"color: #008080; text-decoration-color: #008080; font-weight: bold\">280000</span>\n",
       "</pre>\n"
      ],
      "text/plain": [
       "\n",
       "medium_raw_dataset/\u001b[93m00e74613-fd14-4570-b12d-955d5db6bed5\u001b[0m-\u001b[1;36m0.\u001b[0mparquet\n",
       "num_rows =    \u001b[1;36m10000\u001b[0m   \u001b[1;36m2020\u001b[0m-\u001b[1;36m07\u001b[0m-\u001b[1;36m04\u001b[0m \u001b[1;92m06:00:00\u001b[0m \u001b[1;36m2020\u001b[0m-\u001b[1;36m07\u001b[0m-\u001b[1;36m04\u001b[0m \u001b[1;92m07:59:59\u001b[0m.\u001b[1;36m280000\u001b[0m\n"
      ]
     },
     "metadata": {},
     "output_type": "display_data"
    },
    {
     "data": {
      "text/html": [
       "<pre style=\"white-space:pre;overflow-x:auto;line-height:normal;font-family:Menlo,'DejaVu Sans Mono',consolas,'Courier New',monospace\">\n",
       "medium_raw_dataset/<span style=\"color: #ffff00; text-decoration-color: #ffff00\">01022a03-9bef-4558-b942-cb30a9fc3b7f</span>-<span style=\"color: #008080; text-decoration-color: #008080; font-weight: bold\">0.</span>parquet\n",
       "num_rows =    <span style=\"color: #008080; text-decoration-color: #008080; font-weight: bold\">10000</span>   <span style=\"color: #008080; text-decoration-color: #008080; font-weight: bold\">2020</span>-<span style=\"color: #008080; text-decoration-color: #008080; font-weight: bold\">04</span>-<span style=\"color: #008080; text-decoration-color: #008080; font-weight: bold\">17</span> <span style=\"color: #00ff00; text-decoration-color: #00ff00; font-weight: bold\">04:00:00</span> <span style=\"color: #008080; text-decoration-color: #008080; font-weight: bold\">2020</span>-<span style=\"color: #008080; text-decoration-color: #008080; font-weight: bold\">04</span>-<span style=\"color: #008080; text-decoration-color: #008080; font-weight: bold\">17</span> <span style=\"color: #00ff00; text-decoration-color: #00ff00; font-weight: bold\">05:59:59</span>.<span style=\"color: #008080; text-decoration-color: #008080; font-weight: bold\">280000</span>\n",
       "</pre>\n"
      ],
      "text/plain": [
       "\n",
       "medium_raw_dataset/\u001b[93m01022a03-9bef-4558-b942-cb30a9fc3b7f\u001b[0m-\u001b[1;36m0.\u001b[0mparquet\n",
       "num_rows =    \u001b[1;36m10000\u001b[0m   \u001b[1;36m2020\u001b[0m-\u001b[1;36m04\u001b[0m-\u001b[1;36m17\u001b[0m \u001b[1;92m04:00:00\u001b[0m \u001b[1;36m2020\u001b[0m-\u001b[1;36m04\u001b[0m-\u001b[1;36m17\u001b[0m \u001b[1;92m05:59:59\u001b[0m.\u001b[1;36m280000\u001b[0m\n"
      ]
     },
     "metadata": {},
     "output_type": "display_data"
    },
    {
     "data": {
      "text/html": [
       "<pre style=\"white-space:pre;overflow-x:auto;line-height:normal;font-family:Menlo,'DejaVu Sans Mono',consolas,'Courier New',monospace\">\n",
       "medium_raw_dataset/<span style=\"color: #ffff00; text-decoration-color: #ffff00\">010907d0-f4dc-46be-b3fd-e8a73c10b2e4</span>-<span style=\"color: #008080; text-decoration-color: #008080; font-weight: bold\">0.</span>parquet\n",
       "num_rows =    <span style=\"color: #008080; text-decoration-color: #008080; font-weight: bold\">10000</span>   <span style=\"color: #008080; text-decoration-color: #008080; font-weight: bold\">2020</span>-<span style=\"color: #008080; text-decoration-color: #008080; font-weight: bold\">01</span>-<span style=\"color: #008080; text-decoration-color: #008080; font-weight: bold\">31</span> <span style=\"color: #00ff00; text-decoration-color: #00ff00; font-weight: bold\">08:00:00</span> <span style=\"color: #008080; text-decoration-color: #008080; font-weight: bold\">2020</span>-<span style=\"color: #008080; text-decoration-color: #008080; font-weight: bold\">01</span>-<span style=\"color: #008080; text-decoration-color: #008080; font-weight: bold\">31</span> <span style=\"color: #00ff00; text-decoration-color: #00ff00; font-weight: bold\">09:59:59</span>.<span style=\"color: #008080; text-decoration-color: #008080; font-weight: bold\">280000</span>\n",
       "</pre>\n"
      ],
      "text/plain": [
       "\n",
       "medium_raw_dataset/\u001b[93m010907d0-f4dc-46be-b3fd-e8a73c10b2e4\u001b[0m-\u001b[1;36m0.\u001b[0mparquet\n",
       "num_rows =    \u001b[1;36m10000\u001b[0m   \u001b[1;36m2020\u001b[0m-\u001b[1;36m01\u001b[0m-\u001b[1;36m31\u001b[0m \u001b[1;92m08:00:00\u001b[0m \u001b[1;36m2020\u001b[0m-\u001b[1;36m01\u001b[0m-\u001b[1;36m31\u001b[0m \u001b[1;92m09:59:59\u001b[0m.\u001b[1;36m280000\u001b[0m\n"
      ]
     },
     "metadata": {},
     "output_type": "display_data"
    },
    {
     "data": {
      "text/html": [
       "<pre style=\"white-space:pre;overflow-x:auto;line-height:normal;font-family:Menlo,'DejaVu Sans Mono',consolas,'Courier New',monospace\">\n",
       "medium_raw_dataset/<span style=\"color: #ffff00; text-decoration-color: #ffff00\">010a44e6-a566-4849-bcbc-c49c749800b8</span>-<span style=\"color: #008080; text-decoration-color: #008080; font-weight: bold\">0.</span>parquet\n",
       "num_rows =    <span style=\"color: #008080; text-decoration-color: #008080; font-weight: bold\">10000</span>   <span style=\"color: #008080; text-decoration-color: #008080; font-weight: bold\">2020</span>-<span style=\"color: #008080; text-decoration-color: #008080; font-weight: bold\">07</span>-<span style=\"color: #008080; text-decoration-color: #008080; font-weight: bold\">11</span> <span style=\"color: #00ff00; text-decoration-color: #00ff00; font-weight: bold\">22:00:00</span> <span style=\"color: #008080; text-decoration-color: #008080; font-weight: bold\">2020</span>-<span style=\"color: #008080; text-decoration-color: #008080; font-weight: bold\">07</span>-<span style=\"color: #008080; text-decoration-color: #008080; font-weight: bold\">11</span> <span style=\"color: #00ff00; text-decoration-color: #00ff00; font-weight: bold\">23:59:59</span>.<span style=\"color: #008080; text-decoration-color: #008080; font-weight: bold\">280000</span>\n",
       "</pre>\n"
      ],
      "text/plain": [
       "\n",
       "medium_raw_dataset/\u001b[93m010a44e6-a566-4849-bcbc-c49c749800b8\u001b[0m-\u001b[1;36m0.\u001b[0mparquet\n",
       "num_rows =    \u001b[1;36m10000\u001b[0m   \u001b[1;36m2020\u001b[0m-\u001b[1;36m07\u001b[0m-\u001b[1;36m11\u001b[0m \u001b[1;92m22:00:00\u001b[0m \u001b[1;36m2020\u001b[0m-\u001b[1;36m07\u001b[0m-\u001b[1;36m11\u001b[0m \u001b[1;92m23:59:59\u001b[0m.\u001b[1;36m280000\u001b[0m\n"
      ]
     },
     "metadata": {},
     "output_type": "display_data"
    },
    {
     "data": {
      "text/html": [
       "<pre style=\"white-space:pre;overflow-x:auto;line-height:normal;font-family:Menlo,'DejaVu Sans Mono',consolas,'Courier New',monospace\">\n",
       "medium_raw_dataset/<span style=\"color: #ffff00; text-decoration-color: #ffff00\">011fce0b-7af6-4a73-8ca9-477d0f5b7f79</span>-<span style=\"color: #008080; text-decoration-color: #008080; font-weight: bold\">0.</span>parquet\n",
       "num_rows =    <span style=\"color: #008080; text-decoration-color: #008080; font-weight: bold\">10000</span>   <span style=\"color: #008080; text-decoration-color: #008080; font-weight: bold\">2020</span>-<span style=\"color: #008080; text-decoration-color: #008080; font-weight: bold\">08</span>-<span style=\"color: #008080; text-decoration-color: #008080; font-weight: bold\">26</span> <span style=\"color: #00ff00; text-decoration-color: #00ff00; font-weight: bold\">22:00:00</span> <span style=\"color: #008080; text-decoration-color: #008080; font-weight: bold\">2020</span>-<span style=\"color: #008080; text-decoration-color: #008080; font-weight: bold\">08</span>-<span style=\"color: #008080; text-decoration-color: #008080; font-weight: bold\">26</span> <span style=\"color: #00ff00; text-decoration-color: #00ff00; font-weight: bold\">23:59:59</span>.<span style=\"color: #008080; text-decoration-color: #008080; font-weight: bold\">280000</span>\n",
       "</pre>\n"
      ],
      "text/plain": [
       "\n",
       "medium_raw_dataset/\u001b[93m011fce0b-7af6-4a73-8ca9-477d0f5b7f79\u001b[0m-\u001b[1;36m0.\u001b[0mparquet\n",
       "num_rows =    \u001b[1;36m10000\u001b[0m   \u001b[1;36m2020\u001b[0m-\u001b[1;36m08\u001b[0m-\u001b[1;36m26\u001b[0m \u001b[1;92m22:00:00\u001b[0m \u001b[1;36m2020\u001b[0m-\u001b[1;36m08\u001b[0m-\u001b[1;36m26\u001b[0m \u001b[1;92m23:59:59\u001b[0m.\u001b[1;36m280000\u001b[0m\n"
      ]
     },
     "metadata": {},
     "output_type": "display_data"
    },
    {
     "data": {
      "text/html": [
       "<pre style=\"white-space:pre;overflow-x:auto;line-height:normal;font-family:Menlo,'DejaVu Sans Mono',consolas,'Courier New',monospace\">\n",
       "medium_raw_dataset/<span style=\"color: #ffff00; text-decoration-color: #ffff00\">01605047-daaf-4a79-a8db-fa62a22146ca</span>-<span style=\"color: #008080; text-decoration-color: #008080; font-weight: bold\">0.</span>parquet\n",
       "num_rows =    <span style=\"color: #008080; text-decoration-color: #008080; font-weight: bold\">10000</span>   <span style=\"color: #008080; text-decoration-color: #008080; font-weight: bold\">2020</span>-<span style=\"color: #008080; text-decoration-color: #008080; font-weight: bold\">07</span>-<span style=\"color: #008080; text-decoration-color: #008080; font-weight: bold\">13</span> <span style=\"color: #00ff00; text-decoration-color: #00ff00; font-weight: bold\">06:00:00</span> <span style=\"color: #008080; text-decoration-color: #008080; font-weight: bold\">2020</span>-<span style=\"color: #008080; text-decoration-color: #008080; font-weight: bold\">07</span>-<span style=\"color: #008080; text-decoration-color: #008080; font-weight: bold\">13</span> <span style=\"color: #00ff00; text-decoration-color: #00ff00; font-weight: bold\">07:59:59</span>.<span style=\"color: #008080; text-decoration-color: #008080; font-weight: bold\">280000</span>\n",
       "</pre>\n"
      ],
      "text/plain": [
       "\n",
       "medium_raw_dataset/\u001b[93m01605047-daaf-4a79-a8db-fa62a22146ca\u001b[0m-\u001b[1;36m0.\u001b[0mparquet\n",
       "num_rows =    \u001b[1;36m10000\u001b[0m   \u001b[1;36m2020\u001b[0m-\u001b[1;36m07\u001b[0m-\u001b[1;36m13\u001b[0m \u001b[1;92m06:00:00\u001b[0m \u001b[1;36m2020\u001b[0m-\u001b[1;36m07\u001b[0m-\u001b[1;36m13\u001b[0m \u001b[1;92m07:59:59\u001b[0m.\u001b[1;36m280000\u001b[0m\n"
      ]
     },
     "metadata": {},
     "output_type": "display_data"
    },
    {
     "data": {
      "text/html": [
       "<pre style=\"white-space:pre;overflow-x:auto;line-height:normal;font-family:Menlo,'DejaVu Sans Mono',consolas,'Courier New',monospace\">\n",
       "medium_raw_dataset/<span style=\"color: #ffff00; text-decoration-color: #ffff00\">01696c66-dfad-48ea-9a28-ed48de4dba8b</span>-<span style=\"color: #008080; text-decoration-color: #008080; font-weight: bold\">0.</span>parquet\n",
       "num_rows =    <span style=\"color: #008080; text-decoration-color: #008080; font-weight: bold\">10000</span>   <span style=\"color: #008080; text-decoration-color: #008080; font-weight: bold\">2020</span>-<span style=\"color: #008080; text-decoration-color: #008080; font-weight: bold\">05</span>-<span style=\"color: #008080; text-decoration-color: #008080; font-weight: bold\">18</span> <span style=\"color: #00ff00; text-decoration-color: #00ff00; font-weight: bold\">10:00:00</span> <span style=\"color: #008080; text-decoration-color: #008080; font-weight: bold\">2020</span>-<span style=\"color: #008080; text-decoration-color: #008080; font-weight: bold\">05</span>-<span style=\"color: #008080; text-decoration-color: #008080; font-weight: bold\">18</span> <span style=\"color: #00ff00; text-decoration-color: #00ff00; font-weight: bold\">11:59:59</span>.<span style=\"color: #008080; text-decoration-color: #008080; font-weight: bold\">280000</span>\n",
       "</pre>\n"
      ],
      "text/plain": [
       "\n",
       "medium_raw_dataset/\u001b[93m01696c66-dfad-48ea-9a28-ed48de4dba8b\u001b[0m-\u001b[1;36m0.\u001b[0mparquet\n",
       "num_rows =    \u001b[1;36m10000\u001b[0m   \u001b[1;36m2020\u001b[0m-\u001b[1;36m05\u001b[0m-\u001b[1;36m18\u001b[0m \u001b[1;92m10:00:00\u001b[0m \u001b[1;36m2020\u001b[0m-\u001b[1;36m05\u001b[0m-\u001b[1;36m18\u001b[0m \u001b[1;92m11:59:59\u001b[0m.\u001b[1;36m280000\u001b[0m\n"
      ]
     },
     "metadata": {},
     "output_type": "display_data"
    },
    {
     "data": {
      "text/html": [
       "<pre style=\"white-space:pre;overflow-x:auto;line-height:normal;font-family:Menlo,'DejaVu Sans Mono',consolas,'Courier New',monospace\">\n",
       "medium_raw_dataset/<span style=\"color: #ffff00; text-decoration-color: #ffff00\">01710347-b4d0-4a4b-859c-428d3b4a9704</span>-<span style=\"color: #008080; text-decoration-color: #008080; font-weight: bold\">0.</span>parquet\n",
       "num_rows =    <span style=\"color: #008080; text-decoration-color: #008080; font-weight: bold\">10000</span>   <span style=\"color: #008080; text-decoration-color: #008080; font-weight: bold\">2020</span>-<span style=\"color: #008080; text-decoration-color: #008080; font-weight: bold\">04</span>-<span style=\"color: #008080; text-decoration-color: #008080; font-weight: bold\">11</span> <span style=\"color: #00ff00; text-decoration-color: #00ff00; font-weight: bold\">16:00:00</span> <span style=\"color: #008080; text-decoration-color: #008080; font-weight: bold\">2020</span>-<span style=\"color: #008080; text-decoration-color: #008080; font-weight: bold\">04</span>-<span style=\"color: #008080; text-decoration-color: #008080; font-weight: bold\">11</span> <span style=\"color: #00ff00; text-decoration-color: #00ff00; font-weight: bold\">17:59:59</span>.<span style=\"color: #008080; text-decoration-color: #008080; font-weight: bold\">280000</span>\n",
       "</pre>\n"
      ],
      "text/plain": [
       "\n",
       "medium_raw_dataset/\u001b[93m01710347-b4d0-4a4b-859c-428d3b4a9704\u001b[0m-\u001b[1;36m0.\u001b[0mparquet\n",
       "num_rows =    \u001b[1;36m10000\u001b[0m   \u001b[1;36m2020\u001b[0m-\u001b[1;36m04\u001b[0m-\u001b[1;36m11\u001b[0m \u001b[1;92m16:00:00\u001b[0m \u001b[1;36m2020\u001b[0m-\u001b[1;36m04\u001b[0m-\u001b[1;36m11\u001b[0m \u001b[1;92m17:59:59\u001b[0m.\u001b[1;36m280000\u001b[0m\n"
      ]
     },
     "metadata": {},
     "output_type": "display_data"
    },
    {
     "data": {
      "text/html": [
       "<pre style=\"white-space:pre;overflow-x:auto;line-height:normal;font-family:Menlo,'DejaVu Sans Mono',consolas,'Courier New',monospace\">\n",
       "medium_raw_dataset/<span style=\"color: #ffff00; text-decoration-color: #ffff00\">017b0666-e51f-4853-8ae6-a4bb7fe88f44</span>-<span style=\"color: #008080; text-decoration-color: #008080; font-weight: bold\">0.</span>parquet\n",
       "num_rows =    <span style=\"color: #008080; text-decoration-color: #008080; font-weight: bold\">10000</span>   <span style=\"color: #008080; text-decoration-color: #008080; font-weight: bold\">2020</span>-<span style=\"color: #008080; text-decoration-color: #008080; font-weight: bold\">02</span>-<span style=\"color: #008080; text-decoration-color: #008080; font-weight: bold\">02</span> <span style=\"color: #00ff00; text-decoration-color: #00ff00; font-weight: bold\">22:00:00</span> <span style=\"color: #008080; text-decoration-color: #008080; font-weight: bold\">2020</span>-<span style=\"color: #008080; text-decoration-color: #008080; font-weight: bold\">02</span>-<span style=\"color: #008080; text-decoration-color: #008080; font-weight: bold\">02</span> <span style=\"color: #00ff00; text-decoration-color: #00ff00; font-weight: bold\">23:59:59</span>.<span style=\"color: #008080; text-decoration-color: #008080; font-weight: bold\">280000</span>\n",
       "</pre>\n"
      ],
      "text/plain": [
       "\n",
       "medium_raw_dataset/\u001b[93m017b0666-e51f-4853-8ae6-a4bb7fe88f44\u001b[0m-\u001b[1;36m0.\u001b[0mparquet\n",
       "num_rows =    \u001b[1;36m10000\u001b[0m   \u001b[1;36m2020\u001b[0m-\u001b[1;36m02\u001b[0m-\u001b[1;36m02\u001b[0m \u001b[1;92m22:00:00\u001b[0m \u001b[1;36m2020\u001b[0m-\u001b[1;36m02\u001b[0m-\u001b[1;36m02\u001b[0m \u001b[1;92m23:59:59\u001b[0m.\u001b[1;36m280000\u001b[0m\n"
      ]
     },
     "metadata": {},
     "output_type": "display_data"
    },
    {
     "data": {
      "text/html": [
       "<pre style=\"white-space:pre;overflow-x:auto;line-height:normal;font-family:Menlo,'DejaVu Sans Mono',consolas,'Courier New',monospace\">\n",
       "medium_raw_dataset/<span style=\"color: #ffff00; text-decoration-color: #ffff00\">018510a0-8fdf-4a4d-bca0-34de021913a5</span>-<span style=\"color: #008080; text-decoration-color: #008080; font-weight: bold\">0.</span>parquet\n",
       "num_rows =    <span style=\"color: #008080; text-decoration-color: #008080; font-weight: bold\">10000</span>   <span style=\"color: #008080; text-decoration-color: #008080; font-weight: bold\">2020</span>-<span style=\"color: #008080; text-decoration-color: #008080; font-weight: bold\">03</span>-<span style=\"color: #008080; text-decoration-color: #008080; font-weight: bold\">01</span> <span style=\"color: #00ff00; text-decoration-color: #00ff00; font-weight: bold\">08:00:00</span> <span style=\"color: #008080; text-decoration-color: #008080; font-weight: bold\">2020</span>-<span style=\"color: #008080; text-decoration-color: #008080; font-weight: bold\">03</span>-<span style=\"color: #008080; text-decoration-color: #008080; font-weight: bold\">01</span> <span style=\"color: #00ff00; text-decoration-color: #00ff00; font-weight: bold\">09:59:59</span>.<span style=\"color: #008080; text-decoration-color: #008080; font-weight: bold\">280000</span>\n",
       "</pre>\n"
      ],
      "text/plain": [
       "\n",
       "medium_raw_dataset/\u001b[93m018510a0-8fdf-4a4d-bca0-34de021913a5\u001b[0m-\u001b[1;36m0.\u001b[0mparquet\n",
       "num_rows =    \u001b[1;36m10000\u001b[0m   \u001b[1;36m2020\u001b[0m-\u001b[1;36m03\u001b[0m-\u001b[1;36m01\u001b[0m \u001b[1;92m08:00:00\u001b[0m \u001b[1;36m2020\u001b[0m-\u001b[1;36m03\u001b[0m-\u001b[1;36m01\u001b[0m \u001b[1;92m09:59:59\u001b[0m.\u001b[1;36m280000\u001b[0m\n"
      ]
     },
     "metadata": {},
     "output_type": "display_data"
    },
    {
     "data": {
      "text/html": [
       "<pre style=\"white-space:pre;overflow-x:auto;line-height:normal;font-family:Menlo,'DejaVu Sans Mono',consolas,'Courier New',monospace\">\n",
       "medium_raw_dataset/<span style=\"color: #ffff00; text-decoration-color: #ffff00\">01993c0a-eecf-4649-8d5a-6f9af83c3414</span>-<span style=\"color: #008080; text-decoration-color: #008080; font-weight: bold\">0.</span>parquet\n",
       "num_rows =    <span style=\"color: #008080; text-decoration-color: #008080; font-weight: bold\">10000</span>   <span style=\"color: #008080; text-decoration-color: #008080; font-weight: bold\">2020</span>-<span style=\"color: #008080; text-decoration-color: #008080; font-weight: bold\">05</span>-<span style=\"color: #008080; text-decoration-color: #008080; font-weight: bold\">22</span> <span style=\"color: #00ff00; text-decoration-color: #00ff00; font-weight: bold\">12:00:00</span> <span style=\"color: #008080; text-decoration-color: #008080; font-weight: bold\">2020</span>-<span style=\"color: #008080; text-decoration-color: #008080; font-weight: bold\">05</span>-<span style=\"color: #008080; text-decoration-color: #008080; font-weight: bold\">22</span> <span style=\"color: #00ff00; text-decoration-color: #00ff00; font-weight: bold\">13:59:59</span>.<span style=\"color: #008080; text-decoration-color: #008080; font-weight: bold\">280000</span>\n",
       "</pre>\n"
      ],
      "text/plain": [
       "\n",
       "medium_raw_dataset/\u001b[93m01993c0a-eecf-4649-8d5a-6f9af83c3414\u001b[0m-\u001b[1;36m0.\u001b[0mparquet\n",
       "num_rows =    \u001b[1;36m10000\u001b[0m   \u001b[1;36m2020\u001b[0m-\u001b[1;36m05\u001b[0m-\u001b[1;36m22\u001b[0m \u001b[1;92m12:00:00\u001b[0m \u001b[1;36m2020\u001b[0m-\u001b[1;36m05\u001b[0m-\u001b[1;36m22\u001b[0m \u001b[1;92m13:59:59\u001b[0m.\u001b[1;36m280000\u001b[0m\n"
      ]
     },
     "metadata": {},
     "output_type": "display_data"
    },
    {
     "data": {
      "text/html": [
       "<pre style=\"white-space:pre;overflow-x:auto;line-height:normal;font-family:Menlo,'DejaVu Sans Mono',consolas,'Courier New',monospace\">\n",
       "medium_raw_dataset/<span style=\"color: #ffff00; text-decoration-color: #ffff00\">01bb7ff4-d412-4bc3-84cb-544eb38ae5ca</span>-<span style=\"color: #008080; text-decoration-color: #008080; font-weight: bold\">0.</span>parquet\n",
       "num_rows =    <span style=\"color: #008080; text-decoration-color: #008080; font-weight: bold\">10000</span>   <span style=\"color: #008080; text-decoration-color: #008080; font-weight: bold\">2020</span>-<span style=\"color: #008080; text-decoration-color: #008080; font-weight: bold\">06</span>-<span style=\"color: #008080; text-decoration-color: #008080; font-weight: bold\">28</span> <span style=\"color: #00ff00; text-decoration-color: #00ff00; font-weight: bold\">20:00:00</span> <span style=\"color: #008080; text-decoration-color: #008080; font-weight: bold\">2020</span>-<span style=\"color: #008080; text-decoration-color: #008080; font-weight: bold\">06</span>-<span style=\"color: #008080; text-decoration-color: #008080; font-weight: bold\">28</span> <span style=\"color: #00ff00; text-decoration-color: #00ff00; font-weight: bold\">21:59:59</span>.<span style=\"color: #008080; text-decoration-color: #008080; font-weight: bold\">280000</span>\n",
       "</pre>\n"
      ],
      "text/plain": [
       "\n",
       "medium_raw_dataset/\u001b[93m01bb7ff4-d412-4bc3-84cb-544eb38ae5ca\u001b[0m-\u001b[1;36m0.\u001b[0mparquet\n",
       "num_rows =    \u001b[1;36m10000\u001b[0m   \u001b[1;36m2020\u001b[0m-\u001b[1;36m06\u001b[0m-\u001b[1;36m28\u001b[0m \u001b[1;92m20:00:00\u001b[0m \u001b[1;36m2020\u001b[0m-\u001b[1;36m06\u001b[0m-\u001b[1;36m28\u001b[0m \u001b[1;92m21:59:59\u001b[0m.\u001b[1;36m280000\u001b[0m\n"
      ]
     },
     "metadata": {},
     "output_type": "display_data"
    }
   ],
   "source": [
    "for i, fragment in enumerate(dataset.get_fragments()):\n",
    "    datetime = fragment.to_table().column('datetime')\n",
    "    rprint(f'\\n{fragment.path}\\nnum_rows = {fragment.count_rows():8d}  ', \n",
    "           pc.min(datetime).as_py(), pc.max(datetime).as_py())\n",
    "    if i > 20: break"
   ]
  },
  {
   "cell_type": "code",
   "execution_count": 8,
   "id": "bd4e616d",
   "metadata": {},
   "outputs": [
    {
     "data": {
      "text/plain": [
       "(3000,\n",
       " 30000000,\n",
       " [10000,\n",
       "  10000,\n",
       "  10000,\n",
       "  10000,\n",
       "  10000,\n",
       "  10000,\n",
       "  10000,\n",
       "  10000,\n",
       "  10000,\n",
       "  10000,\n",
       "  10000,\n",
       "  10000,\n",
       "  10000,\n",
       "  10000,\n",
       "  10000,\n",
       "  10000,\n",
       "  10000,\n",
       "  10000,\n",
       "  10000,\n",
       "  10000])"
      ]
     },
     "execution_count": 8,
     "metadata": {},
     "output_type": "execute_result"
    }
   ],
   "source": [
    "batch_rows = [batch.num_rows for batch in dataset.to_batches()]\n",
    "len(batch_rows), sum(batch_rows), batch_rows[:20]"
   ]
  },
  {
   "cell_type": "markdown",
   "id": "33cdb773",
   "metadata": {},
   "source": [
    "# Pandas"
   ]
  },
  {
   "cell_type": "code",
   "execution_count": 13,
   "id": "1bde15ac",
   "metadata": {},
   "outputs": [],
   "source": [
    "import pandas as pd"
   ]
  },
  {
   "cell_type": "code",
   "execution_count": 17,
   "id": "a8ffa387",
   "metadata": {},
   "outputs": [],
   "source": [
    "pd.options.display.max_columns = 10"
   ]
  },
  {
   "cell_type": "code",
   "execution_count": 20,
   "id": "0b892af0",
   "metadata": {},
   "outputs": [
    {
     "data": {
      "text/html": [
       "<div>\n",
       "<style scoped>\n",
       "    .dataframe tbody tr th:only-of-type {\n",
       "        vertical-align: middle;\n",
       "    }\n",
       "\n",
       "    .dataframe tbody tr th {\n",
       "        vertical-align: top;\n",
       "    }\n",
       "\n",
       "    .dataframe thead th {\n",
       "        text-align: right;\n",
       "    }\n",
       "</style>\n",
       "<table border=\"1\" class=\"dataframe\">\n",
       "  <thead>\n",
       "    <tr style=\"text-align: right;\">\n",
       "      <th></th>\n",
       "      <th>datetime</th>\n",
       "      <th>day</th>\n",
       "      <th>cat_col_00</th>\n",
       "      <th>cat_col_01</th>\n",
       "      <th>cat_col_02</th>\n",
       "      <th>...</th>\n",
       "      <th>num_col_06</th>\n",
       "      <th>num_col_07</th>\n",
       "      <th>num_col_08</th>\n",
       "      <th>num_col_09</th>\n",
       "      <th>batch</th>\n",
       "    </tr>\n",
       "  </thead>\n",
       "  <tbody>\n",
       "    <tr>\n",
       "      <th>0</th>\n",
       "      <td>2020-07-03 00:00:00.000</td>\n",
       "      <td>3</td>\n",
       "      <td>bar</td>\n",
       "      <td>blue</td>\n",
       "      <td>buzz</td>\n",
       "      <td>...</td>\n",
       "      <td>0.536976</td>\n",
       "      <td>0.507144</td>\n",
       "      <td>-1.246614</td>\n",
       "      <td>-0.965712</td>\n",
       "      <td>184</td>\n",
       "    </tr>\n",
       "    <tr>\n",
       "      <th>1</th>\n",
       "      <td>2020-07-03 00:00:08.640</td>\n",
       "      <td>3</td>\n",
       "      <td>bar</td>\n",
       "      <td>blue</td>\n",
       "      <td>fizz</td>\n",
       "      <td>...</td>\n",
       "      <td>0.362366</td>\n",
       "      <td>-0.762011</td>\n",
       "      <td>-1.382013</td>\n",
       "      <td>0.386791</td>\n",
       "      <td>184</td>\n",
       "    </tr>\n",
       "    <tr>\n",
       "      <th>2</th>\n",
       "      <td>2020-07-03 00:00:17.280</td>\n",
       "      <td>3</td>\n",
       "      <td>foo</td>\n",
       "      <td>red</td>\n",
       "      <td>buzz</td>\n",
       "      <td>...</td>\n",
       "      <td>-1.741320</td>\n",
       "      <td>0.512184</td>\n",
       "      <td>0.341179</td>\n",
       "      <td>-1.665207</td>\n",
       "      <td>184</td>\n",
       "    </tr>\n",
       "  </tbody>\n",
       "</table>\n",
       "<p>3 rows × 16 columns</p>\n",
       "</div>"
      ],
      "text/plain": [
       "                 datetime  day cat_col_00 cat_col_01 cat_col_02  ...  \\\n",
       "0 2020-07-03 00:00:00.000    3        bar       blue       buzz  ...   \n",
       "1 2020-07-03 00:00:08.640    3        bar       blue       fizz  ...   \n",
       "2 2020-07-03 00:00:17.280    3        foo        red       buzz  ...   \n",
       "\n",
       "   num_col_06  num_col_07  num_col_08  num_col_09  batch  \n",
       "0    0.536976    0.507144   -1.246614   -0.965712    184  \n",
       "1    0.362366   -0.762011   -1.382013    0.386791    184  \n",
       "2   -1.741320    0.512184    0.341179   -1.665207    184  \n",
       "\n",
       "[3 rows x 16 columns]"
      ]
     },
     "execution_count": 20,
     "metadata": {},
     "output_type": "execute_result"
    }
   ],
   "source": [
    "df = dataset.to_table().to_pandas()\n",
    "df.head(3)"
   ]
  },
  {
   "cell_type": "markdown",
   "id": "39e51b1a",
   "metadata": {},
   "source": [
    "\n",
    "A pointer to a single parquet file"
   ]
  },
  {
   "cell_type": "code",
   "execution_count": null,
   "id": "864ed59c",
   "metadata": {
    "lines_to_next_cell": 0
   },
   "outputs": [],
   "source": [
    "parquet_file = pq.ParquetFile(path)\n",
    "rprint(f'* Parquet File Schema:\\n{parquet_file.schema}\\n')\n",
    "rprint(f'* Parquet File Metadata:\\n{parquet_file.metadata}\\n')"
   ]
  },
  {
   "cell_type": "code",
   "execution_count": null,
   "id": "e9a63aa1",
   "metadata": {},
   "outputs": [],
   "source": []
  }
 ],
 "metadata": {
  "interpreter": {
   "hash": "5fd27200fc76fd1ac14b85cadd2a1e75230a9fa5a037d1ebc77cb53d0d127a04"
  },
  "jupytext": {
   "cell_metadata_filter": "-all",
   "main_language": "python",
   "notebook_metadata_filter": "-all"
  },
  "kernelspec": {
   "display_name": "Python 3 (ipykernel)",
   "language": "python",
   "name": "python3"
  },
  "language_info": {
   "codemirror_mode": {
    "name": "ipython",
    "version": 3
   },
   "file_extension": ".py",
   "mimetype": "text/x-python",
   "name": "python",
   "nbconvert_exporter": "python",
   "pygments_lexer": "ipython3",
   "version": "3.10.4"
  }
 },
 "nbformat": 4,
 "nbformat_minor": 5
}
